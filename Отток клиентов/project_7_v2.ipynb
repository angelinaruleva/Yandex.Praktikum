{
 "cells": [
  {
   "cell_type": "markdown",
   "id": "17ec105c",
   "metadata": {},
   "source": [
    "# Отток клиентов"
   ]
  },
  {
   "cell_type": "markdown",
   "id": "e96e2889",
   "metadata": {},
   "source": [
    "## Описание проекта\n",
    "Из «Бета-Банка» стали уходить клиенты. Каждый месяц. Немного, но заметно. Банковские маркетологи посчитали: сохранять текущих клиентов дешевле, чем привлекать новых.\n",
    "Нужно спрогнозировать, уйдёт клиент из банка в ближайшее время или нет. Вам предоставлены исторические данные о поведении клиентов и расторжении договоров с банком.\n",
    "Постройте модель с предельно большим значением F1-меры. Чтобы сдать проект успешно, нужно довести метрику до 0.59. Проверьте F1-меру на тестовой выборке самостоятельно."
   ]
  },
  {
   "cell_type": "markdown",
   "id": "2a47c076",
   "metadata": {},
   "source": [
    "**Цель исследования** - построить систему, способную спрогнозировать, уйдёт клиент из банка в ближайшее время или нет."
   ]
  },
  {
   "cell_type": "markdown",
   "id": "bffc6287",
   "metadata": {},
   "source": [
    "### Описание данных\n",
    "\n",
    "Признаки:\n",
    "\n",
    "- `RowNumber` — индекс строки в данных\n",
    "- `CustomerId` — уникальный идентификатор клиента\n",
    "- `Surname` — фамилия\n",
    "- `CreditScore` — кредитный рейтинг\n",
    "- `Geography` — страна проживания\n",
    "- `Gender` — пол\n",
    "- `Age` — возраст\n",
    "- `Tenure` — сколько лет человек является клиентом банка\n",
    "- `Balance` — баланс на счёте\n",
    "- `NumOfProducts` — количество продуктов банка, используемых клиентом\n",
    "- `HasCrCard` — наличие кредитной карты\n",
    "- `IsActiveMember` — активность клиента\n",
    "- `EstimatedSalary` — предполагаемая зарплата\n",
    "\n",
    "Целевой признак:\n",
    "\n",
    "- `Exited ` — факт ухода клиента"
   ]
  },
  {
   "cell_type": "markdown",
   "id": "b8e7f897",
   "metadata": {},
   "source": [
    "## План исследования\n",
    "\n",
    "- [1. Исследовательский анализ данных](#глава1)  \n",
    "    - [1.1 Загрузка данных](#раздел1.1)  \n",
    "    - [1.2 Информациях о клиентах](#раздел1.2)\n",
    "    - [1.3 1.3 Предварительная обработка](#раздел1.3)\n",
    "- [2. Выбор и обучение модели](#глава2)  \n",
    "    - [2.1 Разделение исходных данных на обучающую, валидационную и тестовую выборки](#раздел2.1)  \n",
    "    - [2.2 Модель решающего дерева без учета дисбаланса классов](#раздел2.2)  \n",
    "    - [2.3 Масштабирование признаков](#раздел2.3)\n",
    "    - [2.4 Балансирование классов](#раздел2.4)  \n",
    "    - [2.5 Модель логистической регрессии](#раздел2.5)  \n",
    "    - [2.6 Модель решающего дерева](#раздел2.6)  \n",
    "    - [2.7 Модель случайного леса](#раздел2.7) \n",
    "    - [2.8 Проверка на тестовой выборке](#раздел2.8)\n",
    "- [3. Вывод](#глава3)"
   ]
  },
  {
   "cell_type": "markdown",
   "id": "e9e5b855",
   "metadata": {},
   "source": [
    "<a id='глава1'></a>\n",
    "# 1. Исследовательский анализ данных"
   ]
  },
  {
   "cell_type": "markdown",
   "id": "dc9a4e3f",
   "metadata": {},
   "source": [
    "<a id='раздел1.1'></a>\n",
    "## 1.1 Загрузка данных"
   ]
  },
  {
   "cell_type": "markdown",
   "id": "0ea1fe5f",
   "metadata": {},
   "source": [
    "Выгрузим данные таблицы в следующий датафрейм:"
   ]
  },
  {
   "cell_type": "markdown",
   "id": "2cd21cf2",
   "metadata": {},
   "source": [
    "data - Churn.csv"
   ]
  },
  {
   "cell_type": "code",
   "execution_count": 1,
   "id": "0d51fc49",
   "metadata": {},
   "outputs": [],
   "source": [
    "# Импорт необходимых библиотек\n",
    "import os\n",
    "import pandas as pd\n",
    "import numpy as np\n",
    "import seaborn as sns\n",
    "import matplotlib.pyplot as plt\n",
    "from sklearn.tree import DecisionTreeClassifier\n",
    "from sklearn.ensemble import RandomForestClassifier\n",
    "from sklearn.linear_model import LogisticRegression\n",
    "from sklearn.model_selection import train_test_split\n",
    "from sklearn.metrics import accuracy_score\n",
    "from sklearn.metrics import f1_score\n",
    "from sklearn.utils import shuffle\n",
    "from sklearn.preprocessing import StandardScaler\n",
    "from sklearn.metrics import roc_curve\n",
    "from sklearn.metrics import roc_auc_score\n",
    "pd.options.mode.chained_assignment = None"
   ]
  },
  {
   "cell_type": "code",
   "execution_count": 2,
   "id": "e6aa6319",
   "metadata": {},
   "outputs": [
    {
     "name": "stdout",
     "output_type": "stream",
     "text": [
      "Успешное чтение файлов\n"
     ]
    }
   ],
   "source": [
    "# Загрузка файла данных\n",
    "data_path_local = 'C:/Users/Asus3/Documents/Яндекс.Практикум/projects/data/project_7/Churn.csv'\n",
    "'''\n",
    "#данные локально\n",
    "data_path_local = 'C:/Users/ruleva_ad/Desktop/projects/data/project_7/Churn.csv'\n",
    "data_path_local = 'C:/Users/Maroznik/Documents/dev/Яндекс.Практикум/projects/data/project_7/Churn.csv'\n",
    "'''\n",
    "#данные на сервере\n",
    "data_path_server = '/datasets/Churn.csv'\n",
    "    \n",
    "if os.path.exists(data_path_local):\n",
    "    data = pd.read_csv(data_path_local, sep=',')\n",
    "    print('Успешное чтение файлов')\n",
    "elif os.path.exists(data_path_server):\n",
    "    data = pd.read_csv(data_path_server, sep=',')\n",
    "else:\n",
    "    print('Путь к файлу не найден')"
   ]
  },
  {
   "cell_type": "code",
   "execution_count": 3,
   "id": "973649f5",
   "metadata": {},
   "outputs": [],
   "source": [
    "pd.set_option('display.max_columns', None)"
   ]
  },
  {
   "cell_type": "markdown",
   "id": "68483e7c",
   "metadata": {},
   "source": [
    "<a id='раздел1.2'></a>\n",
    "## 1.2 Информация о клиентах:"
   ]
  },
  {
   "cell_type": "code",
   "execution_count": 4,
   "id": "454d846b",
   "metadata": {},
   "outputs": [
    {
     "data": {
      "text/html": [
       "<div>\n",
       "<style scoped>\n",
       "    .dataframe tbody tr th:only-of-type {\n",
       "        vertical-align: middle;\n",
       "    }\n",
       "\n",
       "    .dataframe tbody tr th {\n",
       "        vertical-align: top;\n",
       "    }\n",
       "\n",
       "    .dataframe thead th {\n",
       "        text-align: right;\n",
       "    }\n",
       "</style>\n",
       "<table border=\"1\" class=\"dataframe\">\n",
       "  <thead>\n",
       "    <tr style=\"text-align: right;\">\n",
       "      <th></th>\n",
       "      <th>RowNumber</th>\n",
       "      <th>CustomerId</th>\n",
       "      <th>Surname</th>\n",
       "      <th>CreditScore</th>\n",
       "      <th>Geography</th>\n",
       "      <th>Gender</th>\n",
       "      <th>Age</th>\n",
       "      <th>Tenure</th>\n",
       "      <th>Balance</th>\n",
       "      <th>NumOfProducts</th>\n",
       "      <th>HasCrCard</th>\n",
       "      <th>IsActiveMember</th>\n",
       "      <th>EstimatedSalary</th>\n",
       "      <th>Exited</th>\n",
       "    </tr>\n",
       "  </thead>\n",
       "  <tbody>\n",
       "    <tr>\n",
       "      <th>0</th>\n",
       "      <td>1</td>\n",
       "      <td>15634602</td>\n",
       "      <td>Hargrave</td>\n",
       "      <td>619</td>\n",
       "      <td>France</td>\n",
       "      <td>Female</td>\n",
       "      <td>42</td>\n",
       "      <td>2.0</td>\n",
       "      <td>0.00</td>\n",
       "      <td>1</td>\n",
       "      <td>1</td>\n",
       "      <td>1</td>\n",
       "      <td>101348.88</td>\n",
       "      <td>1</td>\n",
       "    </tr>\n",
       "    <tr>\n",
       "      <th>1</th>\n",
       "      <td>2</td>\n",
       "      <td>15647311</td>\n",
       "      <td>Hill</td>\n",
       "      <td>608</td>\n",
       "      <td>Spain</td>\n",
       "      <td>Female</td>\n",
       "      <td>41</td>\n",
       "      <td>1.0</td>\n",
       "      <td>83807.86</td>\n",
       "      <td>1</td>\n",
       "      <td>0</td>\n",
       "      <td>1</td>\n",
       "      <td>112542.58</td>\n",
       "      <td>0</td>\n",
       "    </tr>\n",
       "    <tr>\n",
       "      <th>2</th>\n",
       "      <td>3</td>\n",
       "      <td>15619304</td>\n",
       "      <td>Onio</td>\n",
       "      <td>502</td>\n",
       "      <td>France</td>\n",
       "      <td>Female</td>\n",
       "      <td>42</td>\n",
       "      <td>8.0</td>\n",
       "      <td>159660.80</td>\n",
       "      <td>3</td>\n",
       "      <td>1</td>\n",
       "      <td>0</td>\n",
       "      <td>113931.57</td>\n",
       "      <td>1</td>\n",
       "    </tr>\n",
       "    <tr>\n",
       "      <th>3</th>\n",
       "      <td>4</td>\n",
       "      <td>15701354</td>\n",
       "      <td>Boni</td>\n",
       "      <td>699</td>\n",
       "      <td>France</td>\n",
       "      <td>Female</td>\n",
       "      <td>39</td>\n",
       "      <td>1.0</td>\n",
       "      <td>0.00</td>\n",
       "      <td>2</td>\n",
       "      <td>0</td>\n",
       "      <td>0</td>\n",
       "      <td>93826.63</td>\n",
       "      <td>0</td>\n",
       "    </tr>\n",
       "    <tr>\n",
       "      <th>4</th>\n",
       "      <td>5</td>\n",
       "      <td>15737888</td>\n",
       "      <td>Mitchell</td>\n",
       "      <td>850</td>\n",
       "      <td>Spain</td>\n",
       "      <td>Female</td>\n",
       "      <td>43</td>\n",
       "      <td>2.0</td>\n",
       "      <td>125510.82</td>\n",
       "      <td>1</td>\n",
       "      <td>1</td>\n",
       "      <td>1</td>\n",
       "      <td>79084.10</td>\n",
       "      <td>0</td>\n",
       "    </tr>\n",
       "  </tbody>\n",
       "</table>\n",
       "</div>"
      ],
      "text/plain": [
       "   RowNumber  CustomerId   Surname  CreditScore Geography  Gender  Age  \\\n",
       "0          1    15634602  Hargrave          619    France  Female   42   \n",
       "1          2    15647311      Hill          608     Spain  Female   41   \n",
       "2          3    15619304      Onio          502    France  Female   42   \n",
       "3          4    15701354      Boni          699    France  Female   39   \n",
       "4          5    15737888  Mitchell          850     Spain  Female   43   \n",
       "\n",
       "   Tenure    Balance  NumOfProducts  HasCrCard  IsActiveMember  \\\n",
       "0     2.0       0.00              1          1               1   \n",
       "1     1.0   83807.86              1          0               1   \n",
       "2     8.0  159660.80              3          1               0   \n",
       "3     1.0       0.00              2          0               0   \n",
       "4     2.0  125510.82              1          1               1   \n",
       "\n",
       "   EstimatedSalary  Exited  \n",
       "0        101348.88       1  \n",
       "1        112542.58       0  \n",
       "2        113931.57       1  \n",
       "3         93826.63       0  \n",
       "4         79084.10       0  "
      ]
     },
     "execution_count": 4,
     "metadata": {},
     "output_type": "execute_result"
    }
   ],
   "source": [
    "data.head()"
   ]
  },
  {
   "cell_type": "code",
   "execution_count": 5,
   "id": "4215e210",
   "metadata": {
    "scrolled": true
   },
   "outputs": [
    {
     "name": "stdout",
     "output_type": "stream",
     "text": [
      "<class 'pandas.core.frame.DataFrame'>\n",
      "RangeIndex: 10000 entries, 0 to 9999\n",
      "Data columns (total 14 columns):\n",
      " #   Column           Non-Null Count  Dtype  \n",
      "---  ------           --------------  -----  \n",
      " 0   RowNumber        10000 non-null  int64  \n",
      " 1   CustomerId       10000 non-null  int64  \n",
      " 2   Surname          10000 non-null  object \n",
      " 3   CreditScore      10000 non-null  int64  \n",
      " 4   Geography        10000 non-null  object \n",
      " 5   Gender           10000 non-null  object \n",
      " 6   Age              10000 non-null  int64  \n",
      " 7   Tenure           9091 non-null   float64\n",
      " 8   Balance          10000 non-null  float64\n",
      " 9   NumOfProducts    10000 non-null  int64  \n",
      " 10  HasCrCard        10000 non-null  int64  \n",
      " 11  IsActiveMember   10000 non-null  int64  \n",
      " 12  EstimatedSalary  10000 non-null  float64\n",
      " 13  Exited           10000 non-null  int64  \n",
      "dtypes: float64(3), int64(8), object(3)\n",
      "memory usage: 1.1+ MB\n"
     ]
    }
   ],
   "source": [
    "data.info()"
   ]
  },
  {
   "cell_type": "markdown",
   "id": "2333664e",
   "metadata": {},
   "source": [
    "### Вывод\n",
    "\n",
    "При первичном изучении датафрейма обнаружены следующие недостатки, которые необходимо устранить:\n",
    "1. Записать названия столбцов по правилам змеиного регистра;\n",
    "2. Избавиться от ненужных столбцов;\n",
    "3. Избавиться от пропусков в столбцах;\n",
    "4. Проверить на наличие дубликатов и удалить их, если они обнаружатся;\n",
    "5. Найти возможные артефакты в столбцах и избавиться от них;\n",
    "6. Преобразовать типы.\n",
    "\n",
    "Целевой признак- `Exited`, категориальный."
   ]
  },
  {
   "cell_type": "markdown",
   "id": "0525dd4d",
   "metadata": {},
   "source": [
    "<a id='раздел1.3'></a>\n",
    "## 1.3 Предварительная обработка"
   ]
  },
  {
   "cell_type": "code",
   "execution_count": 6,
   "id": "caa82d68",
   "metadata": {},
   "outputs": [],
   "source": [
    "# названия столбцов по правилам змеиного регистра\n",
    "data = data.rename(columns= {'CustomerId': 'customer_id', \n",
    "                      'CreditScore': 'credit_score', 'NumOfProducts': 'num_of_products',\n",
    "                      'HasCrCard': 'has_cr_card', 'IsActiveMember': 'is_active_member',\n",
    "                      'EstimatedSalary': 'estimated_salary'})\n",
    "data.columns = data.columns.str.lower()"
   ]
  },
  {
   "cell_type": "code",
   "execution_count": 7,
   "id": "b880214d",
   "metadata": {},
   "outputs": [],
   "source": [
    "# Избавиться от ненужных столбцов\n",
    "data = data.drop(['rownumber', 'surname'], axis=1)"
   ]
  },
  {
   "cell_type": "code",
   "execution_count": 8,
   "id": "8c415af0",
   "metadata": {
    "scrolled": false
   },
   "outputs": [
    {
     "data": {
      "text/html": [
       "<div>\n",
       "<style scoped>\n",
       "    .dataframe tbody tr th:only-of-type {\n",
       "        vertical-align: middle;\n",
       "    }\n",
       "\n",
       "    .dataframe tbody tr th {\n",
       "        vertical-align: top;\n",
       "    }\n",
       "\n",
       "    .dataframe thead th {\n",
       "        text-align: right;\n",
       "    }\n",
       "</style>\n",
       "<table border=\"1\" class=\"dataframe\">\n",
       "  <thead>\n",
       "    <tr style=\"text-align: right;\">\n",
       "      <th></th>\n",
       "      <th>customer_id</th>\n",
       "      <th>credit_score</th>\n",
       "      <th>geography</th>\n",
       "      <th>gender</th>\n",
       "      <th>age</th>\n",
       "      <th>tenure</th>\n",
       "      <th>balance</th>\n",
       "      <th>num_of_products</th>\n",
       "      <th>has_cr_card</th>\n",
       "      <th>is_active_member</th>\n",
       "      <th>estimated_salary</th>\n",
       "      <th>exited</th>\n",
       "    </tr>\n",
       "  </thead>\n",
       "  <tbody>\n",
       "    <tr>\n",
       "      <th>30</th>\n",
       "      <td>15589475</td>\n",
       "      <td>591</td>\n",
       "      <td>Spain</td>\n",
       "      <td>Female</td>\n",
       "      <td>39</td>\n",
       "      <td>NaN</td>\n",
       "      <td>0.00</td>\n",
       "      <td>3</td>\n",
       "      <td>1</td>\n",
       "      <td>0</td>\n",
       "      <td>140469.38</td>\n",
       "      <td>1</td>\n",
       "    </tr>\n",
       "    <tr>\n",
       "      <th>48</th>\n",
       "      <td>15766205</td>\n",
       "      <td>550</td>\n",
       "      <td>Germany</td>\n",
       "      <td>Male</td>\n",
       "      <td>38</td>\n",
       "      <td>NaN</td>\n",
       "      <td>103391.38</td>\n",
       "      <td>1</td>\n",
       "      <td>0</td>\n",
       "      <td>1</td>\n",
       "      <td>90878.13</td>\n",
       "      <td>0</td>\n",
       "    </tr>\n",
       "    <tr>\n",
       "      <th>51</th>\n",
       "      <td>15768193</td>\n",
       "      <td>585</td>\n",
       "      <td>Germany</td>\n",
       "      <td>Male</td>\n",
       "      <td>36</td>\n",
       "      <td>NaN</td>\n",
       "      <td>146050.97</td>\n",
       "      <td>2</td>\n",
       "      <td>0</td>\n",
       "      <td>0</td>\n",
       "      <td>86424.57</td>\n",
       "      <td>0</td>\n",
       "    </tr>\n",
       "    <tr>\n",
       "      <th>53</th>\n",
       "      <td>15702298</td>\n",
       "      <td>655</td>\n",
       "      <td>Germany</td>\n",
       "      <td>Male</td>\n",
       "      <td>41</td>\n",
       "      <td>NaN</td>\n",
       "      <td>125561.97</td>\n",
       "      <td>1</td>\n",
       "      <td>0</td>\n",
       "      <td>0</td>\n",
       "      <td>164040.94</td>\n",
       "      <td>1</td>\n",
       "    </tr>\n",
       "    <tr>\n",
       "      <th>60</th>\n",
       "      <td>15651280</td>\n",
       "      <td>742</td>\n",
       "      <td>Germany</td>\n",
       "      <td>Male</td>\n",
       "      <td>35</td>\n",
       "      <td>NaN</td>\n",
       "      <td>136857.00</td>\n",
       "      <td>1</td>\n",
       "      <td>0</td>\n",
       "      <td>0</td>\n",
       "      <td>84509.57</td>\n",
       "      <td>0</td>\n",
       "    </tr>\n",
       "    <tr>\n",
       "      <th>...</th>\n",
       "      <td>...</td>\n",
       "      <td>...</td>\n",
       "      <td>...</td>\n",
       "      <td>...</td>\n",
       "      <td>...</td>\n",
       "      <td>...</td>\n",
       "      <td>...</td>\n",
       "      <td>...</td>\n",
       "      <td>...</td>\n",
       "      <td>...</td>\n",
       "      <td>...</td>\n",
       "      <td>...</td>\n",
       "    </tr>\n",
       "    <tr>\n",
       "      <th>9944</th>\n",
       "      <td>15703923</td>\n",
       "      <td>744</td>\n",
       "      <td>Germany</td>\n",
       "      <td>Male</td>\n",
       "      <td>41</td>\n",
       "      <td>NaN</td>\n",
       "      <td>190409.34</td>\n",
       "      <td>2</td>\n",
       "      <td>1</td>\n",
       "      <td>1</td>\n",
       "      <td>138361.48</td>\n",
       "      <td>0</td>\n",
       "    </tr>\n",
       "    <tr>\n",
       "      <th>9956</th>\n",
       "      <td>15707861</td>\n",
       "      <td>520</td>\n",
       "      <td>France</td>\n",
       "      <td>Female</td>\n",
       "      <td>46</td>\n",
       "      <td>NaN</td>\n",
       "      <td>85216.61</td>\n",
       "      <td>1</td>\n",
       "      <td>1</td>\n",
       "      <td>0</td>\n",
       "      <td>117369.52</td>\n",
       "      <td>1</td>\n",
       "    </tr>\n",
       "    <tr>\n",
       "      <th>9964</th>\n",
       "      <td>15642785</td>\n",
       "      <td>479</td>\n",
       "      <td>France</td>\n",
       "      <td>Male</td>\n",
       "      <td>34</td>\n",
       "      <td>NaN</td>\n",
       "      <td>117593.48</td>\n",
       "      <td>2</td>\n",
       "      <td>0</td>\n",
       "      <td>0</td>\n",
       "      <td>113308.29</td>\n",
       "      <td>0</td>\n",
       "    </tr>\n",
       "    <tr>\n",
       "      <th>9985</th>\n",
       "      <td>15586914</td>\n",
       "      <td>659</td>\n",
       "      <td>France</td>\n",
       "      <td>Male</td>\n",
       "      <td>36</td>\n",
       "      <td>NaN</td>\n",
       "      <td>123841.49</td>\n",
       "      <td>2</td>\n",
       "      <td>1</td>\n",
       "      <td>0</td>\n",
       "      <td>96833.00</td>\n",
       "      <td>0</td>\n",
       "    </tr>\n",
       "    <tr>\n",
       "      <th>9999</th>\n",
       "      <td>15628319</td>\n",
       "      <td>792</td>\n",
       "      <td>France</td>\n",
       "      <td>Female</td>\n",
       "      <td>28</td>\n",
       "      <td>NaN</td>\n",
       "      <td>130142.79</td>\n",
       "      <td>1</td>\n",
       "      <td>1</td>\n",
       "      <td>0</td>\n",
       "      <td>38190.78</td>\n",
       "      <td>0</td>\n",
       "    </tr>\n",
       "  </tbody>\n",
       "</table>\n",
       "<p>909 rows × 12 columns</p>\n",
       "</div>"
      ],
      "text/plain": [
       "      customer_id  credit_score geography  gender  age  tenure    balance  \\\n",
       "30       15589475           591     Spain  Female   39     NaN       0.00   \n",
       "48       15766205           550   Germany    Male   38     NaN  103391.38   \n",
       "51       15768193           585   Germany    Male   36     NaN  146050.97   \n",
       "53       15702298           655   Germany    Male   41     NaN  125561.97   \n",
       "60       15651280           742   Germany    Male   35     NaN  136857.00   \n",
       "...           ...           ...       ...     ...  ...     ...        ...   \n",
       "9944     15703923           744   Germany    Male   41     NaN  190409.34   \n",
       "9956     15707861           520    France  Female   46     NaN   85216.61   \n",
       "9964     15642785           479    France    Male   34     NaN  117593.48   \n",
       "9985     15586914           659    France    Male   36     NaN  123841.49   \n",
       "9999     15628319           792    France  Female   28     NaN  130142.79   \n",
       "\n",
       "      num_of_products  has_cr_card  is_active_member  estimated_salary  exited  \n",
       "30                  3            1                 0         140469.38       1  \n",
       "48                  1            0                 1          90878.13       0  \n",
       "51                  2            0                 0          86424.57       0  \n",
       "53                  1            0                 0         164040.94       1  \n",
       "60                  1            0                 0          84509.57       0  \n",
       "...               ...          ...               ...               ...     ...  \n",
       "9944                2            1                 1         138361.48       0  \n",
       "9956                1            1                 0         117369.52       1  \n",
       "9964                2            0                 0         113308.29       0  \n",
       "9985                2            1                 0          96833.00       0  \n",
       "9999                1            1                 0          38190.78       0  \n",
       "\n",
       "[909 rows x 12 columns]"
      ]
     },
     "execution_count": 8,
     "metadata": {},
     "output_type": "execute_result"
    }
   ],
   "source": [
    "# Избавиться от пропусков в столбцах\n",
    "data[data['tenure'].isna()]"
   ]
  },
  {
   "cell_type": "markdown",
   "id": "963ae9b9",
   "metadata": {},
   "source": [
    "Данные пропуски не выглядят закономерными, и заполнить их какими-то адекватными значениями не представляется возможным. Они составляют 9.9% всех данных. Это не очень много, поэтому удалим эти значения:"
   ]
  },
  {
   "cell_type": "code",
   "execution_count": 9,
   "id": "9336f02e",
   "metadata": {},
   "outputs": [
    {
     "name": "stdout",
     "output_type": "stream",
     "text": [
      "<class 'pandas.core.frame.DataFrame'>\n",
      "RangeIndex: 9091 entries, 0 to 9090\n",
      "Data columns (total 12 columns):\n",
      " #   Column            Non-Null Count  Dtype  \n",
      "---  ------            --------------  -----  \n",
      " 0   customer_id       9091 non-null   int64  \n",
      " 1   credit_score      9091 non-null   int64  \n",
      " 2   geography         9091 non-null   object \n",
      " 3   gender            9091 non-null   object \n",
      " 4   age               9091 non-null   int64  \n",
      " 5   tenure            9091 non-null   float64\n",
      " 6   balance           9091 non-null   float64\n",
      " 7   num_of_products   9091 non-null   int64  \n",
      " 8   has_cr_card       9091 non-null   int64  \n",
      " 9   is_active_member  9091 non-null   int64  \n",
      " 10  estimated_salary  9091 non-null   float64\n",
      " 11  exited            9091 non-null   int64  \n",
      "dtypes: float64(3), int64(7), object(2)\n",
      "memory usage: 852.4+ KB\n"
     ]
    }
   ],
   "source": [
    "data = data.dropna(subset=['tenure']).reset_index(drop=True)\n",
    "data.info()"
   ]
  },
  {
   "cell_type": "code",
   "execution_count": 10,
   "id": "cdf06ee4",
   "metadata": {},
   "outputs": [
    {
     "name": "stdout",
     "output_type": "stream",
     "text": [
      "Количество дубликатов в таблице = 0\n"
     ]
    }
   ],
   "source": [
    "# поиск дубликатов\n",
    "str_columns = ['gender', 'geography']\n",
    "for column in str_columns:\n",
    "    data[column] = data[column].str.lower()\n",
    "print('Количество дубликатов в таблице =', data.duplicated().sum())"
   ]
  },
  {
   "cell_type": "code",
   "execution_count": 11,
   "id": "c7b2960c",
   "metadata": {
    "scrolled": true
   },
   "outputs": [
    {
     "data": {
      "image/png": "[encoded data removed]",
      "text/plain": [
       "<Figure size 432x288 with 1 Axes>"
      ]
     },
     "metadata": {
      "needs_background": "light"
     },
     "output_type": "display_data"
    },
    {
     "name": "stdout",
     "output_type": "stream",
     "text": [
      "count    9091.000000\n",
      "mean      650.736553\n",
      "std        96.410471\n",
      "min       350.000000\n",
      "25%       584.000000\n",
      "50%       652.000000\n",
      "75%       717.000000\n",
      "max       850.000000\n",
      "Name: credit_score, dtype: float64\n"
     ]
    },
    {
     "data": {
      "image/png": "[encoded data removed]",
      "text/plain": [
       "<Figure size 432x288 with 1 Axes>"
      ]
     },
     "metadata": {
      "needs_background": "light"
     },
     "output_type": "display_data"
    },
    {
     "name": "stdout",
     "output_type": "stream",
     "text": [
      "count    9091.000000\n",
      "mean       38.949181\n",
      "std        10.555581\n",
      "min        18.000000\n",
      "25%        32.000000\n",
      "50%        37.000000\n",
      "75%        44.000000\n",
      "max        92.000000\n",
      "Name: age, dtype: float64\n"
     ]
    },
    {
     "data": {
      "image/png": "[encoded data removed]",
      "text/plain": [
       "<Figure size 432x288 with 1 Axes>"
      ]
     },
     "metadata": {
      "needs_background": "light"
     },
     "output_type": "display_data"
    },
    {
     "name": "stdout",
     "output_type": "stream",
     "text": [
      "count    9091.000000\n",
      "mean        4.997690\n",
      "std         2.894723\n",
      "min         0.000000\n",
      "25%         2.000000\n",
      "50%         5.000000\n",
      "75%         7.000000\n",
      "max        10.000000\n",
      "Name: tenure, dtype: float64\n"
     ]
    },
    {
     "data": {
      "image/png": "[encoded data removed]",
      "text/plain": [
       "<Figure size 432x288 with 1 Axes>"
      ]
     },
     "metadata": {
      "needs_background": "light"
     },
     "output_type": "display_data"
    },
    {
     "name": "stdout",
     "output_type": "stream",
     "text": [
      "count      9091.000000\n",
      "mean      76522.740015\n",
      "std       62329.528576\n",
      "min           0.000000\n",
      "25%           0.000000\n",
      "50%       97318.250000\n",
      "75%      127561.890000\n",
      "max      250898.090000\n",
      "Name: balance, dtype: float64\n"
     ]
    },
    {
     "data": {
      "image/png": "[encoded data removed]",
      "text/plain": [
       "<Figure size 432x288 with 1 Axes>"
      ]
     },
     "metadata": {
      "needs_background": "light"
     },
     "output_type": "display_data"
    },
    {
     "name": "stdout",
     "output_type": "stream",
     "text": [
      "count    9091.000000\n",
      "mean        1.530195\n",
      "std         0.581003\n",
      "min         1.000000\n",
      "25%         1.000000\n",
      "50%         1.000000\n",
      "75%         2.000000\n",
      "max         4.000000\n",
      "Name: num_of_products, dtype: float64\n"
     ]
    },
    {
     "data": {
      "image/png": "[encoded data removed]",
      "text/plain": [
       "<Figure size 432x288 with 1 Axes>"
      ]
     },
     "metadata": {
      "needs_background": "light"
     },
     "output_type": "display_data"
    },
    {
     "name": "stdout",
     "output_type": "stream",
     "text": [
      "count      9091.000000\n",
      "mean     100181.214924\n",
      "std       57624.755647\n",
      "min          11.580000\n",
      "25%       51227.745000\n",
      "50%      100240.200000\n",
      "75%      149567.210000\n",
      "max      199992.480000\n",
      "Name: estimated_salary, dtype: float64\n"
     ]
    }
   ],
   "source": [
    "# поиск аномальных значений\n",
    "str_columns = ['credit_score', 'age', 'tenure', 'balance', 'num_of_products', 'estimated_salary']\n",
    "for column in str_columns:\n",
    "    sns.violinplot(x=column, data=data)\n",
    "    plt.title(column)\n",
    "    plt.show()\n",
    "    print(data[column].describe())"
   ]
  },
  {
   "cell_type": "code",
   "execution_count": 12,
   "id": "2fe26b0e",
   "metadata": {},
   "outputs": [
    {
     "name": "stdout",
     "output_type": "stream",
     "text": [
      "Множество значений в столбце \"geography\" :\n",
      " ['france' 'spain' 'germany']\n",
      "Множество значений в столбце \"gender\" :\n",
      " ['female' 'male']\n",
      "Множество значений в столбце \"has_cr_card\" :\n",
      " [1 0]\n",
      "Множество значений в столбце \"is_active_member\" :\n",
      " [1 0]\n",
      "Множество значений в столбце \"exited\" :\n",
      " [1 0]\n"
     ]
    }
   ],
   "source": [
    "print('Множество значений в столбце \"geography\" :\\n', data['geography'].unique())\n",
    "print('Множество значений в столбце \"gender\" :\\n', data['gender'].unique())\n",
    "print('Множество значений в столбце \"has_cr_card\" :\\n', data['has_cr_card'].unique())\n",
    "print('Множество значений в столбце \"is_active_member\" :\\n', data['is_active_member'].unique())\n",
    "print('Множество значений в столбце \"exited\" :\\n', data['exited'].unique())"
   ]
  },
  {
   "cell_type": "code",
   "execution_count": 13,
   "id": "841c4cf2",
   "metadata": {},
   "outputs": [
    {
     "name": "stdout",
     "output_type": "stream",
     "text": [
      "<class 'pandas.core.frame.DataFrame'>\n",
      "RangeIndex: 9091 entries, 0 to 9090\n",
      "Data columns (total 12 columns):\n",
      " #   Column            Non-Null Count  Dtype  \n",
      "---  ------            --------------  -----  \n",
      " 0   customer_id       9091 non-null   int32  \n",
      " 1   credit_score      9091 non-null   int32  \n",
      " 2   geography         9091 non-null   object \n",
      " 3   gender            9091 non-null   object \n",
      " 4   age               9091 non-null   int32  \n",
      " 5   tenure            9091 non-null   int32  \n",
      " 6   balance           9091 non-null   float32\n",
      " 7   num_of_products   9091 non-null   int32  \n",
      " 8   has_cr_card       9091 non-null   int32  \n",
      " 9   is_active_member  9091 non-null   int32  \n",
      " 10  estimated_salary  9091 non-null   float32\n",
      " 11  exited            9091 non-null   int32  \n",
      "dtypes: float32(2), int32(8), object(2)\n",
      "memory usage: 497.3+ KB\n"
     ]
    },
    {
     "data": {
      "text/html": [
       "<div>\n",
       "<style scoped>\n",
       "    .dataframe tbody tr th:only-of-type {\n",
       "        vertical-align: middle;\n",
       "    }\n",
       "\n",
       "    .dataframe tbody tr th {\n",
       "        vertical-align: top;\n",
       "    }\n",
       "\n",
       "    .dataframe thead th {\n",
       "        text-align: right;\n",
       "    }\n",
       "</style>\n",
       "<table border=\"1\" class=\"dataframe\">\n",
       "  <thead>\n",
       "    <tr style=\"text-align: right;\">\n",
       "      <th></th>\n",
       "      <th>customer_id</th>\n",
       "      <th>credit_score</th>\n",
       "      <th>geography</th>\n",
       "      <th>gender</th>\n",
       "      <th>age</th>\n",
       "      <th>tenure</th>\n",
       "      <th>balance</th>\n",
       "      <th>num_of_products</th>\n",
       "      <th>has_cr_card</th>\n",
       "      <th>is_active_member</th>\n",
       "      <th>estimated_salary</th>\n",
       "      <th>exited</th>\n",
       "    </tr>\n",
       "  </thead>\n",
       "  <tbody>\n",
       "    <tr>\n",
       "      <th>0</th>\n",
       "      <td>15634602</td>\n",
       "      <td>619</td>\n",
       "      <td>france</td>\n",
       "      <td>female</td>\n",
       "      <td>42</td>\n",
       "      <td>2</td>\n",
       "      <td>0.000000</td>\n",
       "      <td>1</td>\n",
       "      <td>1</td>\n",
       "      <td>1</td>\n",
       "      <td>101348.882812</td>\n",
       "      <td>1</td>\n",
       "    </tr>\n",
       "    <tr>\n",
       "      <th>1</th>\n",
       "      <td>15647311</td>\n",
       "      <td>608</td>\n",
       "      <td>spain</td>\n",
       "      <td>female</td>\n",
       "      <td>41</td>\n",
       "      <td>1</td>\n",
       "      <td>83807.859375</td>\n",
       "      <td>1</td>\n",
       "      <td>0</td>\n",
       "      <td>1</td>\n",
       "      <td>112542.578125</td>\n",
       "      <td>0</td>\n",
       "    </tr>\n",
       "    <tr>\n",
       "      <th>2</th>\n",
       "      <td>15619304</td>\n",
       "      <td>502</td>\n",
       "      <td>france</td>\n",
       "      <td>female</td>\n",
       "      <td>42</td>\n",
       "      <td>8</td>\n",
       "      <td>159660.796875</td>\n",
       "      <td>3</td>\n",
       "      <td>1</td>\n",
       "      <td>0</td>\n",
       "      <td>113931.570312</td>\n",
       "      <td>1</td>\n",
       "    </tr>\n",
       "    <tr>\n",
       "      <th>3</th>\n",
       "      <td>15701354</td>\n",
       "      <td>699</td>\n",
       "      <td>france</td>\n",
       "      <td>female</td>\n",
       "      <td>39</td>\n",
       "      <td>1</td>\n",
       "      <td>0.000000</td>\n",
       "      <td>2</td>\n",
       "      <td>0</td>\n",
       "      <td>0</td>\n",
       "      <td>93826.632812</td>\n",
       "      <td>0</td>\n",
       "    </tr>\n",
       "    <tr>\n",
       "      <th>4</th>\n",
       "      <td>15737888</td>\n",
       "      <td>850</td>\n",
       "      <td>spain</td>\n",
       "      <td>female</td>\n",
       "      <td>43</td>\n",
       "      <td>2</td>\n",
       "      <td>125510.820312</td>\n",
       "      <td>1</td>\n",
       "      <td>1</td>\n",
       "      <td>1</td>\n",
       "      <td>79084.101562</td>\n",
       "      <td>0</td>\n",
       "    </tr>\n",
       "  </tbody>\n",
       "</table>\n",
       "</div>"
      ],
      "text/plain": [
       "   customer_id  credit_score geography  gender  age  tenure        balance  \\\n",
       "0     15634602           619    france  female   42       2       0.000000   \n",
       "1     15647311           608     spain  female   41       1   83807.859375   \n",
       "2     15619304           502    france  female   42       8  159660.796875   \n",
       "3     15701354           699    france  female   39       1       0.000000   \n",
       "4     15737888           850     spain  female   43       2  125510.820312   \n",
       "\n",
       "   num_of_products  has_cr_card  is_active_member  estimated_salary  exited  \n",
       "0                1            1                 1     101348.882812       1  \n",
       "1                1            0                 1     112542.578125       0  \n",
       "2                3            1                 0     113931.570312       1  \n",
       "3                2            0                 0      93826.632812       0  \n",
       "4                1            1                 1      79084.101562       0  "
      ]
     },
     "execution_count": 13,
     "metadata": {},
     "output_type": "execute_result"
    }
   ],
   "source": [
    "# преобразование типа\n",
    "data = (data.astype({'customer_id': np.int32, 'credit_score': np.int32, 'tenure': np.int32, \\\n",
    "                     'age': np.int32, 'balance': np.float32, 'num_of_products': np.int32, \\\n",
    "                     'has_cr_card': np.int32, 'is_active_member': np.int32, 'estimated_salary': np.float32,\\\n",
    "                     'exited': np.int32}))\n",
    "data.info()\n",
    "data.head()"
   ]
  },
  {
   "cell_type": "markdown",
   "id": "d6a69cdc",
   "metadata": {},
   "source": [
    "### Вывод\n",
    "\n",
    "1. Записали названия столбцов по правилам змеиного регистра;\n",
    "2. Избавились от ненужных столбцов;\n",
    "3. Избавились от пропусков в столбцах удалением таких строк;\n",
    "4. Дубликатов не обнаружено;\n",
    "5. Артефактов не обнаружено;\n",
    "6. Преобразовали тип данных."
   ]
  },
  {
   "cell_type": "code",
   "execution_count": 14,
   "id": "0e86c86d",
   "metadata": {},
   "outputs": [
    {
     "name": "stdout",
     "output_type": "stream",
     "text": [
      "count     9091\n",
      "unique       2\n",
      "top       male\n",
      "freq      4974\n",
      "Name: gender, dtype: object\n"
     ]
    },
    {
     "data": {
      "text/plain": [
       "Text(0.5, 1.0, 'Пол клиентов')"
      ]
     },
     "execution_count": 14,
     "metadata": {},
     "output_type": "execute_result"
    },
    {
     "data": {
      "image/png": "[encoded data removed]",
      "text/plain": [
       "<Figure size 432x288 with 1 Axes>"
      ]
     },
     "metadata": {
      "needs_background": "light"
     },
     "output_type": "display_data"
    }
   ],
   "source": [
    "# Графическое представление некоторых данных\n",
    "print(data['gender'].describe())\n",
    "sns.barplot(\n",
    "    x=['male', 'female'], \n",
    "    y=[data.query('gender == \"male\"').shape[0], \n",
    "       data.query('gender == \"female\"').shape[0]])\n",
    "plt.title('Пол клиентов')"
   ]
  },
  {
   "cell_type": "code",
   "execution_count": 15,
   "id": "5e47d1f2",
   "metadata": {},
   "outputs": [
    {
     "name": "stdout",
     "output_type": "stream",
     "text": [
      "count       9091\n",
      "unique         3\n",
      "top       france\n",
      "freq        4550\n",
      "Name: geography, dtype: object\n"
     ]
    },
    {
     "data": {
      "text/plain": [
       "Text(0.5, 1.0, 'Страна проживания клиента')"
      ]
     },
     "execution_count": 15,
     "metadata": {},
     "output_type": "execute_result"
    },
    {
     "data": {
      "image/png": "[encoded data removed]",
      "text/plain": [
       "<Figure size 432x288 with 1 Axes>"
      ]
     },
     "metadata": {
      "needs_background": "light"
     },
     "output_type": "display_data"
    }
   ],
   "source": [
    "print(data['geography'].describe())\n",
    "sns.barplot(\n",
    "    x=['france', 'spain', 'germany'], \n",
    "    y=[data.query('geography == \"france\"').shape[0], \n",
    "       data.query('geography == \"spain\"').shape[0],\n",
    "       data.query('geography == \"germany\"').shape[0]])\n",
    "plt.title('Страна проживания клиента')"
   ]
  },
  {
   "cell_type": "code",
   "execution_count": 16,
   "id": "912be513",
   "metadata": {
    "scrolled": false
   },
   "outputs": [
    {
     "data": {
      "image/png": "[encoded data removed]",
      "text/plain": [
       "<Figure size 432x288 with 1 Axes>"
      ]
     },
     "metadata": {
      "needs_background": "light"
     },
     "output_type": "display_data"
    },
    {
     "data": {
      "image/png": "[encoded data removed]",
      "text/plain": [
       "<Figure size 432x288 with 1 Axes>"
      ]
     },
     "metadata": {
      "needs_background": "light"
     },
     "output_type": "display_data"
    },
    {
     "name": "stdout",
     "output_type": "stream",
     "text": [
      "count    9091.000000\n",
      "mean        0.704983\n",
      "std         0.456076\n",
      "min         0.000000\n",
      "25%         0.000000\n",
      "50%         1.000000\n",
      "75%         1.000000\n",
      "max         1.000000\n",
      "Name: has_cr_card, dtype: float64\n"
     ]
    },
    {
     "data": {
      "image/png": "[encoded data removed]",
      "text/plain": [
       "<Figure size 432x288 with 1 Axes>"
      ]
     },
     "metadata": {
      "needs_background": "light"
     },
     "output_type": "display_data"
    },
    {
     "data": {
      "image/png": "[encoded data removed]",
      "text/plain": [
       "<Figure size 432x288 with 1 Axes>"
      ]
     },
     "metadata": {
      "needs_background": "light"
     },
     "output_type": "display_data"
    },
    {
     "name": "stdout",
     "output_type": "stream",
     "text": [
      "count    9091.000000\n",
      "mean        0.515565\n",
      "std         0.499785\n",
      "min         0.000000\n",
      "25%         0.000000\n",
      "50%         1.000000\n",
      "75%         1.000000\n",
      "max         1.000000\n",
      "Name: is_active_member, dtype: float64\n"
     ]
    },
    {
     "data": {
      "image/png": "[encoded data removed]",
      "text/plain": [
       "<Figure size 432x288 with 1 Axes>"
      ]
     },
     "metadata": {
      "needs_background": "light"
     },
     "output_type": "display_data"
    },
    {
     "data": {
      "image/png": "[encoded data removed]",
      "text/plain": [
       "<Figure size 432x288 with 1 Axes>"
      ]
     },
     "metadata": {
      "needs_background": "light"
     },
     "output_type": "display_data"
    },
    {
     "name": "stdout",
     "output_type": "stream",
     "text": [
      "count    9091.000000\n",
      "mean        0.203938\n",
      "std         0.402946\n",
      "min         0.000000\n",
      "25%         0.000000\n",
      "50%         0.000000\n",
      "75%         0.000000\n",
      "max         1.000000\n",
      "Name: exited, dtype: float64\n"
     ]
    }
   ],
   "source": [
    "str_columns = ['has_cr_card', 'is_active_member', 'exited']\n",
    "for column in str_columns:\n",
    "    sns.boxplot(x=column, y='age', hue='gender', data=data)\n",
    "    plt.title(column)\n",
    "    plt.show()    \n",
    "    plt.title(column)\n",
    "    sns.boxplot(x=column, y='age', hue='geography', data=data)\n",
    "    plt.show()\n",
    "    print(data[column].describe())"
   ]
  },
  {
   "cell_type": "markdown",
   "id": "188b384f",
   "metadata": {},
   "source": [
    "На основании предобработки и исследования данных можно сделать следующие выводы:\n",
    "1. Кредитный рейтинг у большинства клиентов имеет хорошие показатели, хоть небольшая часть и является ненадежными.\n",
    "2. Медианный возраст - 37 лет. В основном колеблется от 18 до 62 лет, но есть и небольшое число более возрастных клиетнов, вплоть до 92 лет.\n",
    "3. Время, в течение которого клиент является клиентом банка лежит в интервале от 0 до 10 лет, основная часть - от 2 до 7, а медианное значение - 5 лет.\n",
    "4. Баланс основной массы клиентов - до 130000. Медианное значение - 97000. Все клиенты, укладываются в значения до 251000.\n",
    "5. Клиенты в основном являются владельцами одного-двух продуктов, иногда трёх, крайне редко четырех.\n",
    "6. Медианная ожидаемая зарплата равна 100000.\n",
    "7. Мужчин примерно на 20% больше, чем женщин.\n",
    "8. Наибольшее число клиентов во Франции- примерно 4550, в Испании и Германии поровну и примерно вдвое меньше, чем во Франции в каждой.\n",
    "9. Существенных различий по показателям владения кредитной картой, активности и ухода клиентов в зависимости от пола или страны не наблюдается."
   ]
  },
  {
   "cell_type": "markdown",
   "id": "7b15b727",
   "metadata": {},
   "source": [
    "<a id='глава2'></a>\n",
    "# 2. Выбор и обучение модели"
   ]
  },
  {
   "cell_type": "markdown",
   "id": "564bdbdc",
   "metadata": {},
   "source": [
    "<a id='раздел2.1'></a>\n",
    "## 2.1 Разделение исходных данных на обучающую, валидационную и тестовую выборки."
   ]
  },
  {
   "cell_type": "markdown",
   "id": "58ab11b4",
   "metadata": {},
   "source": [
    "Разделение производим в пропорции 3:1:1."
   ]
  },
  {
   "cell_type": "code",
   "execution_count": 17,
   "id": "29b0f054",
   "metadata": {},
   "outputs": [
    {
     "data": {
      "text/html": [
       "<div>\n",
       "<style scoped>\n",
       "    .dataframe tbody tr th:only-of-type {\n",
       "        vertical-align: middle;\n",
       "    }\n",
       "\n",
       "    .dataframe tbody tr th {\n",
       "        vertical-align: top;\n",
       "    }\n",
       "\n",
       "    .dataframe thead th {\n",
       "        text-align: right;\n",
       "    }\n",
       "</style>\n",
       "<table border=\"1\" class=\"dataframe\">\n",
       "  <thead>\n",
       "    <tr style=\"text-align: right;\">\n",
       "      <th></th>\n",
       "      <th>customer_id</th>\n",
       "      <th>credit_score</th>\n",
       "      <th>age</th>\n",
       "      <th>tenure</th>\n",
       "      <th>balance</th>\n",
       "      <th>num_of_products</th>\n",
       "      <th>has_cr_card</th>\n",
       "      <th>is_active_member</th>\n",
       "      <th>estimated_salary</th>\n",
       "      <th>exited</th>\n",
       "      <th>geography_germany</th>\n",
       "      <th>geography_spain</th>\n",
       "      <th>gender_male</th>\n",
       "    </tr>\n",
       "  </thead>\n",
       "  <tbody>\n",
       "    <tr>\n",
       "      <th>0</th>\n",
       "      <td>15634602</td>\n",
       "      <td>619</td>\n",
       "      <td>42</td>\n",
       "      <td>2</td>\n",
       "      <td>0.000000</td>\n",
       "      <td>1</td>\n",
       "      <td>1</td>\n",
       "      <td>1</td>\n",
       "      <td>101348.882812</td>\n",
       "      <td>1</td>\n",
       "      <td>0</td>\n",
       "      <td>0</td>\n",
       "      <td>0</td>\n",
       "    </tr>\n",
       "    <tr>\n",
       "      <th>1</th>\n",
       "      <td>15647311</td>\n",
       "      <td>608</td>\n",
       "      <td>41</td>\n",
       "      <td>1</td>\n",
       "      <td>83807.859375</td>\n",
       "      <td>1</td>\n",
       "      <td>0</td>\n",
       "      <td>1</td>\n",
       "      <td>112542.578125</td>\n",
       "      <td>0</td>\n",
       "      <td>0</td>\n",
       "      <td>1</td>\n",
       "      <td>0</td>\n",
       "    </tr>\n",
       "    <tr>\n",
       "      <th>2</th>\n",
       "      <td>15619304</td>\n",
       "      <td>502</td>\n",
       "      <td>42</td>\n",
       "      <td>8</td>\n",
       "      <td>159660.796875</td>\n",
       "      <td>3</td>\n",
       "      <td>1</td>\n",
       "      <td>0</td>\n",
       "      <td>113931.570312</td>\n",
       "      <td>1</td>\n",
       "      <td>0</td>\n",
       "      <td>0</td>\n",
       "      <td>0</td>\n",
       "    </tr>\n",
       "    <tr>\n",
       "      <th>3</th>\n",
       "      <td>15701354</td>\n",
       "      <td>699</td>\n",
       "      <td>39</td>\n",
       "      <td>1</td>\n",
       "      <td>0.000000</td>\n",
       "      <td>2</td>\n",
       "      <td>0</td>\n",
       "      <td>0</td>\n",
       "      <td>93826.632812</td>\n",
       "      <td>0</td>\n",
       "      <td>0</td>\n",
       "      <td>0</td>\n",
       "      <td>0</td>\n",
       "    </tr>\n",
       "    <tr>\n",
       "      <th>4</th>\n",
       "      <td>15737888</td>\n",
       "      <td>850</td>\n",
       "      <td>43</td>\n",
       "      <td>2</td>\n",
       "      <td>125510.820312</td>\n",
       "      <td>1</td>\n",
       "      <td>1</td>\n",
       "      <td>1</td>\n",
       "      <td>79084.101562</td>\n",
       "      <td>0</td>\n",
       "      <td>0</td>\n",
       "      <td>1</td>\n",
       "      <td>0</td>\n",
       "    </tr>\n",
       "    <tr>\n",
       "      <th>...</th>\n",
       "      <td>...</td>\n",
       "      <td>...</td>\n",
       "      <td>...</td>\n",
       "      <td>...</td>\n",
       "      <td>...</td>\n",
       "      <td>...</td>\n",
       "      <td>...</td>\n",
       "      <td>...</td>\n",
       "      <td>...</td>\n",
       "      <td>...</td>\n",
       "      <td>...</td>\n",
       "      <td>...</td>\n",
       "      <td>...</td>\n",
       "    </tr>\n",
       "    <tr>\n",
       "      <th>9086</th>\n",
       "      <td>15719294</td>\n",
       "      <td>800</td>\n",
       "      <td>29</td>\n",
       "      <td>2</td>\n",
       "      <td>0.000000</td>\n",
       "      <td>2</td>\n",
       "      <td>0</td>\n",
       "      <td>0</td>\n",
       "      <td>167773.546875</td>\n",
       "      <td>0</td>\n",
       "      <td>0</td>\n",
       "      <td>0</td>\n",
       "      <td>0</td>\n",
       "    </tr>\n",
       "    <tr>\n",
       "      <th>9087</th>\n",
       "      <td>15606229</td>\n",
       "      <td>771</td>\n",
       "      <td>39</td>\n",
       "      <td>5</td>\n",
       "      <td>0.000000</td>\n",
       "      <td>2</td>\n",
       "      <td>1</td>\n",
       "      <td>0</td>\n",
       "      <td>96270.640625</td>\n",
       "      <td>0</td>\n",
       "      <td>0</td>\n",
       "      <td>0</td>\n",
       "      <td>1</td>\n",
       "    </tr>\n",
       "    <tr>\n",
       "      <th>9088</th>\n",
       "      <td>15569892</td>\n",
       "      <td>516</td>\n",
       "      <td>35</td>\n",
       "      <td>10</td>\n",
       "      <td>57369.609375</td>\n",
       "      <td>1</td>\n",
       "      <td>1</td>\n",
       "      <td>1</td>\n",
       "      <td>101699.773438</td>\n",
       "      <td>0</td>\n",
       "      <td>0</td>\n",
       "      <td>0</td>\n",
       "      <td>1</td>\n",
       "    </tr>\n",
       "    <tr>\n",
       "      <th>9089</th>\n",
       "      <td>15584532</td>\n",
       "      <td>709</td>\n",
       "      <td>36</td>\n",
       "      <td>7</td>\n",
       "      <td>0.000000</td>\n",
       "      <td>1</td>\n",
       "      <td>0</td>\n",
       "      <td>1</td>\n",
       "      <td>42085.578125</td>\n",
       "      <td>1</td>\n",
       "      <td>0</td>\n",
       "      <td>0</td>\n",
       "      <td>0</td>\n",
       "    </tr>\n",
       "    <tr>\n",
       "      <th>9090</th>\n",
       "      <td>15682355</td>\n",
       "      <td>772</td>\n",
       "      <td>42</td>\n",
       "      <td>3</td>\n",
       "      <td>75075.312500</td>\n",
       "      <td>2</td>\n",
       "      <td>1</td>\n",
       "      <td>0</td>\n",
       "      <td>92888.523438</td>\n",
       "      <td>1</td>\n",
       "      <td>1</td>\n",
       "      <td>0</td>\n",
       "      <td>1</td>\n",
       "    </tr>\n",
       "  </tbody>\n",
       "</table>\n",
       "<p>9091 rows × 13 columns</p>\n",
       "</div>"
      ],
      "text/plain": [
       "      customer_id  credit_score  age  tenure        balance  num_of_products  \\\n",
       "0        15634602           619   42       2       0.000000                1   \n",
       "1        15647311           608   41       1   83807.859375                1   \n",
       "2        15619304           502   42       8  159660.796875                3   \n",
       "3        15701354           699   39       1       0.000000                2   \n",
       "4        15737888           850   43       2  125510.820312                1   \n",
       "...           ...           ...  ...     ...            ...              ...   \n",
       "9086     15719294           800   29       2       0.000000                2   \n",
       "9087     15606229           771   39       5       0.000000                2   \n",
       "9088     15569892           516   35      10   57369.609375                1   \n",
       "9089     15584532           709   36       7       0.000000                1   \n",
       "9090     15682355           772   42       3   75075.312500                2   \n",
       "\n",
       "      has_cr_card  is_active_member  estimated_salary  exited  \\\n",
       "0               1                 1     101348.882812       1   \n",
       "1               0                 1     112542.578125       0   \n",
       "2               1                 0     113931.570312       1   \n",
       "3               0                 0      93826.632812       0   \n",
       "4               1                 1      79084.101562       0   \n",
       "...           ...               ...               ...     ...   \n",
       "9086            0                 0     167773.546875       0   \n",
       "9087            1                 0      96270.640625       0   \n",
       "9088            1                 1     101699.773438       0   \n",
       "9089            0                 1      42085.578125       1   \n",
       "9090            1                 0      92888.523438       1   \n",
       "\n",
       "      geography_germany  geography_spain  gender_male  \n",
       "0                     0                0            0  \n",
       "1                     0                1            0  \n",
       "2                     0                0            0  \n",
       "3                     0                0            0  \n",
       "4                     0                1            0  \n",
       "...                 ...              ...          ...  \n",
       "9086                  0                0            0  \n",
       "9087                  0                0            1  \n",
       "9088                  0                0            1  \n",
       "9089                  0                0            0  \n",
       "9090                  1                0            1  \n",
       "\n",
       "[9091 rows x 13 columns]"
      ]
     },
     "metadata": {},
     "output_type": "display_data"
    }
   ],
   "source": [
    "data_ohe = data \n",
    "data_ohe = pd.get_dummies(data_ohe, drop_first=True) #ohe\n",
    "display(data_ohe)\n",
    "data_train, data_all_valid = train_test_split(data_ohe, test_size=0.4, random_state=12345, stratify=data_ohe['exited'])\n",
    "features_train = data_train.drop(['exited'], axis=1)\n",
    "target_train = data_train['exited']\n",
    "data_valid, data_test = train_test_split(data_all_valid, test_size=0.5, random_state=12345, stratify=data_all_valid['exited'])\n",
    "features_valid = data_valid.drop(['exited'], axis=1)\n",
    "target_valid = data_valid['exited']\n",
    "features_test = data_test.drop(['exited'], axis=1)\n",
    "target_test = data_test['exited']"
   ]
  },
  {
   "cell_type": "markdown",
   "id": "d40b9675",
   "metadata": {},
   "source": [
    "**Вывод**\n",
    "\n",
    "Разделение произведено успешно."
   ]
  },
  {
   "cell_type": "markdown",
   "id": "d7f22c31",
   "metadata": {},
   "source": [
    "<a id='раздел2.2'></a>\n",
    "## 2.2 Модель решающего дерева без учета дисбаланса классов"
   ]
  },
  {
   "cell_type": "code",
   "execution_count": 18,
   "id": "312d8608",
   "metadata": {},
   "outputs": [],
   "source": [
    "features_zeros = features_train[target_train == 0]\n",
    "features_ones = features_train[target_train == 1]\n",
    "target_zeros = target_train[target_train == 0]\n",
    "target_ones = target_train[target_train == 1]"
   ]
  },
  {
   "cell_type": "code",
   "execution_count": 19,
   "id": "b3962f12",
   "metadata": {},
   "outputs": [
    {
     "name": "stdout",
     "output_type": "stream",
     "text": [
      "(4342, 12)\n",
      "(1112, 12)\n",
      "(4342,)\n",
      "(1112,)\n"
     ]
    }
   ],
   "source": [
    "print(features_zeros.shape)\n",
    "print(features_ones.shape)\n",
    "print(target_zeros.shape)\n",
    "print(target_ones.shape)"
   ]
  },
  {
   "cell_type": "markdown",
   "id": "84af2f6a",
   "metadata": {},
   "source": [
    "Положительного класса почти в 4 раза меньше, чем отрицательного. Дисбаланс классов имеет место. Для сравнения в качестве примера обучим одну модель - решающего дерева."
   ]
  },
  {
   "cell_type": "code",
   "execution_count": 20,
   "id": "4019ff86",
   "metadata": {},
   "outputs": [
    {
     "name": "stdout",
     "output_type": "stream",
     "text": [
      "F1 лучшей модели: 0.5733788395904437 \n",
      "Depth лучшей модели: 5\n"
     ]
    }
   ],
   "source": [
    "best_decision_tree_model = None\n",
    "best_decision_tree_result = 0\n",
    "best_decision_tree_depth = 0\n",
    "for depth in range(1, 6):\n",
    "    decision_tree_model = DecisionTreeClassifier(random_state=12345, max_depth=depth)\n",
    "    decision_tree_model.fit(features_train, target_train)\n",
    "    predictions = decision_tree_model.predict(features_valid) \n",
    "    result =  f1_score(target_valid, predictions)\n",
    "    if result > best_decision_tree_result:\n",
    "        best_decision_tree_model = decision_tree_model\n",
    "        best_decision_tree_result = result  \n",
    "        best_decision_tree_depth = depth\n",
    "        \n",
    "print(\"F1 лучшей модели:\", best_decision_tree_result, \"\\nDepth лучшей модели:\", best_decision_tree_depth)"
   ]
  },
  {
   "cell_type": "markdown",
   "id": "85a9f701",
   "metadata": {},
   "source": [
    "Напишим функцию для построения кривой ошибок (ROC-кривая):"
   ]
  },
  {
   "cell_type": "code",
   "execution_count": 21,
   "id": "bde66c74",
   "metadata": {},
   "outputs": [],
   "source": [
    "def roc(model, features, target):\n",
    "    probabilities_valid = model.predict_proba(features)\n",
    "    probabilities_one_valid = probabilities_valid[:, 1]\n",
    "    fpr, tpr, thresholds = roc_curve(target, probabilities_one_valid)\n",
    "    plt.figure()\n",
    "    plt.plot(fpr, tpr)\n",
    "    # ROC-кривая случайной модели (выглядит как прямая)\n",
    "    plt.plot([0, 1], [0, 1], linestyle='--')\n",
    "    plt.ylim([0.0, 1.0])\n",
    "    plt.xlim([0.0, 1.0])\n",
    "    plt.xlabel('False Positive Rate')\n",
    "    plt.ylabel('True Positive Rate')\n",
    "    plt.title('ROC-кривая')\n",
    "    plt.grid(True)\n",
    "    plt.show()\n",
    "    auc_roc = roc_auc_score(target, probabilities_one_valid)\n",
    "    print(f'AUC-ROC = {auc_roc}')"
   ]
  },
  {
   "cell_type": "code",
   "execution_count": 22,
   "id": "87cf8381",
   "metadata": {},
   "outputs": [
    {
     "data": {
      "image/png": "[encoded data removed]",
      "text/plain": [
       "<Figure size 432x288 with 1 Axes>"
      ]
     },
     "metadata": {
      "needs_background": "light"
     },
     "output_type": "display_data"
    },
    {
     "name": "stdout",
     "output_type": "stream",
     "text": [
      "AUC-ROC = 0.8450702913547316\n"
     ]
    }
   ],
   "source": [
    "roc(model=best_decision_tree_model, features=features_valid, target=target_valid)"
   ]
  },
  {
   "cell_type": "markdown",
   "id": "b184b646",
   "metadata": {},
   "source": [
    "Значение F1- метрики низкое. AUC-ROC больше, чем у случайной модели, значит модель адекватна. Необходимо улучшать качество модели."
   ]
  },
  {
   "cell_type": "markdown",
   "id": "572cc2e9",
   "metadata": {},
   "source": [
    "<a id='раздел2.3'></a>\n",
    "## 2.3 Масштабирование признаков"
   ]
  },
  {
   "cell_type": "markdown",
   "id": "a63eb2e8",
   "metadata": {},
   "source": [
    "Признаки имеют разный масштаб. Приведем их к одному."
   ]
  },
  {
   "cell_type": "code",
   "execution_count": 23,
   "id": "237e9a67",
   "metadata": {},
   "outputs": [
    {
     "data": {
      "text/html": [
       "<div>\n",
       "<style scoped>\n",
       "    .dataframe tbody tr th:only-of-type {\n",
       "        vertical-align: middle;\n",
       "    }\n",
       "\n",
       "    .dataframe tbody tr th {\n",
       "        vertical-align: top;\n",
       "    }\n",
       "\n",
       "    .dataframe thead th {\n",
       "        text-align: right;\n",
       "    }\n",
       "</style>\n",
       "<table border=\"1\" class=\"dataframe\">\n",
       "  <thead>\n",
       "    <tr style=\"text-align: right;\">\n",
       "      <th></th>\n",
       "      <th>customer_id</th>\n",
       "      <th>credit_score</th>\n",
       "      <th>age</th>\n",
       "      <th>tenure</th>\n",
       "      <th>balance</th>\n",
       "      <th>num_of_products</th>\n",
       "      <th>has_cr_card</th>\n",
       "      <th>is_active_member</th>\n",
       "      <th>estimated_salary</th>\n",
       "      <th>geography_germany</th>\n",
       "      <th>geography_spain</th>\n",
       "      <th>gender_male</th>\n",
       "    </tr>\n",
       "  </thead>\n",
       "  <tbody>\n",
       "    <tr>\n",
       "      <th>8837</th>\n",
       "      <td>15612832</td>\n",
       "      <td>-1.292898</td>\n",
       "      <td>-0.660843</td>\n",
       "      <td>0.686341</td>\n",
       "      <td>0.786635</td>\n",
       "      <td>1</td>\n",
       "      <td>0</td>\n",
       "      <td>0</td>\n",
       "      <td>86786.406250</td>\n",
       "      <td>0</td>\n",
       "      <td>0</td>\n",
       "      <td>1</td>\n",
       "    </tr>\n",
       "    <tr>\n",
       "      <th>1090</th>\n",
       "      <td>15628298</td>\n",
       "      <td>-1.563714</td>\n",
       "      <td>0.778434</td>\n",
       "      <td>1.034232</td>\n",
       "      <td>0.833795</td>\n",
       "      <td>1</td>\n",
       "      <td>1</td>\n",
       "      <td>0</td>\n",
       "      <td>179227.125000</td>\n",
       "      <td>0</td>\n",
       "      <td>1</td>\n",
       "      <td>0</td>\n",
       "    </tr>\n",
       "    <tr>\n",
       "      <th>7609</th>\n",
       "      <td>15567147</td>\n",
       "      <td>1.581914</td>\n",
       "      <td>0.106771</td>\n",
       "      <td>-0.357331</td>\n",
       "      <td>-1.222967</td>\n",
       "      <td>2</td>\n",
       "      <td>1</td>\n",
       "      <td>1</td>\n",
       "      <td>81908.093750</td>\n",
       "      <td>0</td>\n",
       "      <td>1</td>\n",
       "      <td>1</td>\n",
       "    </tr>\n",
       "    <tr>\n",
       "      <th>7279</th>\n",
       "      <td>15644295</td>\n",
       "      <td>0.842379</td>\n",
       "      <td>0.010820</td>\n",
       "      <td>-1.053112</td>\n",
       "      <td>0.807063</td>\n",
       "      <td>1</td>\n",
       "      <td>1</td>\n",
       "      <td>1</td>\n",
       "      <td>74850.929688</td>\n",
       "      <td>0</td>\n",
       "      <td>1</td>\n",
       "      <td>0</td>\n",
       "    </tr>\n",
       "    <tr>\n",
       "      <th>2245</th>\n",
       "      <td>15764174</td>\n",
       "      <td>-0.397123</td>\n",
       "      <td>-1.236554</td>\n",
       "      <td>-0.357331</td>\n",
       "      <td>-1.222967</td>\n",
       "      <td>2</td>\n",
       "      <td>1</td>\n",
       "      <td>1</td>\n",
       "      <td>179780.734375</td>\n",
       "      <td>0</td>\n",
       "      <td>1</td>\n",
       "      <td>0</td>\n",
       "    </tr>\n",
       "  </tbody>\n",
       "</table>\n",
       "</div>"
      ],
      "text/plain": [
       "      customer_id  credit_score       age    tenure   balance  \\\n",
       "8837     15612832     -1.292898 -0.660843  0.686341  0.786635   \n",
       "1090     15628298     -1.563714  0.778434  1.034232  0.833795   \n",
       "7609     15567147      1.581914  0.106771 -0.357331 -1.222967   \n",
       "7279     15644295      0.842379  0.010820 -1.053112  0.807063   \n",
       "2245     15764174     -0.397123 -1.236554 -0.357331 -1.222967   \n",
       "\n",
       "      num_of_products  has_cr_card  is_active_member  estimated_salary  \\\n",
       "8837                1            0                 0      86786.406250   \n",
       "1090                1            1                 0     179227.125000   \n",
       "7609                2            1                 1      81908.093750   \n",
       "7279                1            1                 1      74850.929688   \n",
       "2245                2            1                 1     179780.734375   \n",
       "\n",
       "      geography_germany  geography_spain  gender_male  \n",
       "8837                  0                0            1  \n",
       "1090                  0                1            0  \n",
       "7609                  0                1            1  \n",
       "7279                  0                1            0  \n",
       "2245                  0                1            0  "
      ]
     },
     "execution_count": 23,
     "metadata": {},
     "output_type": "execute_result"
    }
   ],
   "source": [
    "numeric = ['credit_score', 'age', 'tenure', 'balance']\n",
    "scaler = StandardScaler()\n",
    "scaler.fit(features_train[numeric])\n",
    "features_train[numeric] = scaler.transform(features_train[numeric])\n",
    "features_valid[numeric] = scaler.transform(features_valid[numeric])\n",
    "features_test[numeric] = scaler.transform(features_test[numeric])\n",
    "features_train.head()"
   ]
  },
  {
   "cell_type": "markdown",
   "id": "b4d7e81b",
   "metadata": {},
   "source": [
    "Масштабирование выполнено успешно."
   ]
  },
  {
   "cell_type": "markdown",
   "id": "3afc5626",
   "metadata": {},
   "source": [
    "<a id='раздел2.4'></a>\n",
    "## 2.4 Балансирование классов"
   ]
  },
  {
   "cell_type": "markdown",
   "id": "e73f1ccf",
   "metadata": {},
   "source": [
    "Балансировку можно проводить следующими способами: взвешиванием классов, увеличением выборки, уменьшением выборки. Чтобы не потерять классы для обучения не будем использовать уменьшение выборки, а из оставшихся вариантов выберем один. \n",
    "\n",
    "Произведем увеличение выборки."
   ]
  },
  {
   "cell_type": "code",
   "execution_count": 24,
   "id": "e637990c",
   "metadata": {},
   "outputs": [],
   "source": [
    "def upsample(features, target, repeat):\n",
    "    features_zeros = features[target_train == 0]\n",
    "    features_ones = features[target_train == 1]\n",
    "    target_zeros = target[target_train == 0]\n",
    "    target_ones = target[target_train == 1]\n",
    "    features_upsampled = pd.concat([features_zeros] + [features_ones] * repeat)\n",
    "    target_upsampled = pd.concat([target_zeros] + [target_ones] * repeat)\n",
    "    return features_upsampled, target_upsampled"
   ]
  },
  {
   "cell_type": "code",
   "execution_count": 25,
   "id": "281a5bab",
   "metadata": {},
   "outputs": [],
   "source": [
    "features_upsampled, target_upsampled = upsample(features_train, target_train, 4)\n",
    "features_upsampled, target_upsampled = shuffle(features_upsampled, target_upsampled, random_state=12345)\n"
   ]
  },
  {
   "cell_type": "code",
   "execution_count": 26,
   "id": "e81f2ded",
   "metadata": {},
   "outputs": [],
   "source": [
    "features_zeros = features_upsampled[target_upsampled == 0]\n",
    "features_ones = features_upsampled[target_upsampled == 1]\n",
    "target_zeros = target_upsampled[target_upsampled == 0]\n",
    "target_ones = target_upsampled[target_upsampled == 1]"
   ]
  },
  {
   "cell_type": "code",
   "execution_count": 27,
   "id": "8355a464",
   "metadata": {},
   "outputs": [
    {
     "name": "stdout",
     "output_type": "stream",
     "text": [
      "(4342, 12)\n",
      "(4448, 12)\n",
      "(4342,)\n",
      "(4448,)\n"
     ]
    }
   ],
   "source": [
    "print(features_zeros.shape)\n",
    "print(features_ones.shape)\n",
    "print(target_zeros.shape)\n",
    "print(target_ones.shape)"
   ]
  },
  {
   "cell_type": "markdown",
   "id": "06357a84",
   "metadata": {},
   "source": [
    "Балансирование проведено успешно"
   ]
  },
  {
   "cell_type": "markdown",
   "id": "f7701de7",
   "metadata": {},
   "source": [
    "<a id='раздел2.5'></a>\n",
    "## 2.5 Модель логистической регрессии"
   ]
  },
  {
   "cell_type": "markdown",
   "id": "39aa376e",
   "metadata": {},
   "source": [
    "Обучим модель с выбором оптимального порога"
   ]
  },
  {
   "cell_type": "code",
   "execution_count": 28,
   "id": "4ed34c1a",
   "metadata": {},
   "outputs": [],
   "source": [
    "model_lr = LogisticRegression(random_state=12345, solver='liblinear')\n",
    "model_lr.fit(features_upsampled, target_upsampled)\n",
    "probabilities_valid = model_lr.predict_proba(features_valid)\n",
    "probabilities_one_valid = probabilities_valid[:, 1]"
   ]
  },
  {
   "cell_type": "code",
   "execution_count": 29,
   "id": "79809ee5",
   "metadata": {
    "scrolled": true
   },
   "outputs": [
    {
     "name": "stdout",
     "output_type": "stream",
     "text": [
      "Порог = 0.00 | F1 = 0.339\n",
      "Порог = 0.02 | F1 = 0.339\n",
      "Порог = 0.04 | F1 = 0.339\n",
      "Порог = 0.06 | F1 = 0.339\n",
      "Порог = 0.08 | F1 = 0.339\n",
      "Порог = 0.10 | F1 = 0.339\n",
      "Порог = 0.12 | F1 = 0.339\n",
      "Порог = 0.14 | F1 = 0.339\n",
      "Порог = 0.16 | F1 = 0.339\n",
      "Порог = 0.18 | F1 = 0.339\n",
      "Порог = 0.20 | F1 = 0.339\n",
      "Порог = 0.22 | F1 = 0.339\n",
      "Порог = 0.24 | F1 = 0.339\n",
      "Порог = 0.26 | F1 = 0.339\n",
      "Порог = 0.28 | F1 = 0.339\n",
      "Порог = 0.30 | F1 = 0.339\n",
      "Порог = 0.32 | F1 = 0.339\n",
      "Порог = 0.34 | F1 = 0.339\n",
      "Порог = 0.36 | F1 = 0.339\n",
      "Порог = 0.38 | F1 = 0.339\n",
      "Порог = 0.40 | F1 = 0.339\n",
      "Порог = 0.42 | F1 = 0.339\n",
      "Порог = 0.44 | F1 = 0.339\n",
      "Порог = 0.46 | F1 = 0.339\n",
      "Порог = 0.48 | F1 = 0.339\n",
      "Порог = 0.50 | F1 = 0.331\n",
      "Порог = 0.52 | F1 = 0.000\n",
      "Порог = 0.54 | F1 = 0.000\n",
      "Порог = 0.56 | F1 = 0.000\n",
      "Порог = 0.58 | F1 = 0.000\n",
      "Порог = 0.60 | F1 = 0.000\n",
      "Порог = 0.62 | F1 = 0.000\n",
      "Порог = 0.64 | F1 = 0.000\n",
      "Порог = 0.66 | F1 = 0.000\n",
      "Порог = 0.68 | F1 = 0.000\n",
      "Порог = 0.70 | F1 = 0.000\n",
      "Порог = 0.72 | F1 = 0.000\n",
      "Порог = 0.74 | F1 = 0.000\n",
      "Порог = 0.76 | F1 = 0.000\n",
      "Порог = 0.78 | F1 = 0.000\n",
      "Порог = 0.80 | F1 = 0.000\n",
      "Порог = 0.82 | F1 = 0.000\n",
      "Порог = 0.84 | F1 = 0.000\n",
      "Порог = 0.86 | F1 = 0.000\n",
      "Порог = 0.88 | F1 = 0.000\n",
      "Порог = 0.90 | F1 = 0.000\n",
      "Порог = 0.92 | F1 = 0.000\n",
      "Порог = 0.94 | F1 = 0.000\n",
      "Порог = 0.96 | F1 = 0.000\n",
      "Порог = 0.98 | F1 = 0.000\n"
     ]
    }
   ],
   "source": [
    "for threshold in np.arange(0, 1, 0.02):\n",
    "    predicted_valid = probabilities_one_valid > threshold\n",
    "    f1 = f1_score(target_valid, predicted_valid)\n",
    "    print('Порог = {:.2f} | F1 = {:.3f}'.format(threshold, f1))"
   ]
  },
  {
   "cell_type": "code",
   "execution_count": 30,
   "id": "e0610251",
   "metadata": {},
   "outputs": [
    {
     "name": "stdout",
     "output_type": "stream",
     "text": [
      "F1 наилучшей модели на валидационной выборке: 0.33896756509821835 \n",
      "Iter лучшей модели: 100\n"
     ]
    }
   ],
   "source": [
    "best_lr_model = None\n",
    "best_lr_result = 0\n",
    "best_lr_iter = 0\n",
    "for i in range(100, 1000, 100):\n",
    "    lr_model = LogisticRegression(random_state=12345, solver='lbfgs', max_iter=i)\n",
    "    lr_model.fit(features_upsampled, target_upsampled)\n",
    "    predictions = lr_model.predict(features_valid)\n",
    "    result = f1_score(target_valid, predictions)\n",
    "    if result > best_lr_result:\n",
    "        best_lr_model = lr_model\n",
    "        best_lr_result = result\n",
    "        best_lr_iter = i\n",
    "\n",
    "print(\"F1 наилучшей модели на валидационной выборке:\", best_lr_result, \"\\nIter лучшей модели:\", best_lr_iter)"
   ]
  },
  {
   "cell_type": "code",
   "execution_count": 31,
   "id": "7b0562e9",
   "metadata": {},
   "outputs": [
    {
     "data": {
      "image/png": "[encoded data removed]",
      "text/plain": [
       "<Figure size 432x288 with 1 Axes>"
      ]
     },
     "metadata": {
      "needs_background": "light"
     },
     "output_type": "display_data"
    },
    {
     "name": "stdout",
     "output_type": "stream",
     "text": [
      "AUC-ROC = 0.5007274088783001\n"
     ]
    }
   ],
   "source": [
    "roc(model=best_lr_model, features=features_valid, target=target_valid)"
   ]
  },
  {
   "cell_type": "markdown",
   "id": "4c8ba6be",
   "metadata": {},
   "source": [
    "Модель логистической регрессии плохо проявляет себя, даже с учетом баланса классов. ROC-кривая практически полностью совпадает со случайной моделью."
   ]
  },
  {
   "cell_type": "markdown",
   "id": "e84418da",
   "metadata": {},
   "source": [
    "<a id='раздел2.6'></a>\n",
    "## 2.6 Модель решающего дерева"
   ]
  },
  {
   "cell_type": "markdown",
   "id": "c5b870b7",
   "metadata": {},
   "source": [
    "Обучим модель с выбором оптимальной глубины"
   ]
  },
  {
   "cell_type": "code",
   "execution_count": 32,
   "id": "251256c0",
   "metadata": {},
   "outputs": [
    {
     "name": "stdout",
     "output_type": "stream",
     "text": [
      "F1 лучшей модели: 0.584493041749503 \n",
      "Depth лучшей модели: 6\n"
     ]
    }
   ],
   "source": [
    "best_dt_model = None\n",
    "best_dt_result = 0\n",
    "best_dt_depth = 0\n",
    "for depth in range(1, 21):\n",
    "    dt_model = DecisionTreeClassifier(random_state=12345, max_depth=depth)\n",
    "    dt_model.fit(features_upsampled, target_upsampled)\n",
    "    predictions = dt_model.predict(features_valid)\n",
    "    result = f1_score(target_valid, predictions)\n",
    "    if result > best_dt_result:\n",
    "        best_dt_model = dt_model\n",
    "        best_dt_result = result  \n",
    "        best_dt_depth = depth\n",
    "        \n",
    "print(\"F1 лучшей модели:\", best_dt_result, \"\\nDepth лучшей модели:\", best_dt_depth)    "
   ]
  },
  {
   "cell_type": "code",
   "execution_count": 33,
   "id": "1ca5e89a",
   "metadata": {},
   "outputs": [
    {
     "data": {
      "image/png": "[encoded data removed]",
      "text/plain": [
       "<Figure size 432x288 with 1 Axes>"
      ]
     },
     "metadata": {
      "needs_background": "light"
     },
     "output_type": "display_data"
    },
    {
     "name": "stdout",
     "output_type": "stream",
     "text": [
      "AUC-ROC = 0.8375782593226622\n"
     ]
    }
   ],
   "source": [
    "roc(model=best_dt_model, features=features_valid, target=target_valid)"
   ]
  },
  {
   "cell_type": "markdown",
   "id": "d0d8c4ec",
   "metadata": {},
   "source": [
    "Модель решающего дерева проявляет себя лучше модели логистической регрессии. Баланс классов также немного улучшил F1-метрику. ROC-кривая и значение AUC-ROC значительно лучше по сравнению с предыдущими моделями."
   ]
  },
  {
   "cell_type": "markdown",
   "id": "63bbe2a6",
   "metadata": {},
   "source": [
    "<a id='раздел2.7'></a>\n",
    "## 2.7 Модель случайного леса"
   ]
  },
  {
   "cell_type": "markdown",
   "id": "9148cb27",
   "metadata": {},
   "source": [
    "Обучим модель случайного леса в два этапа: сначала найдем оптимальную глубину на небольшом числе деревьев, а затем выберем численность при найденной оптимальной глубине."
   ]
  },
  {
   "cell_type": "code",
   "execution_count": 34,
   "id": "87058711",
   "metadata": {
    "scrolled": true
   },
   "outputs": [
    {
     "name": "stdout",
     "output_type": "stream",
     "text": [
      "F1 наилучшей модели: 0.6415094339622641 \n",
      "Depth лучшей модели: 13\n",
      "Wall time: 2.62 s\n"
     ]
    }
   ],
   "source": [
    "%%time\n",
    "best_rf_model = None\n",
    "best_rf_result = 0\n",
    "best_rf_est = 0\n",
    "best_rf_depth = 0\n",
    "for depth in range(1, 21, 1):\n",
    "    rf_model = RandomForestClassifier(n_estimators=20, max_depth=depth, random_state=12345)\n",
    "    rf_model.fit(features_upsampled, target_upsampled)\n",
    "    prediction_valid = rf_model.predict(features_valid)\n",
    "    result = f1_score(target_valid, prediction_valid)\n",
    "    if result > best_rf_result:\n",
    "        best_rf_model = rf_model\n",
    "        best_rf_result = result\n",
    "        best_rf_depth = depth\n",
    "print(\"F1 наилучшей модели:\", best_rf_result, \"\\nDepth лучшей модели:\", best_rf_depth)"
   ]
  },
  {
   "cell_type": "code",
   "execution_count": 35,
   "id": "5d65d3a9",
   "metadata": {},
   "outputs": [
    {
     "name": "stdout",
     "output_type": "stream",
     "text": [
      "F1 наилучшей модели: 0.6566757493188011 \n",
      "Est лучшей модели: 28\n",
      "Wall time: 12.9 s\n"
     ]
    }
   ],
   "source": [
    "%%time\n",
    "for est in range(20, 60, 1):\n",
    "    rf_model = RandomForestClassifier(n_estimators=est, max_depth=best_rf_depth, random_state=12345)\n",
    "    rf_model.fit(features_upsampled, target_upsampled)\n",
    "    prediction_valid = rf_model.predict(features_valid)\n",
    "    result = f1_score(target_valid, prediction_valid)\n",
    "    if result > best_rf_result:\n",
    "        best_rf_model = rf_model\n",
    "        best_rf_result = result\n",
    "        best_rf_est = est\n",
    "print(\"F1 наилучшей модели:\", best_rf_result, \"\\nEst лучшей модели:\", best_rf_est)"
   ]
  },
  {
   "cell_type": "code",
   "execution_count": 36,
   "id": "79a39fb2",
   "metadata": {
    "scrolled": true
   },
   "outputs": [
    {
     "data": {
      "image/png": "[encoded data removed]",
      "text/plain": [
       "<Figure size 432x288 with 1 Axes>"
      ]
     },
     "metadata": {
      "needs_background": "light"
     },
     "output_type": "display_data"
    },
    {
     "name": "stdout",
     "output_type": "stream",
     "text": [
      "AUC-ROC = 0.865489897305886\n"
     ]
    }
   ],
   "source": [
    "roc(model=best_rf_model, features=features_valid, target=target_valid)"
   ]
  },
  {
   "cell_type": "markdown",
   "id": "173c3a19",
   "metadata": {},
   "source": [
    "Модель случайного леса проявляет себя лучше модели решающего древа. Требуемое минимальное значение F1-метрики получилось превзойти. AUC-ROC приблизительно равно 1- практически идеальный результат."
   ]
  },
  {
   "cell_type": "markdown",
   "id": "17b0806d",
   "metadata": {},
   "source": [
    "<a id='раздел2.8'></a>\n",
    "## 2.8 Проверка на тестовой выборке"
   ]
  },
  {
   "cell_type": "code",
   "execution_count": 37,
   "id": "af833087",
   "metadata": {},
   "outputs": [
    {
     "name": "stdout",
     "output_type": "stream",
     "text": [
      "F1 наилучшей модели решающего дерева на тестовой выборке: 0.6046511627906977 \n",
      "Depth лучшей модели: 13 \n",
      "Est лучшей модели: 28\n",
      "Wall time: 20 ms\n"
     ]
    }
   ],
   "source": [
    "%%time\n",
    "predictions = best_rf_model.predict(features_test)\n",
    "result = f1_score(target_test, predictions)\n",
    "print(\"F1 наилучшей модели решающего дерева на тестовой выборке:\",\n",
    "      result, \"\\nDepth лучшей модели:\", best_rf_depth,\n",
    "      \"\\nEst лучшей модели:\", best_rf_est)"
   ]
  },
  {
   "cell_type": "code",
   "execution_count": 38,
   "id": "bf31fa6d",
   "metadata": {},
   "outputs": [
    {
     "data": {
      "image/png": "[encoded data removed]",
      "text/plain": [
       "<Figure size 432x288 with 1 Axes>"
      ]
     },
     "metadata": {
      "needs_background": "light"
     },
     "output_type": "display_data"
    },
    {
     "name": "stdout",
     "output_type": "stream",
     "text": [
      "AUC-ROC = 0.8421263272326548\n"
     ]
    }
   ],
   "source": [
    "roc(model=best_rf_model, features=features_test, target=target_test)"
   ]
  },
  {
   "cell_type": "markdown",
   "id": "78c507a2",
   "metadata": {},
   "source": [
    "<a id='глава3'></a>\n",
    "# 3. Вывод "
   ]
  },
  {
   "cell_type": "markdown",
   "id": "62a1c259",
   "metadata": {},
   "source": [
    "Результаты на тестовой выборке в целом соотносятся с результатами на валидационной выборке, хоть F1 и немного хуже. Требуемое значение F1-метрики подтверждено. Значение AUC-ROC лучшей модели случайного леса снизилось до 0.84, что значительно хуже результатов на валидационной выборке, но на F1-метрике это не сильно сказалось."
   ]
  },
  {
   "cell_type": "code",
   "execution_count": null,
   "id": "e6d95f37",
   "metadata": {},
   "outputs": [],
   "source": []
  }
 ],
 "metadata": {
  "kernelspec": {
   "display_name": "Python 3 (ipykernel)",
   "language": "python",
   "name": "python3"
  },
  "language_info": {
   "codemirror_mode": {
    "name": "ipython",
    "version": 3
   },
   "file_extension": ".py",
   "mimetype": "text/x-python",
   "name": "python",
   "nbconvert_exporter": "python",
   "pygments_lexer": "ipython3",
   "version": "3.9.7"
  }
 },
 "nbformat": 4,
 "nbformat_minor": 5
}

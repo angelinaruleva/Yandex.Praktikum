{
 "cells": [
  {
   "cell_type": "markdown",
   "id": "41a4d1b5",
   "metadata": {},
   "source": [
    "# Определение перспективного тарифа для телеком-компании\n",
    "\n",
    "### Описание проекта \n",
    "\n",
    "Вы аналитик компании «Мегалайн» — федерального оператора сотовой связи. Клиентам предлагают два тарифных плана: «Смарт» и «Ультра». Чтобы скорректировать рекламный бюджет, коммерческий департамент хочет понять, какой тариф приносит больше денег.\n",
    "Вам предстоит сделать предварительный анализ тарифов на небольшой выборке клиентов. В вашем распоряжении данные 500 пользователей «Мегалайна»: кто они, откуда, каким тарифом пользуются, сколько звонков и сообщений каждый отправил за 2018 год. Нужно проанализировать поведение клиентов и сделать вывод — какой тариф лучше.\n",
    "\n",
    "**Цель исследования** - определить, какой тариф приносит приносит больше денег компании."
   ]
  },
  {
   "cell_type": "markdown",
   "id": "718548d7",
   "metadata": {},
   "source": [
    "## Изучение данных из файла"
   ]
  },
  {
   "cell_type": "markdown",
   "id": "aacaa344",
   "metadata": {},
   "source": [
    "**Описание данных**\n",
    "\n",
    "- Таблица users (информация о пользователях):\n",
    "    - `user_id` — уникальный идентификатор пользователя\n",
    "    - `first_name` — имя пользователя\n",
    "    - `last_name` — фамилия пользователя\n",
    "    - `age` — возраст пользователя (годы)\n",
    "    - `reg_date` — дата подключения тарифа (день, месяц, год)\n",
    "    - `churn_date` — дата прекращения пользования тарифом (если значение пропущено, то тариф ещё действовал на момент выгрузки данных)\n",
    "    - `city` — город проживания пользователя\n",
    "    - `tariff` — название тарифного плана\n",
    "- Таблица calls (информация о звонках):\n",
    "    - `id` — уникальный номер звонка\n",
    "    - `call_date` — дата звонка\n",
    "    - `duration` — длительность звонка в минутах\n",
    "    - `user_id` — идентификатор пользователя, сделавшего звонок\n",
    "- Таблица messages (информация о сообщениях):\n",
    "    - `id` — уникальный номер сообщения\n",
    "    - `message_date` — дата сообщения\n",
    "    - `user_id` — идентификатор пользователя, отправившего сообщение\n",
    "- Таблица internet (информация об интернет-сессиях):\n",
    "    - `id` — уникальный номер сессии\n",
    "    - `mb_used` — объём потраченного за сессию интернет-трафика (в мегабайтах)\n",
    "    - `session_date` — дата интернет-сессии\n",
    "    - `user_id` — идентификатор пользователя\n",
    "- Таблица tariffs (информация о тарифах):\n",
    "    - `tariff_name` — название тарифа\n",
    "    - `rub_monthly_fee` — ежемесячная абонентская плата в рублях\n",
    "    - `minutes_included` — количество минут разговора в месяц, включённых в абонентскую плату\n",
    "    - `messages_included` — количество сообщений в месяц, включённых в абонентскую плату\n",
    "    - `mb_per_month_included` — объём интернет-трафика, включённого в абонентскую плату (в мегабайтах)\n",
    "    - `rub_per_minute` — стоимость минуты разговора сверх тарифного пакета (например, если в тарифе 100 минут разговора в месяц, то со 101 минуты будет взиматься плата)\n",
    "    - `rub_per_message` — стоимость отправки сообщения сверх тарифного пакета\n",
    "    - `rub_per_gb` — стоимость дополнительного гигабайта интернет-трафика сверх тарифного пакета (1 гигабайт = 1024 мегабайта)"
   ]
  },
  {
   "cell_type": "markdown",
   "id": "404610a7",
   "metadata": {},
   "source": [
    "Выгрузим данные таблиц в следующие датафреймы:"
   ]
  },
  {
   "cell_type": "markdown",
   "id": "c3ad6dc8",
   "metadata": {},
   "source": [
    "Название переменных:\n",
    "- data_calls - calls.csv\n",
    "- data_internet - internet.csv\n",
    "- data_messages - messages.csv\n",
    "- data_tariffs - tariffs.csv\n",
    "- data_users - users.csv"
   ]
  },
  {
   "cell_type": "code",
   "execution_count": 1,
   "id": "43acd655",
   "metadata": {},
   "outputs": [],
   "source": [
    "# Импорт необходимых библиотек\n",
    "import os\n",
    "import pandas as pd\n",
    "import numpy as np\n",
    "from scipy import stats as st\n",
    "import warnings\n",
    "import matplotlib.pyplot as plt"
   ]
  },
  {
   "cell_type": "code",
   "execution_count": 2,
   "id": "a57e0041",
   "metadata": {},
   "outputs": [
    {
     "name": "stdout",
     "output_type": "stream",
     "text": [
      "Успешное чтение файлов\n"
     ]
    }
   ],
   "source": [
    "# Загрузка файла данных\n",
    "\n",
    "data_path_local_1 = 'C:/Users/Asus3/Documents/Яндекс.Практикум/projects/data/project_4/calls.csv'\n",
    "data_path_local_2 = 'C:/Users/Asus3/Documents/Яндекс.Практикум/projects/data/project_4/internet.csv'\n",
    "data_path_local_3 = 'C:/Users/Asus3/Documents/Яндекс.Практикум/projects/data/project_4/messages.csv'\n",
    "data_path_local_4 = 'C:/Users/Asus3/Documents/Яндекс.Практикум/projects/data/project_4/tariffs.csv'\n",
    "data_path_local_5 = 'C:/Users/Asus3/Documents/Яндекс.Практикум/projects/data/project_4/users.csv'\n",
    "\n",
    "#данные на сервере\n",
    "data_path_server_1 = '/datasets/calls.csv'\n",
    "data_path_server_2 = '/datasets/internet.csv'\n",
    "data_path_server_3 = '/datasets/messages.csv'\n",
    "data_path_server_4 = '/datasets/tariffs.csv'\n",
    "data_path_server_5 = '/datasets/users.csv'\n",
    "\n",
    "if os.path.exists(data_path_local_1):\n",
    "    data_calls = pd.read_csv(data_path_local_1, sep=',')\n",
    "    data_internet = pd.read_csv(data_path_local_2, sep=',')\n",
    "    data_messages = pd.read_csv(data_path_local_3, sep=',')\n",
    "    data_tariffs = pd.read_csv(data_path_local_4, sep=',')\n",
    "    data_users = pd.read_csv(data_path_local_5, sep=',')\n",
    "    print('Успешное чтение файлов')\n",
    "elif os.path.exists(data_path_server_1):\n",
    "    data_calls = pd.read_csv(data_path_server_1, sep=',')\n",
    "    data_internet = pd.read_csv(data_path_server_2, sep=',')\n",
    "    data_messages = pd.read_csv(data_path_server_3, sep=',')\n",
    "    data_tariffs = pd.read_csv(data_path_server_4, sep=',')\n",
    "    data_users = pd.read_csv(data_path_server_5, sep=',')  \n",
    "    print('Успешное чтение файлов')\n",
    "else:\n",
    "    print('Путь к файлу не найден')"
   ]
  },
  {
   "cell_type": "code",
   "execution_count": 3,
   "id": "de05dafa",
   "metadata": {},
   "outputs": [],
   "source": [
    "pd.set_option('display.max_columns', None)"
   ]
  },
  {
   "cell_type": "markdown",
   "id": "02a1eb49",
   "metadata": {},
   "source": [
    "#### 1. Информация о пользователях:"
   ]
  },
  {
   "cell_type": "code",
   "execution_count": 4,
   "id": "5d524f68",
   "metadata": {},
   "outputs": [
    {
     "data": {
      "text/html": [
       "<div>\n",
       "<style scoped>\n",
       "    .dataframe tbody tr th:only-of-type {\n",
       "        vertical-align: middle;\n",
       "    }\n",
       "\n",
       "    .dataframe tbody tr th {\n",
       "        vertical-align: top;\n",
       "    }\n",
       "\n",
       "    .dataframe thead th {\n",
       "        text-align: right;\n",
       "    }\n",
       "</style>\n",
       "<table border=\"1\" class=\"dataframe\">\n",
       "  <thead>\n",
       "    <tr style=\"text-align: right;\">\n",
       "      <th></th>\n",
       "      <th>user_id</th>\n",
       "      <th>age</th>\n",
       "      <th>churn_date</th>\n",
       "      <th>city</th>\n",
       "      <th>first_name</th>\n",
       "      <th>last_name</th>\n",
       "      <th>reg_date</th>\n",
       "      <th>tariff</th>\n",
       "    </tr>\n",
       "  </thead>\n",
       "  <tbody>\n",
       "    <tr>\n",
       "      <th>0</th>\n",
       "      <td>1000</td>\n",
       "      <td>52</td>\n",
       "      <td>NaN</td>\n",
       "      <td>Краснодар</td>\n",
       "      <td>Рафаил</td>\n",
       "      <td>Верещагин</td>\n",
       "      <td>2018-05-25</td>\n",
       "      <td>ultra</td>\n",
       "    </tr>\n",
       "    <tr>\n",
       "      <th>1</th>\n",
       "      <td>1001</td>\n",
       "      <td>41</td>\n",
       "      <td>NaN</td>\n",
       "      <td>Москва</td>\n",
       "      <td>Иван</td>\n",
       "      <td>Ежов</td>\n",
       "      <td>2018-11-01</td>\n",
       "      <td>smart</td>\n",
       "    </tr>\n",
       "    <tr>\n",
       "      <th>2</th>\n",
       "      <td>1002</td>\n",
       "      <td>59</td>\n",
       "      <td>NaN</td>\n",
       "      <td>Стерлитамак</td>\n",
       "      <td>Евгений</td>\n",
       "      <td>Абрамович</td>\n",
       "      <td>2018-06-17</td>\n",
       "      <td>smart</td>\n",
       "    </tr>\n",
       "    <tr>\n",
       "      <th>3</th>\n",
       "      <td>1003</td>\n",
       "      <td>23</td>\n",
       "      <td>NaN</td>\n",
       "      <td>Москва</td>\n",
       "      <td>Белла</td>\n",
       "      <td>Белякова</td>\n",
       "      <td>2018-08-17</td>\n",
       "      <td>ultra</td>\n",
       "    </tr>\n",
       "    <tr>\n",
       "      <th>4</th>\n",
       "      <td>1004</td>\n",
       "      <td>68</td>\n",
       "      <td>NaN</td>\n",
       "      <td>Новокузнецк</td>\n",
       "      <td>Татьяна</td>\n",
       "      <td>Авдеенко</td>\n",
       "      <td>2018-05-14</td>\n",
       "      <td>ultra</td>\n",
       "    </tr>\n",
       "    <tr>\n",
       "      <th>...</th>\n",
       "      <td>...</td>\n",
       "      <td>...</td>\n",
       "      <td>...</td>\n",
       "      <td>...</td>\n",
       "      <td>...</td>\n",
       "      <td>...</td>\n",
       "      <td>...</td>\n",
       "      <td>...</td>\n",
       "    </tr>\n",
       "    <tr>\n",
       "      <th>495</th>\n",
       "      <td>1495</td>\n",
       "      <td>65</td>\n",
       "      <td>NaN</td>\n",
       "      <td>Иркутск</td>\n",
       "      <td>Авксентий</td>\n",
       "      <td>Фокин</td>\n",
       "      <td>2018-08-28</td>\n",
       "      <td>ultra</td>\n",
       "    </tr>\n",
       "    <tr>\n",
       "      <th>496</th>\n",
       "      <td>1496</td>\n",
       "      <td>36</td>\n",
       "      <td>NaN</td>\n",
       "      <td>Вологда</td>\n",
       "      <td>Трифон</td>\n",
       "      <td>Блохин</td>\n",
       "      <td>2018-01-27</td>\n",
       "      <td>smart</td>\n",
       "    </tr>\n",
       "    <tr>\n",
       "      <th>497</th>\n",
       "      <td>1497</td>\n",
       "      <td>32</td>\n",
       "      <td>NaN</td>\n",
       "      <td>Челябинск</td>\n",
       "      <td>Каролина</td>\n",
       "      <td>Агеева</td>\n",
       "      <td>2018-10-09</td>\n",
       "      <td>smart</td>\n",
       "    </tr>\n",
       "    <tr>\n",
       "      <th>498</th>\n",
       "      <td>1498</td>\n",
       "      <td>68</td>\n",
       "      <td>2018-10-25</td>\n",
       "      <td>Владикавказ</td>\n",
       "      <td>Всеволод</td>\n",
       "      <td>Акимчин</td>\n",
       "      <td>2018-07-19</td>\n",
       "      <td>smart</td>\n",
       "    </tr>\n",
       "    <tr>\n",
       "      <th>499</th>\n",
       "      <td>1499</td>\n",
       "      <td>35</td>\n",
       "      <td>NaN</td>\n",
       "      <td>Пермь</td>\n",
       "      <td>Гектор</td>\n",
       "      <td>Корнилов</td>\n",
       "      <td>2018-09-27</td>\n",
       "      <td>smart</td>\n",
       "    </tr>\n",
       "  </tbody>\n",
       "</table>\n",
       "<p>500 rows × 8 columns</p>\n",
       "</div>"
      ],
      "text/plain": [
       "     user_id  age  churn_date         city first_name  last_name    reg_date  \\\n",
       "0       1000   52         NaN    Краснодар     Рафаил  Верещагин  2018-05-25   \n",
       "1       1001   41         NaN       Москва       Иван       Ежов  2018-11-01   \n",
       "2       1002   59         NaN  Стерлитамак    Евгений  Абрамович  2018-06-17   \n",
       "3       1003   23         NaN       Москва      Белла   Белякова  2018-08-17   \n",
       "4       1004   68         NaN  Новокузнецк    Татьяна   Авдеенко  2018-05-14   \n",
       "..       ...  ...         ...          ...        ...        ...         ...   \n",
       "495     1495   65         NaN      Иркутск  Авксентий      Фокин  2018-08-28   \n",
       "496     1496   36         NaN      Вологда     Трифон     Блохин  2018-01-27   \n",
       "497     1497   32         NaN    Челябинск   Каролина     Агеева  2018-10-09   \n",
       "498     1498   68  2018-10-25  Владикавказ   Всеволод    Акимчин  2018-07-19   \n",
       "499     1499   35         NaN        Пермь     Гектор   Корнилов  2018-09-27   \n",
       "\n",
       "    tariff  \n",
       "0    ultra  \n",
       "1    smart  \n",
       "2    smart  \n",
       "3    ultra  \n",
       "4    ultra  \n",
       "..     ...  \n",
       "495  ultra  \n",
       "496  smart  \n",
       "497  smart  \n",
       "498  smart  \n",
       "499  smart  \n",
       "\n",
       "[500 rows x 8 columns]"
      ]
     },
     "execution_count": 4,
     "metadata": {},
     "output_type": "execute_result"
    }
   ],
   "source": [
    "data_users"
   ]
  },
  {
   "cell_type": "code",
   "execution_count": 5,
   "id": "b0295119",
   "metadata": {},
   "outputs": [
    {
     "name": "stdout",
     "output_type": "stream",
     "text": [
      "<class 'pandas.core.frame.DataFrame'>\n",
      "RangeIndex: 500 entries, 0 to 499\n",
      "Data columns (total 8 columns):\n",
      " #   Column      Non-Null Count  Dtype \n",
      "---  ------      --------------  ----- \n",
      " 0   user_id     500 non-null    int64 \n",
      " 1   age         500 non-null    int64 \n",
      " 2   churn_date  38 non-null     object\n",
      " 3   city        500 non-null    object\n",
      " 4   first_name  500 non-null    object\n",
      " 5   last_name   500 non-null    object\n",
      " 6   reg_date    500 non-null    object\n",
      " 7   tariff      500 non-null    object\n",
      "dtypes: int64(2), object(6)\n",
      "memory usage: 31.4+ KB\n"
     ]
    }
   ],
   "source": [
    "data_users.info()"
   ]
  },
  {
   "cell_type": "code",
   "execution_count": 6,
   "id": "4547df66",
   "metadata": {},
   "outputs": [
    {
     "data": {
      "text/html": [
       "<div>\n",
       "<style scoped>\n",
       "    .dataframe tbody tr th:only-of-type {\n",
       "        vertical-align: middle;\n",
       "    }\n",
       "\n",
       "    .dataframe tbody tr th {\n",
       "        vertical-align: top;\n",
       "    }\n",
       "\n",
       "    .dataframe thead th {\n",
       "        text-align: right;\n",
       "    }\n",
       "</style>\n",
       "<table border=\"1\" class=\"dataframe\">\n",
       "  <thead>\n",
       "    <tr style=\"text-align: right;\">\n",
       "      <th></th>\n",
       "      <th>user_id</th>\n",
       "      <th>age</th>\n",
       "      <th>churn_date</th>\n",
       "      <th>city</th>\n",
       "      <th>first_name</th>\n",
       "      <th>last_name</th>\n",
       "      <th>reg_date</th>\n",
       "      <th>tariff</th>\n",
       "    </tr>\n",
       "  </thead>\n",
       "  <tbody>\n",
       "  </tbody>\n",
       "</table>\n",
       "</div>"
      ],
      "text/plain": [
       "Empty DataFrame\n",
       "Columns: [user_id, age, churn_date, city, first_name, last_name, reg_date, tariff]\n",
       "Index: []"
      ]
     },
     "execution_count": 6,
     "metadata": {},
     "output_type": "execute_result"
    }
   ],
   "source": [
    "data_users.query('reg_date == churn_date')"
   ]
  },
  {
   "cell_type": "markdown",
   "id": "01565341",
   "metadata": {},
   "source": [
    "В столбце `churn_date` есть пропуски, это значит, что клиент не менял тариф. "
   ]
  },
  {
   "cell_type": "markdown",
   "id": "0a5110b0",
   "metadata": {},
   "source": [
    "#### 2. Информация о звонках:"
   ]
  },
  {
   "cell_type": "code",
   "execution_count": 7,
   "id": "6056db25",
   "metadata": {},
   "outputs": [
    {
     "data": {
      "text/html": [
       "<div>\n",
       "<style scoped>\n",
       "    .dataframe tbody tr th:only-of-type {\n",
       "        vertical-align: middle;\n",
       "    }\n",
       "\n",
       "    .dataframe tbody tr th {\n",
       "        vertical-align: top;\n",
       "    }\n",
       "\n",
       "    .dataframe thead th {\n",
       "        text-align: right;\n",
       "    }\n",
       "</style>\n",
       "<table border=\"1\" class=\"dataframe\">\n",
       "  <thead>\n",
       "    <tr style=\"text-align: right;\">\n",
       "      <th></th>\n",
       "      <th>id</th>\n",
       "      <th>call_date</th>\n",
       "      <th>duration</th>\n",
       "      <th>user_id</th>\n",
       "    </tr>\n",
       "  </thead>\n",
       "  <tbody>\n",
       "    <tr>\n",
       "      <th>0</th>\n",
       "      <td>1000_0</td>\n",
       "      <td>2018-07-25</td>\n",
       "      <td>0.00</td>\n",
       "      <td>1000</td>\n",
       "    </tr>\n",
       "    <tr>\n",
       "      <th>1</th>\n",
       "      <td>1000_1</td>\n",
       "      <td>2018-08-17</td>\n",
       "      <td>0.00</td>\n",
       "      <td>1000</td>\n",
       "    </tr>\n",
       "    <tr>\n",
       "      <th>2</th>\n",
       "      <td>1000_2</td>\n",
       "      <td>2018-06-11</td>\n",
       "      <td>2.85</td>\n",
       "      <td>1000</td>\n",
       "    </tr>\n",
       "    <tr>\n",
       "      <th>3</th>\n",
       "      <td>1000_3</td>\n",
       "      <td>2018-09-21</td>\n",
       "      <td>13.80</td>\n",
       "      <td>1000</td>\n",
       "    </tr>\n",
       "    <tr>\n",
       "      <th>4</th>\n",
       "      <td>1000_4</td>\n",
       "      <td>2018-12-15</td>\n",
       "      <td>5.18</td>\n",
       "      <td>1000</td>\n",
       "    </tr>\n",
       "    <tr>\n",
       "      <th>...</th>\n",
       "      <td>...</td>\n",
       "      <td>...</td>\n",
       "      <td>...</td>\n",
       "      <td>...</td>\n",
       "    </tr>\n",
       "    <tr>\n",
       "      <th>202602</th>\n",
       "      <td>1499_215</td>\n",
       "      <td>2018-12-26</td>\n",
       "      <td>0.76</td>\n",
       "      <td>1499</td>\n",
       "    </tr>\n",
       "    <tr>\n",
       "      <th>202603</th>\n",
       "      <td>1499_216</td>\n",
       "      <td>2018-10-18</td>\n",
       "      <td>18.83</td>\n",
       "      <td>1499</td>\n",
       "    </tr>\n",
       "    <tr>\n",
       "      <th>202604</th>\n",
       "      <td>1499_217</td>\n",
       "      <td>2018-11-10</td>\n",
       "      <td>10.81</td>\n",
       "      <td>1499</td>\n",
       "    </tr>\n",
       "    <tr>\n",
       "      <th>202605</th>\n",
       "      <td>1499_218</td>\n",
       "      <td>2018-10-06</td>\n",
       "      <td>4.27</td>\n",
       "      <td>1499</td>\n",
       "    </tr>\n",
       "    <tr>\n",
       "      <th>202606</th>\n",
       "      <td>1499_219</td>\n",
       "      <td>2018-12-14</td>\n",
       "      <td>19.62</td>\n",
       "      <td>1499</td>\n",
       "    </tr>\n",
       "  </tbody>\n",
       "</table>\n",
       "<p>202607 rows × 4 columns</p>\n",
       "</div>"
      ],
      "text/plain": [
       "              id   call_date  duration  user_id\n",
       "0         1000_0  2018-07-25      0.00     1000\n",
       "1         1000_1  2018-08-17      0.00     1000\n",
       "2         1000_2  2018-06-11      2.85     1000\n",
       "3         1000_3  2018-09-21     13.80     1000\n",
       "4         1000_4  2018-12-15      5.18     1000\n",
       "...          ...         ...       ...      ...\n",
       "202602  1499_215  2018-12-26      0.76     1499\n",
       "202603  1499_216  2018-10-18     18.83     1499\n",
       "202604  1499_217  2018-11-10     10.81     1499\n",
       "202605  1499_218  2018-10-06      4.27     1499\n",
       "202606  1499_219  2018-12-14     19.62     1499\n",
       "\n",
       "[202607 rows x 4 columns]"
      ]
     },
     "execution_count": 7,
     "metadata": {},
     "output_type": "execute_result"
    }
   ],
   "source": [
    "data_calls"
   ]
  },
  {
   "cell_type": "code",
   "execution_count": 8,
   "id": "2301d1f3",
   "metadata": {},
   "outputs": [
    {
     "name": "stdout",
     "output_type": "stream",
     "text": [
      "<class 'pandas.core.frame.DataFrame'>\n",
      "RangeIndex: 202607 entries, 0 to 202606\n",
      "Data columns (total 4 columns):\n",
      " #   Column     Non-Null Count   Dtype  \n",
      "---  ------     --------------   -----  \n",
      " 0   id         202607 non-null  object \n",
      " 1   call_date  202607 non-null  object \n",
      " 2   duration   202607 non-null  float64\n",
      " 3   user_id    202607 non-null  int64  \n",
      "dtypes: float64(1), int64(1), object(2)\n",
      "memory usage: 6.2+ MB\n"
     ]
    }
   ],
   "source": [
    "data_calls.info()"
   ]
  },
  {
   "cell_type": "markdown",
   "id": "1b9ef00b",
   "metadata": {},
   "source": [
    "#### 3. Информация о сообщениях"
   ]
  },
  {
   "cell_type": "code",
   "execution_count": 9,
   "id": "5118dbbb",
   "metadata": {},
   "outputs": [
    {
     "data": {
      "text/html": [
       "<div>\n",
       "<style scoped>\n",
       "    .dataframe tbody tr th:only-of-type {\n",
       "        vertical-align: middle;\n",
       "    }\n",
       "\n",
       "    .dataframe tbody tr th {\n",
       "        vertical-align: top;\n",
       "    }\n",
       "\n",
       "    .dataframe thead th {\n",
       "        text-align: right;\n",
       "    }\n",
       "</style>\n",
       "<table border=\"1\" class=\"dataframe\">\n",
       "  <thead>\n",
       "    <tr style=\"text-align: right;\">\n",
       "      <th></th>\n",
       "      <th>id</th>\n",
       "      <th>message_date</th>\n",
       "      <th>user_id</th>\n",
       "    </tr>\n",
       "  </thead>\n",
       "  <tbody>\n",
       "    <tr>\n",
       "      <th>0</th>\n",
       "      <td>1000_0</td>\n",
       "      <td>2018-06-27</td>\n",
       "      <td>1000</td>\n",
       "    </tr>\n",
       "    <tr>\n",
       "      <th>1</th>\n",
       "      <td>1000_1</td>\n",
       "      <td>2018-10-08</td>\n",
       "      <td>1000</td>\n",
       "    </tr>\n",
       "    <tr>\n",
       "      <th>2</th>\n",
       "      <td>1000_2</td>\n",
       "      <td>2018-08-04</td>\n",
       "      <td>1000</td>\n",
       "    </tr>\n",
       "    <tr>\n",
       "      <th>3</th>\n",
       "      <td>1000_3</td>\n",
       "      <td>2018-06-16</td>\n",
       "      <td>1000</td>\n",
       "    </tr>\n",
       "    <tr>\n",
       "      <th>4</th>\n",
       "      <td>1000_4</td>\n",
       "      <td>2018-12-05</td>\n",
       "      <td>1000</td>\n",
       "    </tr>\n",
       "    <tr>\n",
       "      <th>...</th>\n",
       "      <td>...</td>\n",
       "      <td>...</td>\n",
       "      <td>...</td>\n",
       "    </tr>\n",
       "    <tr>\n",
       "      <th>123031</th>\n",
       "      <td>1499_179</td>\n",
       "      <td>2018-12-12</td>\n",
       "      <td>1499</td>\n",
       "    </tr>\n",
       "    <tr>\n",
       "      <th>123032</th>\n",
       "      <td>1499_180</td>\n",
       "      <td>2018-09-28</td>\n",
       "      <td>1499</td>\n",
       "    </tr>\n",
       "    <tr>\n",
       "      <th>123033</th>\n",
       "      <td>1499_181</td>\n",
       "      <td>2018-09-27</td>\n",
       "      <td>1499</td>\n",
       "    </tr>\n",
       "    <tr>\n",
       "      <th>123034</th>\n",
       "      <td>1499_182</td>\n",
       "      <td>2018-11-15</td>\n",
       "      <td>1499</td>\n",
       "    </tr>\n",
       "    <tr>\n",
       "      <th>123035</th>\n",
       "      <td>1499_183</td>\n",
       "      <td>2018-11-16</td>\n",
       "      <td>1499</td>\n",
       "    </tr>\n",
       "  </tbody>\n",
       "</table>\n",
       "<p>123036 rows × 3 columns</p>\n",
       "</div>"
      ],
      "text/plain": [
       "              id message_date  user_id\n",
       "0         1000_0   2018-06-27     1000\n",
       "1         1000_1   2018-10-08     1000\n",
       "2         1000_2   2018-08-04     1000\n",
       "3         1000_3   2018-06-16     1000\n",
       "4         1000_4   2018-12-05     1000\n",
       "...          ...          ...      ...\n",
       "123031  1499_179   2018-12-12     1499\n",
       "123032  1499_180   2018-09-28     1499\n",
       "123033  1499_181   2018-09-27     1499\n",
       "123034  1499_182   2018-11-15     1499\n",
       "123035  1499_183   2018-11-16     1499\n",
       "\n",
       "[123036 rows x 3 columns]"
      ]
     },
     "execution_count": 9,
     "metadata": {},
     "output_type": "execute_result"
    }
   ],
   "source": [
    "data_messages"
   ]
  },
  {
   "cell_type": "code",
   "execution_count": 10,
   "id": "770a4eab",
   "metadata": {},
   "outputs": [
    {
     "name": "stdout",
     "output_type": "stream",
     "text": [
      "<class 'pandas.core.frame.DataFrame'>\n",
      "RangeIndex: 123036 entries, 0 to 123035\n",
      "Data columns (total 3 columns):\n",
      " #   Column        Non-Null Count   Dtype \n",
      "---  ------        --------------   ----- \n",
      " 0   id            123036 non-null  object\n",
      " 1   message_date  123036 non-null  object\n",
      " 2   user_id       123036 non-null  int64 \n",
      "dtypes: int64(1), object(2)\n",
      "memory usage: 2.8+ MB\n"
     ]
    }
   ],
   "source": [
    "data_messages.info()"
   ]
  },
  {
   "cell_type": "markdown",
   "id": "c34811cb",
   "metadata": {},
   "source": [
    "`message_date` перевести в формат datetime."
   ]
  },
  {
   "cell_type": "markdown",
   "id": "22872dad",
   "metadata": {},
   "source": [
    "#### 4. Информация об интернет-сессиях"
   ]
  },
  {
   "cell_type": "code",
   "execution_count": 11,
   "id": "1dbe7422",
   "metadata": {},
   "outputs": [
    {
     "data": {
      "text/html": [
       "<div>\n",
       "<style scoped>\n",
       "    .dataframe tbody tr th:only-of-type {\n",
       "        vertical-align: middle;\n",
       "    }\n",
       "\n",
       "    .dataframe tbody tr th {\n",
       "        vertical-align: top;\n",
       "    }\n",
       "\n",
       "    .dataframe thead th {\n",
       "        text-align: right;\n",
       "    }\n",
       "</style>\n",
       "<table border=\"1\" class=\"dataframe\">\n",
       "  <thead>\n",
       "    <tr style=\"text-align: right;\">\n",
       "      <th></th>\n",
       "      <th>Unnamed: 0</th>\n",
       "      <th>id</th>\n",
       "      <th>mb_used</th>\n",
       "      <th>session_date</th>\n",
       "      <th>user_id</th>\n",
       "    </tr>\n",
       "  </thead>\n",
       "  <tbody>\n",
       "    <tr>\n",
       "      <th>0</th>\n",
       "      <td>0</td>\n",
       "      <td>1000_0</td>\n",
       "      <td>112.95</td>\n",
       "      <td>2018-11-25</td>\n",
       "      <td>1000</td>\n",
       "    </tr>\n",
       "    <tr>\n",
       "      <th>1</th>\n",
       "      <td>1</td>\n",
       "      <td>1000_1</td>\n",
       "      <td>1052.81</td>\n",
       "      <td>2018-09-07</td>\n",
       "      <td>1000</td>\n",
       "    </tr>\n",
       "    <tr>\n",
       "      <th>2</th>\n",
       "      <td>2</td>\n",
       "      <td>1000_2</td>\n",
       "      <td>1197.26</td>\n",
       "      <td>2018-06-25</td>\n",
       "      <td>1000</td>\n",
       "    </tr>\n",
       "    <tr>\n",
       "      <th>3</th>\n",
       "      <td>3</td>\n",
       "      <td>1000_3</td>\n",
       "      <td>550.27</td>\n",
       "      <td>2018-08-22</td>\n",
       "      <td>1000</td>\n",
       "    </tr>\n",
       "    <tr>\n",
       "      <th>4</th>\n",
       "      <td>4</td>\n",
       "      <td>1000_4</td>\n",
       "      <td>302.56</td>\n",
       "      <td>2018-09-24</td>\n",
       "      <td>1000</td>\n",
       "    </tr>\n",
       "    <tr>\n",
       "      <th>...</th>\n",
       "      <td>...</td>\n",
       "      <td>...</td>\n",
       "      <td>...</td>\n",
       "      <td>...</td>\n",
       "      <td>...</td>\n",
       "    </tr>\n",
       "    <tr>\n",
       "      <th>149391</th>\n",
       "      <td>149391</td>\n",
       "      <td>1499_152</td>\n",
       "      <td>318.90</td>\n",
       "      <td>2018-10-03</td>\n",
       "      <td>1499</td>\n",
       "    </tr>\n",
       "    <tr>\n",
       "      <th>149392</th>\n",
       "      <td>149392</td>\n",
       "      <td>1499_153</td>\n",
       "      <td>490.13</td>\n",
       "      <td>2018-12-14</td>\n",
       "      <td>1499</td>\n",
       "    </tr>\n",
       "    <tr>\n",
       "      <th>149393</th>\n",
       "      <td>149393</td>\n",
       "      <td>1499_154</td>\n",
       "      <td>0.00</td>\n",
       "      <td>2018-10-27</td>\n",
       "      <td>1499</td>\n",
       "    </tr>\n",
       "    <tr>\n",
       "      <th>149394</th>\n",
       "      <td>149394</td>\n",
       "      <td>1499_155</td>\n",
       "      <td>1246.32</td>\n",
       "      <td>2018-11-26</td>\n",
       "      <td>1499</td>\n",
       "    </tr>\n",
       "    <tr>\n",
       "      <th>149395</th>\n",
       "      <td>149395</td>\n",
       "      <td>1499_156</td>\n",
       "      <td>544.37</td>\n",
       "      <td>2018-10-26</td>\n",
       "      <td>1499</td>\n",
       "    </tr>\n",
       "  </tbody>\n",
       "</table>\n",
       "<p>149396 rows × 5 columns</p>\n",
       "</div>"
      ],
      "text/plain": [
       "        Unnamed: 0        id  mb_used session_date  user_id\n",
       "0                0    1000_0   112.95   2018-11-25     1000\n",
       "1                1    1000_1  1052.81   2018-09-07     1000\n",
       "2                2    1000_2  1197.26   2018-06-25     1000\n",
       "3                3    1000_3   550.27   2018-08-22     1000\n",
       "4                4    1000_4   302.56   2018-09-24     1000\n",
       "...            ...       ...      ...          ...      ...\n",
       "149391      149391  1499_152   318.90   2018-10-03     1499\n",
       "149392      149392  1499_153   490.13   2018-12-14     1499\n",
       "149393      149393  1499_154     0.00   2018-10-27     1499\n",
       "149394      149394  1499_155  1246.32   2018-11-26     1499\n",
       "149395      149395  1499_156   544.37   2018-10-26     1499\n",
       "\n",
       "[149396 rows x 5 columns]"
      ]
     },
     "execution_count": 11,
     "metadata": {},
     "output_type": "execute_result"
    }
   ],
   "source": [
    "data_internet"
   ]
  },
  {
   "cell_type": "markdown",
   "id": "64e87d5d",
   "metadata": {},
   "source": [
    "В столбце `mb_used` присутствуют нулевые значения - это может свидетельствовать о том, что в этот день клиент не пользовался мобильным интернетом."
   ]
  },
  {
   "cell_type": "code",
   "execution_count": 12,
   "id": "79ae793a",
   "metadata": {},
   "outputs": [
    {
     "name": "stdout",
     "output_type": "stream",
     "text": [
      "<class 'pandas.core.frame.DataFrame'>\n",
      "RangeIndex: 149396 entries, 0 to 149395\n",
      "Data columns (total 5 columns):\n",
      " #   Column        Non-Null Count   Dtype  \n",
      "---  ------        --------------   -----  \n",
      " 0   Unnamed: 0    149396 non-null  int64  \n",
      " 1   id            149396 non-null  object \n",
      " 2   mb_used       149396 non-null  float64\n",
      " 3   session_date  149396 non-null  object \n",
      " 4   user_id       149396 non-null  int64  \n",
      "dtypes: float64(1), int64(2), object(2)\n",
      "memory usage: 5.7+ MB\n"
     ]
    }
   ],
   "source": [
    "data_internet.info()"
   ]
  },
  {
   "cell_type": "markdown",
   "id": "c45581a7",
   "metadata": {},
   "source": [
    "В таблице присутствует столбец `Unnamed: 0`, который дублирует индексы датафрейма, далее удалим его."
   ]
  },
  {
   "cell_type": "markdown",
   "id": "78ba78cd",
   "metadata": {},
   "source": [
    "#### 5. Информация о тарифах"
   ]
  },
  {
   "cell_type": "code",
   "execution_count": 13,
   "id": "93366aae",
   "metadata": {},
   "outputs": [
    {
     "data": {
      "text/html": [
       "<div>\n",
       "<style scoped>\n",
       "    .dataframe tbody tr th:only-of-type {\n",
       "        vertical-align: middle;\n",
       "    }\n",
       "\n",
       "    .dataframe tbody tr th {\n",
       "        vertical-align: top;\n",
       "    }\n",
       "\n",
       "    .dataframe thead th {\n",
       "        text-align: right;\n",
       "    }\n",
       "</style>\n",
       "<table border=\"1\" class=\"dataframe\">\n",
       "  <thead>\n",
       "    <tr style=\"text-align: right;\">\n",
       "      <th></th>\n",
       "      <th>messages_included</th>\n",
       "      <th>mb_per_month_included</th>\n",
       "      <th>minutes_included</th>\n",
       "      <th>rub_monthly_fee</th>\n",
       "      <th>rub_per_gb</th>\n",
       "      <th>rub_per_message</th>\n",
       "      <th>rub_per_minute</th>\n",
       "      <th>tariff_name</th>\n",
       "    </tr>\n",
       "  </thead>\n",
       "  <tbody>\n",
       "    <tr>\n",
       "      <th>0</th>\n",
       "      <td>50</td>\n",
       "      <td>15360</td>\n",
       "      <td>500</td>\n",
       "      <td>550</td>\n",
       "      <td>200</td>\n",
       "      <td>3</td>\n",
       "      <td>3</td>\n",
       "      <td>smart</td>\n",
       "    </tr>\n",
       "    <tr>\n",
       "      <th>1</th>\n",
       "      <td>1000</td>\n",
       "      <td>30720</td>\n",
       "      <td>3000</td>\n",
       "      <td>1950</td>\n",
       "      <td>150</td>\n",
       "      <td>1</td>\n",
       "      <td>1</td>\n",
       "      <td>ultra</td>\n",
       "    </tr>\n",
       "  </tbody>\n",
       "</table>\n",
       "</div>"
      ],
      "text/plain": [
       "   messages_included  mb_per_month_included  minutes_included  \\\n",
       "0                 50                  15360               500   \n",
       "1               1000                  30720              3000   \n",
       "\n",
       "   rub_monthly_fee  rub_per_gb  rub_per_message  rub_per_minute tariff_name  \n",
       "0              550         200                3               3       smart  \n",
       "1             1950         150                1               1       ultra  "
      ]
     },
     "execution_count": 13,
     "metadata": {},
     "output_type": "execute_result"
    }
   ],
   "source": [
    "data_tariffs"
   ]
  },
  {
   "cell_type": "code",
   "execution_count": 14,
   "id": "8e182ede",
   "metadata": {
    "scrolled": true
   },
   "outputs": [
    {
     "name": "stdout",
     "output_type": "stream",
     "text": [
      "<class 'pandas.core.frame.DataFrame'>\n",
      "RangeIndex: 2 entries, 0 to 1\n",
      "Data columns (total 8 columns):\n",
      " #   Column                 Non-Null Count  Dtype \n",
      "---  ------                 --------------  ----- \n",
      " 0   messages_included      2 non-null      int64 \n",
      " 1   mb_per_month_included  2 non-null      int64 \n",
      " 2   minutes_included       2 non-null      int64 \n",
      " 3   rub_monthly_fee        2 non-null      int64 \n",
      " 4   rub_per_gb             2 non-null      int64 \n",
      " 5   rub_per_message        2 non-null      int64 \n",
      " 6   rub_per_minute         2 non-null      int64 \n",
      " 7   tariff_name            2 non-null      object\n",
      "dtypes: int64(7), object(1)\n",
      "memory usage: 256.0+ bytes\n"
     ]
    }
   ],
   "source": [
    "data_tariffs.info()"
   ]
  },
  {
   "cell_type": "markdown",
   "id": "403c32fd",
   "metadata": {},
   "source": [
    "Добавим в таблицу количество гигабайтов"
   ]
  },
  {
   "cell_type": "code",
   "execution_count": 15,
   "id": "fe98defb",
   "metadata": {},
   "outputs": [
    {
     "name": "stdout",
     "output_type": "stream",
     "text": [
      "<class 'pandas.core.frame.DataFrame'>\n",
      "RangeIndex: 2 entries, 0 to 1\n",
      "Data columns (total 9 columns):\n",
      " #   Column                 Non-Null Count  Dtype \n",
      "---  ------                 --------------  ----- \n",
      " 0   messages_included      2 non-null      int64 \n",
      " 1   mb_per_month_included  2 non-null      int64 \n",
      " 2   minutes_included       2 non-null      int64 \n",
      " 3   rub_monthly_fee        2 non-null      int64 \n",
      " 4   rub_per_gb             2 non-null      int64 \n",
      " 5   rub_per_message        2 non-null      int64 \n",
      " 6   rub_per_minute         2 non-null      int64 \n",
      " 7   tariff_name            2 non-null      object\n",
      " 8   gb_per_month_included  2 non-null      int64 \n",
      "dtypes: int64(8), object(1)\n",
      "memory usage: 272.0+ bytes\n"
     ]
    },
    {
     "data": {
      "text/html": [
       "<div>\n",
       "<style scoped>\n",
       "    .dataframe tbody tr th:only-of-type {\n",
       "        vertical-align: middle;\n",
       "    }\n",
       "\n",
       "    .dataframe tbody tr th {\n",
       "        vertical-align: top;\n",
       "    }\n",
       "\n",
       "    .dataframe thead th {\n",
       "        text-align: right;\n",
       "    }\n",
       "</style>\n",
       "<table border=\"1\" class=\"dataframe\">\n",
       "  <thead>\n",
       "    <tr style=\"text-align: right;\">\n",
       "      <th></th>\n",
       "      <th>messages_included</th>\n",
       "      <th>mb_per_month_included</th>\n",
       "      <th>minutes_included</th>\n",
       "      <th>rub_monthly_fee</th>\n",
       "      <th>rub_per_gb</th>\n",
       "      <th>rub_per_message</th>\n",
       "      <th>rub_per_minute</th>\n",
       "      <th>tariff_name</th>\n",
       "      <th>gb_per_month_included</th>\n",
       "    </tr>\n",
       "  </thead>\n",
       "  <tbody>\n",
       "    <tr>\n",
       "      <th>0</th>\n",
       "      <td>50</td>\n",
       "      <td>15360</td>\n",
       "      <td>500</td>\n",
       "      <td>550</td>\n",
       "      <td>200</td>\n",
       "      <td>3</td>\n",
       "      <td>3</td>\n",
       "      <td>smart</td>\n",
       "      <td>15</td>\n",
       "    </tr>\n",
       "    <tr>\n",
       "      <th>1</th>\n",
       "      <td>1000</td>\n",
       "      <td>30720</td>\n",
       "      <td>3000</td>\n",
       "      <td>1950</td>\n",
       "      <td>150</td>\n",
       "      <td>1</td>\n",
       "      <td>1</td>\n",
       "      <td>ultra</td>\n",
       "      <td>30</td>\n",
       "    </tr>\n",
       "  </tbody>\n",
       "</table>\n",
       "</div>"
      ],
      "text/plain": [
       "   messages_included  mb_per_month_included  minutes_included  \\\n",
       "0                 50                  15360               500   \n",
       "1               1000                  30720              3000   \n",
       "\n",
       "   rub_monthly_fee  rub_per_gb  rub_per_message  rub_per_minute tariff_name  \\\n",
       "0              550         200                3               3       smart   \n",
       "1             1950         150                1               1       ultra   \n",
       "\n",
       "   gb_per_month_included  \n",
       "0                     15  \n",
       "1                     30  "
      ]
     },
     "execution_count": 15,
     "metadata": {},
     "output_type": "execute_result"
    }
   ],
   "source": [
    "data_tariffs['gb_per_month_included'] = data_tariffs['mb_per_month_included'] / 1024\n",
    "data_tariffs = data_tariffs.astype({'gb_per_month_included': np.int64})\n",
    "data_tariffs.info()\n",
    "data_tariffs"
   ]
  },
  {
   "cell_type": "markdown",
   "id": "c86d1cf7",
   "metadata": {},
   "source": [
    "## 1. Предобработка данных"
   ]
  },
  {
   "cell_type": "markdown",
   "id": "e8e88395",
   "metadata": {},
   "source": [
    "### 1.1 Таблица о пользователях `data_users`\n",
    "\n",
    "#### 1.1.1 Столбец `user_id`"
   ]
  },
  {
   "cell_type": "code",
   "execution_count": 16,
   "id": "b8c16e74",
   "metadata": {},
   "outputs": [
    {
     "name": "stdout",
     "output_type": "stream",
     "text": [
      "Количество уникальных значений в столбце \"user_id\" :\n",
      " 500\n"
     ]
    }
   ],
   "source": [
    "print('Количество уникальных значений в столбце \"user_id\" :\\n', data_users['user_id'].nunique())\n",
    "#print('Множество уникальных значений в столбце \"user_id\" :\\n', data_users['user_id'].unique())"
   ]
  },
  {
   "cell_type": "markdown",
   "id": "b1d16722",
   "metadata": {},
   "source": [
    "#### 1.1.2 Столбец `age`"
   ]
  },
  {
   "cell_type": "code",
   "execution_count": 17,
   "id": "59a5cf87",
   "metadata": {},
   "outputs": [
    {
     "name": "stdout",
     "output_type": "stream",
     "text": [
      "Минимальное значение в столбце \"age\" = 18\n",
      "Максимальное значение в столбце \"age\" = 75\n"
     ]
    }
   ],
   "source": [
    "#print('Множество значений в столбце \"age\" :\\n', data_users['age'].unique())\n",
    "print('Минимальное значение в столбце \"age\" =', data_users['age'].min())\n",
    "print('Максимальное значение в столбце \"age\" =', data_users['age'].max())"
   ]
  },
  {
   "cell_type": "markdown",
   "id": "f4f11a39",
   "metadata": {},
   "source": [
    "Минимальный возраст клиента - 18 лет, максимальный возраст - 75 лет.\n",
    "Аномальных значений не обнаружено: в таблице нет клиентов с возрастом меньше 18 лет, старше 100 лет или отрицательных значений."
   ]
  },
  {
   "cell_type": "markdown",
   "id": "6439a7a8",
   "metadata": {},
   "source": [
    "#### 1.1.3 Столбец `reg_date`"
   ]
  },
  {
   "cell_type": "code",
   "execution_count": 18,
   "id": "5520fd10",
   "metadata": {},
   "outputs": [
    {
     "name": "stdout",
     "output_type": "stream",
     "text": [
      "Количество уникальных значений в столбце \"reg_date\" :\n",
      " 270\n"
     ]
    }
   ],
   "source": [
    "print('Количество уникальных значений в столбце \"reg_date\" :\\n', data_users['reg_date'].nunique())\n",
    "#print('Множество значений в столбце \"reg_date\" :\\n', data_users['reg_date'].unique())"
   ]
  },
  {
   "cell_type": "markdown",
   "id": "d07ac202",
   "metadata": {},
   "source": [
    "#### 1.1.4 Столбец `churn_date`"
   ]
  },
  {
   "cell_type": "code",
   "execution_count": 19,
   "id": "f8fc4895",
   "metadata": {},
   "outputs": [
    {
     "name": "stdout",
     "output_type": "stream",
     "text": [
      "Множество значений в столбце \"churn_date\" :\n",
      " [nan '2018-10-05' '2018-12-18' '2018-11-21' '2018-10-03' '2018-10-14'\n",
      " '2018-12-09' '2018-12-11' '2018-12-26' '2018-08-31' '2018-12-03'\n",
      " '2018-12-23' '2018-11-07' '2018-12-16' '2018-12-20' '2018-11-30'\n",
      " '2018-12-21' '2018-08-17' '2018-09-02' '2018-10-04' '2018-11-13'\n",
      " '2018-11-22' '2018-10-28' '2018-11-26' '2018-11-27' '2018-11-16'\n",
      " '2018-10-27' '2018-12-30' '2018-09-27' '2018-12-25' '2018-12-14'\n",
      " '2018-12-24' '2018-09-26' '2018-10-25']\n"
     ]
    }
   ],
   "source": [
    "print('Множество значений в столбце \"churn_date\" :\\n', data_users['churn_date'].unique())"
   ]
  },
  {
   "cell_type": "markdown",
   "id": "3df5b66b",
   "metadata": {},
   "source": [
    "Значения Nan в этом случае говорят о том, что клиент пользуется тарифом."
   ]
  },
  {
   "cell_type": "markdown",
   "id": "7b84355a",
   "metadata": {},
   "source": [
    "### 1.2 Таблица о пользователях `data_calls`\n",
    "\n",
    "#### 1.2.1 Столбец `id`"
   ]
  },
  {
   "cell_type": "code",
   "execution_count": 20,
   "id": "cb019d58",
   "metadata": {},
   "outputs": [],
   "source": [
    "#print('Множество значений в столбце \"id\" :\\n', data_calls['id'].unique())"
   ]
  },
  {
   "cell_type": "code",
   "execution_count": 21,
   "id": "a445cdc9",
   "metadata": {},
   "outputs": [
    {
     "name": "stdout",
     "output_type": "stream",
     "text": [
      "Множество значений меньше 0 в столбце \"id\" :\n",
      " []\n"
     ]
    }
   ],
   "source": [
    "(print('Множество значений меньше 0 в столбце \"id\" :\\n', \n",
    "       data_calls[data_calls['id'] < '0']['id'].unique()))"
   ]
  },
  {
   "cell_type": "markdown",
   "id": "0813bc6c",
   "metadata": {},
   "source": [
    "Значений меньше нуля нет, поэтому аномальных значений не обнаружено."
   ]
  },
  {
   "cell_type": "markdown",
   "id": "4c73e150",
   "metadata": {},
   "source": [
    "#### 1.2.2 Столбец `call_date`"
   ]
  },
  {
   "cell_type": "code",
   "execution_count": 22,
   "id": "a8551fc6",
   "metadata": {},
   "outputs": [
    {
     "name": "stdout",
     "output_type": "stream",
     "text": [
      "Количество уникальных значений в столбце \"call_date\" :\n",
      " 365\n"
     ]
    }
   ],
   "source": [
    "print('Количество уникальных значений в столбце \"call_date\" :\\n', data_calls['call_date'].nunique())\n",
    "#print('Множество значений в столбце \"call_date\" :\\n', data_calls['call_date'].unique())"
   ]
  },
  {
   "cell_type": "markdown",
   "id": "823a9dce",
   "metadata": {},
   "source": [
    "#### 1.2.3 Столбец `duration`"
   ]
  },
  {
   "cell_type": "code",
   "execution_count": 23,
   "id": "c291f81b",
   "metadata": {},
   "outputs": [],
   "source": [
    "#print('Множество значений в столбце \"duration\" :\\n', data_calls['duration'].unique())"
   ]
  },
  {
   "cell_type": "code",
   "execution_count": 24,
   "id": "f7378964",
   "metadata": {},
   "outputs": [
    {
     "name": "stdout",
     "output_type": "stream",
     "text": [
      "Множество значений меньше 0 в столбце \"duration\" :\n",
      " []\n",
      "Максимальное значение в столбце \"duration\" = 38.0\n"
     ]
    }
   ],
   "source": [
    "(print('Множество значений меньше 0 в столбце \"duration\" :\\n', \n",
    "       data_calls[data_calls['duration'] < 0]['duration'].unique()))\n",
    "\n",
    "print('Максимальное значение в столбце \"duration\" =', data_calls['duration'].max())"
   ]
  },
  {
   "cell_type": "markdown",
   "id": "b2cbd4c6",
   "metadata": {},
   "source": [
    "В столбце нет отрицальных значений, аномалий значений не обнаружено."
   ]
  },
  {
   "cell_type": "markdown",
   "id": "c5fc7a79",
   "metadata": {},
   "source": [
    "#### 1.2.4 Столбец `user_id`"
   ]
  },
  {
   "cell_type": "code",
   "execution_count": 25,
   "id": "22893afa",
   "metadata": {},
   "outputs": [
    {
     "name": "stdout",
     "output_type": "stream",
     "text": [
      "Количество уникальных значений в столбце \"user_id\" :\n",
      " 492\n"
     ]
    }
   ],
   "source": [
    "print('Количество уникальных значений в столбце \"user_id\" :\\n', data_calls['user_id'].nunique())\n",
    "#print('Множество значений в столбце \"user_id\" :\\n', data_calls['user_id'].unique())"
   ]
  },
  {
   "cell_type": "markdown",
   "id": "4e876966",
   "metadata": {},
   "source": [
    "Видно, что уникальных пользователей, которые совершали звонки, меньше, чем всего пользователей в таблице. Поэтому можно сделать вывод, что некоторые пользователи не звонили никому, возможно, что эти клиенты пользуются планшетом и им нужен только интернет.\n",
    "Аномальных значений не обнаружено."
   ]
  },
  {
   "cell_type": "markdown",
   "id": "d6808106",
   "metadata": {},
   "source": [
    "### 1.3 Таблица о пользователях `messages`"
   ]
  },
  {
   "cell_type": "markdown",
   "id": "1117f16e",
   "metadata": {},
   "source": [
    "### 1.3.2 Столбец `message_date`"
   ]
  },
  {
   "cell_type": "code",
   "execution_count": 26,
   "id": "540f3f46",
   "metadata": {},
   "outputs": [
    {
     "name": "stdout",
     "output_type": "stream",
     "text": [
      "Количество уникальных значений в столбце \"message_date\" :\n",
      " 364\n"
     ]
    }
   ],
   "source": [
    "print('Количество уникальных значений в столбце \"message_date\" :\\n', data_messages['message_date'].nunique())\n",
    "#print('Множество значений в столбце \"message_date\" :\\n', data_messages['message_date'].unique())"
   ]
  },
  {
   "cell_type": "markdown",
   "id": "aaf4707a",
   "metadata": {},
   "source": [
    "### 1.3.3 Столбец `user_id`"
   ]
  },
  {
   "cell_type": "code",
   "execution_count": 27,
   "id": "949eb691",
   "metadata": {},
   "outputs": [
    {
     "name": "stdout",
     "output_type": "stream",
     "text": [
      "Количество уникальных значений в столбце \"user_id\" :\n",
      " 426\n"
     ]
    }
   ],
   "source": [
    "print('Количество уникальных значений в столбце \"user_id\" :\\n', data_messages['user_id'].nunique())\n",
    "#print('Множество значений в столбце \"user_id\" :\\n', data_messages['user_id'].unique())"
   ]
  },
  {
   "cell_type": "markdown",
   "id": "11dcaaaa",
   "metadata": {},
   "source": [
    "Видно, что пользователей, которые отправляют смс меньше, чем общее число пользователей сетью оператора \"Мегалайн\". Предполагаем, что не все клиенты отправляют смс, потому что в современном мире на место смс пришли месседжеры, такие как: WhatsApp, Telegram, Viber и тд."
   ]
  },
  {
   "cell_type": "markdown",
   "id": "ff3d6274",
   "metadata": {},
   "source": [
    "### 1.4 Таблица о пользователях `internet`\n",
    "\n",
    "#### 1.4.1 Столбец `id`"
   ]
  },
  {
   "cell_type": "code",
   "execution_count": 28,
   "id": "421bca6d",
   "metadata": {},
   "outputs": [
    {
     "name": "stdout",
     "output_type": "stream",
     "text": [
      "<class 'pandas.core.frame.DataFrame'>\n",
      "RangeIndex: 149396 entries, 0 to 149395\n",
      "Data columns (total 5 columns):\n",
      " #   Column        Non-Null Count   Dtype  \n",
      "---  ------        --------------   -----  \n",
      " 0   Unnamed: 0    149396 non-null  int64  \n",
      " 1   id            149396 non-null  object \n",
      " 2   mb_used       149396 non-null  float64\n",
      " 3   session_date  149396 non-null  object \n",
      " 4   user_id       149396 non-null  int64  \n",
      "dtypes: float64(1), int64(2), object(2)\n",
      "memory usage: 5.7+ MB\n"
     ]
    }
   ],
   "source": [
    "data_internet.info()"
   ]
  },
  {
   "cell_type": "code",
   "execution_count": 29,
   "id": "a691cf1e",
   "metadata": {},
   "outputs": [
    {
     "name": "stdout",
     "output_type": "stream",
     "text": [
      "Количество уникальных значений в столбце \"id\" :\n",
      " 149396\n"
     ]
    }
   ],
   "source": [
    "print('Количество уникальных значений в столбце \"id\" :\\n', data_internet['id'].nunique())\n",
    "#print('Множество значений в столбце \"id\" :\\n', data_internet['id'].unique())"
   ]
  },
  {
   "cell_type": "markdown",
   "id": "f5395811",
   "metadata": {},
   "source": [
    "#### 1.4.2 Столбец `mb_used`"
   ]
  },
  {
   "cell_type": "code",
   "execution_count": 30,
   "id": "16edfd78",
   "metadata": {},
   "outputs": [
    {
     "name": "stdout",
     "output_type": "stream",
     "text": [
      "Множество значений меньше 0 в столбце \"mb_used\" :\n",
      " []\n",
      "Минимальное значение в столбце \"mb_used\" = 0.0\n",
      "Максимальное значение в столбце \"mb_used\" = 1724.83\n"
     ]
    }
   ],
   "source": [
    "(print('Множество значений меньше 0 в столбце \"mb_used\" :\\n', \n",
    "       data_internet[data_internet['mb_used'] < 0]['mb_used'].unique()))\n",
    "\n",
    "print('Минимальное значение в столбце \"mb_used\" =', data_internet['mb_used'].min())\n",
    "print('Максимальное значение в столбце \"mb_used\" =', data_internet['mb_used'].max())"
   ]
  },
  {
   "cell_type": "markdown",
   "id": "c5f9a7fd",
   "metadata": {},
   "source": [
    "В столбце нет отрицальных значений, аномалий значений не обнаружено."
   ]
  },
  {
   "cell_type": "markdown",
   "id": "38fb10d6",
   "metadata": {},
   "source": [
    "#### 1.4.3 Столбец `session_date`"
   ]
  },
  {
   "cell_type": "code",
   "execution_count": 31,
   "id": "99bb3d62",
   "metadata": {},
   "outputs": [
    {
     "name": "stdout",
     "output_type": "stream",
     "text": [
      "Количество уникальных значений в столбце \"session_date\" :\n",
      " 365\n"
     ]
    }
   ],
   "source": [
    "print('Количество уникальных значений в столбце \"session_date\" :\\n', data_internet['session_date'].nunique())\n",
    "#print('Множество значений в столбце \"session_date\" :\\n', data_internet['session_date'].unique())"
   ]
  },
  {
   "cell_type": "markdown",
   "id": "1d6f1818",
   "metadata": {},
   "source": [
    "#### 1.4.4 Столбец `user_id`"
   ]
  },
  {
   "cell_type": "code",
   "execution_count": 32,
   "id": "2ad2f252",
   "metadata": {},
   "outputs": [
    {
     "name": "stdout",
     "output_type": "stream",
     "text": [
      "Количество уникальных значений в столбце \"user_id\" :\n",
      " 497\n"
     ]
    }
   ],
   "source": [
    "print('Количество уникальных значений в столбце \"user_id\" :\\n', data_internet['user_id'].nunique())\n",
    "#print('Множество значений в столбце \"user_id\" :\\n', data_internet['user_id'].unique())"
   ]
  },
  {
   "cell_type": "markdown",
   "id": "cbd47211",
   "metadata": {},
   "source": [
    "Число пользователей, использующих интернет меньше, чем общее число клиентов опрератора. Предположим, что эти люди не используют интернет, так как у них кнопочные телефоны без выхода в интернет. Эти клиенты могут быть пенсионеры или люди, работающие на закрытых территориях, где нельзя использовать современные смартфоны. Артефактов не обнаружино."
   ]
  },
  {
   "cell_type": "markdown",
   "id": "4e0bb885",
   "metadata": {},
   "source": [
    "#### 1.4.5 Столбец `Unnamed: 0`\n",
    "Удалим артефактный столбец:"
   ]
  },
  {
   "cell_type": "code",
   "execution_count": 33,
   "id": "3ad9f3d0",
   "metadata": {},
   "outputs": [
    {
     "name": "stdout",
     "output_type": "stream",
     "text": [
      "<class 'pandas.core.frame.DataFrame'>\n",
      "RangeIndex: 149396 entries, 0 to 149395\n",
      "Data columns (total 4 columns):\n",
      " #   Column        Non-Null Count   Dtype  \n",
      "---  ------        --------------   -----  \n",
      " 0   id            149396 non-null  object \n",
      " 1   mb_used       149396 non-null  float64\n",
      " 2   session_date  149396 non-null  object \n",
      " 3   user_id       149396 non-null  int64  \n",
      "dtypes: float64(1), int64(1), object(2)\n",
      "memory usage: 4.6+ MB\n"
     ]
    }
   ],
   "source": [
    "data_internet = data_internet.drop(columns = ['Unnamed: 0'], axis=1)\n",
    "data_internet.info()"
   ]
  },
  {
   "cell_type": "markdown",
   "id": "5478eced",
   "metadata": {},
   "source": [
    "Возможно, при выгрузки данных столбец с индексами продублировался. В этом столбце нет никакой смысловой нагрузки, поэтому его удаляем."
   ]
  },
  {
   "cell_type": "markdown",
   "id": "7ff92b85",
   "metadata": {},
   "source": [
    "### 1.5 Таблица о пользователях `tariffs`"
   ]
  },
  {
   "cell_type": "code",
   "execution_count": 34,
   "id": "bdd861a6",
   "metadata": {},
   "outputs": [
    {
     "name": "stdout",
     "output_type": "stream",
     "text": [
      "Множество значений в столбце \"tariff_name\" :\n",
      " ['smart' 'ultra']\n",
      "Множество значений в столбце \"rub_monthly_fee\" :\n",
      " [ 550 1950]\n",
      "Множество значений в столбце \"minutes_included\" :\n",
      " [ 500 3000]\n",
      "Множество значений в столбце \"messages_included\" :\n",
      " [  50 1000]\n",
      "Множество значений в столбце \"mb_per_month_included\" :\n",
      " [15360 30720]\n",
      "Множество значений в столбце \"rub_per_minute\" :\n",
      " [3 1]\n",
      "Множество значений в столбце \"rub_per_message\" :\n",
      " [3 1]\n",
      "Множество значений в столбце \"rub_per_gb\" :\n",
      " [200 150]\n"
     ]
    }
   ],
   "source": [
    "print('Множество значений в столбце \"tariff_name\" :\\n', data_tariffs['tariff_name'].unique())\n",
    "print('Множество значений в столбце \"rub_monthly_fee\" :\\n', data_tariffs['rub_monthly_fee'].unique())\n",
    "print('Множество значений в столбце \"minutes_included\" :\\n', data_tariffs['minutes_included'].unique())\n",
    "print('Множество значений в столбце \"messages_included\" :\\n', data_tariffs['messages_included'].unique())\n",
    "print('Множество значений в столбце \"mb_per_month_included\" :\\n', data_tariffs['mb_per_month_included'].unique())\n",
    "print('Множество значений в столбце \"rub_per_minute\" :\\n', data_tariffs['rub_per_minute'].unique())\n",
    "print('Множество значений в столбце \"rub_per_message\" :\\n', data_tariffs['rub_per_message'].unique())\n",
    "print('Множество значений в столбце \"rub_per_gb\" :\\n', data_tariffs['rub_per_gb'].unique())"
   ]
  },
  {
   "cell_type": "markdown",
   "id": "0068200f",
   "metadata": {},
   "source": [
    "Аномальных значений не обнаружено."
   ]
  },
  {
   "cell_type": "markdown",
   "id": "756f7f32",
   "metadata": {},
   "source": [
    "**Вывод**\n",
    "\n",
    "Все столбцы таблиц были изучены, аномальных значений не найдено. "
   ]
  },
  {
   "cell_type": "markdown",
   "id": "e6296a10",
   "metadata": {},
   "source": [
    "### 1.6 Заполнение пропусков и удаление дубликатов"
   ]
  },
  {
   "cell_type": "markdown",
   "id": "a8ef5ebb",
   "metadata": {},
   "source": [
    "Пропусков, которые необходимо заполнить, не обнаружено."
   ]
  },
  {
   "cell_type": "markdown",
   "id": "8f0d94bc",
   "metadata": {},
   "source": [
    "Найдем дубликаты в таблицах:"
   ]
  },
  {
   "cell_type": "code",
   "execution_count": 35,
   "id": "8aac7c7d",
   "metadata": {},
   "outputs": [
    {
     "name": "stdout",
     "output_type": "stream",
     "text": [
      "Количество дубликатов в таблице = 0\n"
     ]
    }
   ],
   "source": [
    "print('Количество дубликатов в таблице =', data_users.duplicated().sum())"
   ]
  },
  {
   "cell_type": "code",
   "execution_count": 36,
   "id": "06779dfa",
   "metadata": {},
   "outputs": [
    {
     "name": "stdout",
     "output_type": "stream",
     "text": [
      "Количество дубликатов в таблице = 0\n"
     ]
    }
   ],
   "source": [
    "print('Количество дубликатов в таблице =', data_calls.duplicated().sum())"
   ]
  },
  {
   "cell_type": "code",
   "execution_count": 37,
   "id": "1e5a4c13",
   "metadata": {},
   "outputs": [
    {
     "name": "stdout",
     "output_type": "stream",
     "text": [
      "Количество дубликатов в таблице = 0\n"
     ]
    }
   ],
   "source": [
    "print('Количество дубликатов в таблице =', data_internet.duplicated().sum())"
   ]
  },
  {
   "cell_type": "code",
   "execution_count": 38,
   "id": "e460b204",
   "metadata": {},
   "outputs": [
    {
     "name": "stdout",
     "output_type": "stream",
     "text": [
      "Количество дубликатов в таблице = 0\n"
     ]
    }
   ],
   "source": [
    "print('Количество дубликатов в таблице =', data_messages.duplicated().sum())"
   ]
  },
  {
   "cell_type": "markdown",
   "id": "85e9b418",
   "metadata": {},
   "source": [
    "Дубликаты не найдены, все значения уникальны."
   ]
  },
  {
   "cell_type": "markdown",
   "id": "a0993ef8",
   "metadata": {},
   "source": [
    "### 1.7 Округление значений"
   ]
  },
  {
   "cell_type": "markdown",
   "id": "32cd04f7",
   "metadata": {},
   "source": [
    "Сказано, что «Мегалайн» округляет секунды до минут, а мегабайты — до гигабайт. Поэтому приведем таблицы в соответствующий вид.\n",
    "\n",
    "\n",
    "Примечание:\n",
    "«Мегалайн» всегда округляет секунды до минут, а мегабайты — до гигабайт. Каждый звонок округляется отдельно: даже если он длился всего 1 секунду, будет засчитан как 1 минута.\n",
    "Для веб-трафика отдельные сессии не считаются. Вместо этого общая сумма за месяц округляется в бо́льшую сторону. Если абонент использует 1025 мегабайт в этом месяце, с него возьмут плату за 2 гигабайта."
   ]
  },
  {
   "cell_type": "markdown",
   "id": "38d3e05f",
   "metadata": {},
   "source": [
    "####  Таблица `data_calls`"
   ]
  },
  {
   "cell_type": "code",
   "execution_count": 39,
   "id": "0d8373aa",
   "metadata": {},
   "outputs": [
    {
     "data": {
      "text/html": [
       "<div>\n",
       "<style scoped>\n",
       "    .dataframe tbody tr th:only-of-type {\n",
       "        vertical-align: middle;\n",
       "    }\n",
       "\n",
       "    .dataframe tbody tr th {\n",
       "        vertical-align: top;\n",
       "    }\n",
       "\n",
       "    .dataframe thead th {\n",
       "        text-align: right;\n",
       "    }\n",
       "</style>\n",
       "<table border=\"1\" class=\"dataframe\">\n",
       "  <thead>\n",
       "    <tr style=\"text-align: right;\">\n",
       "      <th></th>\n",
       "      <th>id</th>\n",
       "      <th>call_date</th>\n",
       "      <th>duration</th>\n",
       "      <th>user_id</th>\n",
       "    </tr>\n",
       "  </thead>\n",
       "  <tbody>\n",
       "    <tr>\n",
       "      <th>0</th>\n",
       "      <td>1000_0</td>\n",
       "      <td>2018-07-25</td>\n",
       "      <td>0.0</td>\n",
       "      <td>1000</td>\n",
       "    </tr>\n",
       "    <tr>\n",
       "      <th>1</th>\n",
       "      <td>1000_1</td>\n",
       "      <td>2018-08-17</td>\n",
       "      <td>0.0</td>\n",
       "      <td>1000</td>\n",
       "    </tr>\n",
       "    <tr>\n",
       "      <th>2</th>\n",
       "      <td>1000_2</td>\n",
       "      <td>2018-06-11</td>\n",
       "      <td>3.0</td>\n",
       "      <td>1000</td>\n",
       "    </tr>\n",
       "    <tr>\n",
       "      <th>3</th>\n",
       "      <td>1000_3</td>\n",
       "      <td>2018-09-21</td>\n",
       "      <td>14.0</td>\n",
       "      <td>1000</td>\n",
       "    </tr>\n",
       "    <tr>\n",
       "      <th>4</th>\n",
       "      <td>1000_4</td>\n",
       "      <td>2018-12-15</td>\n",
       "      <td>6.0</td>\n",
       "      <td>1000</td>\n",
       "    </tr>\n",
       "    <tr>\n",
       "      <th>...</th>\n",
       "      <td>...</td>\n",
       "      <td>...</td>\n",
       "      <td>...</td>\n",
       "      <td>...</td>\n",
       "    </tr>\n",
       "    <tr>\n",
       "      <th>202602</th>\n",
       "      <td>1499_215</td>\n",
       "      <td>2018-12-26</td>\n",
       "      <td>1.0</td>\n",
       "      <td>1499</td>\n",
       "    </tr>\n",
       "    <tr>\n",
       "      <th>202603</th>\n",
       "      <td>1499_216</td>\n",
       "      <td>2018-10-18</td>\n",
       "      <td>19.0</td>\n",
       "      <td>1499</td>\n",
       "    </tr>\n",
       "    <tr>\n",
       "      <th>202604</th>\n",
       "      <td>1499_217</td>\n",
       "      <td>2018-11-10</td>\n",
       "      <td>11.0</td>\n",
       "      <td>1499</td>\n",
       "    </tr>\n",
       "    <tr>\n",
       "      <th>202605</th>\n",
       "      <td>1499_218</td>\n",
       "      <td>2018-10-06</td>\n",
       "      <td>5.0</td>\n",
       "      <td>1499</td>\n",
       "    </tr>\n",
       "    <tr>\n",
       "      <th>202606</th>\n",
       "      <td>1499_219</td>\n",
       "      <td>2018-12-14</td>\n",
       "      <td>20.0</td>\n",
       "      <td>1499</td>\n",
       "    </tr>\n",
       "  </tbody>\n",
       "</table>\n",
       "<p>202607 rows × 4 columns</p>\n",
       "</div>"
      ],
      "text/plain": [
       "              id   call_date  duration  user_id\n",
       "0         1000_0  2018-07-25       0.0     1000\n",
       "1         1000_1  2018-08-17       0.0     1000\n",
       "2         1000_2  2018-06-11       3.0     1000\n",
       "3         1000_3  2018-09-21      14.0     1000\n",
       "4         1000_4  2018-12-15       6.0     1000\n",
       "...          ...         ...       ...      ...\n",
       "202602  1499_215  2018-12-26       1.0     1499\n",
       "202603  1499_216  2018-10-18      19.0     1499\n",
       "202604  1499_217  2018-11-10      11.0     1499\n",
       "202605  1499_218  2018-10-06       5.0     1499\n",
       "202606  1499_219  2018-12-14      20.0     1499\n",
       "\n",
       "[202607 rows x 4 columns]"
      ]
     },
     "execution_count": 39,
     "metadata": {},
     "output_type": "execute_result"
    }
   ],
   "source": [
    "data_calls['duration'] = np.ceil(data_calls['duration'])\n",
    "data_calls"
   ]
  },
  {
   "cell_type": "markdown",
   "id": "82158c14",
   "metadata": {},
   "source": [
    "**Вывод**\n",
    "\n",
    "Значения в столбцах `duration` округлили до целых в большую сторону"
   ]
  },
  {
   "cell_type": "markdown",
   "id": "3d03bd49",
   "metadata": {},
   "source": [
    "### 1.8 Изменение типов данных"
   ]
  },
  {
   "cell_type": "markdown",
   "id": "effb0d0e",
   "metadata": {},
   "source": [
    "#### 1.8.1 Таблица `data_calls`\n",
    "\n",
    "##### Столбец `duration`"
   ]
  },
  {
   "cell_type": "code",
   "execution_count": 40,
   "id": "b92a6f65",
   "metadata": {},
   "outputs": [],
   "source": [
    "data_calls = data_calls.astype({'duration': np.int64})\n",
    "#data_calls.info()"
   ]
  },
  {
   "cell_type": "markdown",
   "id": "b988a3e6",
   "metadata": {},
   "source": [
    "##### Столбец `call_date`"
   ]
  },
  {
   "cell_type": "code",
   "execution_count": 41,
   "id": "d8aba67b",
   "metadata": {},
   "outputs": [
    {
     "name": "stdout",
     "output_type": "stream",
     "text": [
      "<class 'pandas.core.frame.DataFrame'>\n",
      "RangeIndex: 202607 entries, 0 to 202606\n",
      "Data columns (total 4 columns):\n",
      " #   Column     Non-Null Count   Dtype         \n",
      "---  ------     --------------   -----         \n",
      " 0   id         202607 non-null  object        \n",
      " 1   call_date  202607 non-null  datetime64[ns]\n",
      " 2   duration   202607 non-null  int64         \n",
      " 3   user_id    202607 non-null  int64         \n",
      "dtypes: datetime64[ns](1), int64(2), object(1)\n",
      "memory usage: 6.2+ MB\n"
     ]
    }
   ],
   "source": [
    "data_calls['call_date'] = pd.to_datetime(data_calls['call_date'], format='%Y-%m-%d')\n",
    "data_calls.info()"
   ]
  },
  {
   "cell_type": "markdown",
   "id": "6be8c79c",
   "metadata": {},
   "source": [
    "#### 1.8.2 Таблица `data_internet`\n"
   ]
  },
  {
   "cell_type": "markdown",
   "id": "951c75cd",
   "metadata": {},
   "source": [
    "##### Столбец `session_date`"
   ]
  },
  {
   "cell_type": "code",
   "execution_count": 42,
   "id": "80b70bae",
   "metadata": {},
   "outputs": [
    {
     "name": "stdout",
     "output_type": "stream",
     "text": [
      "<class 'pandas.core.frame.DataFrame'>\n",
      "RangeIndex: 149396 entries, 0 to 149395\n",
      "Data columns (total 4 columns):\n",
      " #   Column        Non-Null Count   Dtype         \n",
      "---  ------        --------------   -----         \n",
      " 0   id            149396 non-null  object        \n",
      " 1   mb_used       149396 non-null  float64       \n",
      " 2   session_date  149396 non-null  datetime64[ns]\n",
      " 3   user_id       149396 non-null  int64         \n",
      "dtypes: datetime64[ns](1), float64(1), int64(1), object(1)\n",
      "memory usage: 4.6+ MB\n"
     ]
    }
   ],
   "source": [
    "data_internet['session_date'] = pd.to_datetime(data_internet['session_date'], format='%Y-%m-%d')\n",
    "data_internet.info()"
   ]
  },
  {
   "cell_type": "markdown",
   "id": "9c5e5603",
   "metadata": {},
   "source": [
    "#### 1.8.3 Таблица `data_messages`"
   ]
  },
  {
   "cell_type": "code",
   "execution_count": 43,
   "id": "50a91dab",
   "metadata": {},
   "outputs": [
    {
     "name": "stdout",
     "output_type": "stream",
     "text": [
      "<class 'pandas.core.frame.DataFrame'>\n",
      "RangeIndex: 123036 entries, 0 to 123035\n",
      "Data columns (total 3 columns):\n",
      " #   Column        Non-Null Count   Dtype         \n",
      "---  ------        --------------   -----         \n",
      " 0   id            123036 non-null  object        \n",
      " 1   message_date  123036 non-null  datetime64[ns]\n",
      " 2   user_id       123036 non-null  int64         \n",
      "dtypes: datetime64[ns](1), int64(1), object(1)\n",
      "memory usage: 2.8+ MB\n"
     ]
    }
   ],
   "source": [
    "data_messages['message_date'] = pd.to_datetime(data_messages['message_date'], format='%Y-%m-%d')\n",
    "data_messages.info()"
   ]
  },
  {
   "cell_type": "markdown",
   "id": "15823b12",
   "metadata": {},
   "source": [
    "**Вывод**\n",
    "\n",
    "Все столбцы приведены в нужный формат."
   ]
  },
  {
   "cell_type": "markdown",
   "id": "ee960ee5",
   "metadata": {},
   "source": [
    "### 1.9 Количество сделанных звонков и потраченных минут за месяц "
   ]
  },
  {
   "cell_type": "markdown",
   "id": "e01dd6de",
   "metadata": {},
   "source": [
    "Создадим новый столбец, в котором будет хранися месяц \n",
    "В таблице `data_calls_by_user` будет хранится информация: id клиента, месяц, количество звонков, совершенных за месяц и количество минут, потраченных за месяц."
   ]
  },
  {
   "cell_type": "code",
   "execution_count": 44,
   "id": "59c8be93",
   "metadata": {},
   "outputs": [
    {
     "name": "stdout",
     "output_type": "stream",
     "text": [
      "<class 'pandas.core.frame.DataFrame'>\n",
      "RangeIndex: 3174 entries, 0 to 3173\n",
      "Data columns (total 4 columns):\n",
      " #   Column           Non-Null Count  Dtype\n",
      "---  ------           --------------  -----\n",
      " 0   user_id          3174 non-null   int64\n",
      " 1   month            3174 non-null   int64\n",
      " 2   calls_count      3174 non-null   int64\n",
      " 3   total_durations  3174 non-null   int64\n",
      "dtypes: int64(4)\n",
      "memory usage: 99.3 KB\n"
     ]
    },
    {
     "data": {
      "text/html": [
       "<div>\n",
       "<style scoped>\n",
       "    .dataframe tbody tr th:only-of-type {\n",
       "        vertical-align: middle;\n",
       "    }\n",
       "\n",
       "    .dataframe tbody tr th {\n",
       "        vertical-align: top;\n",
       "    }\n",
       "\n",
       "    .dataframe thead th {\n",
       "        text-align: right;\n",
       "    }\n",
       "</style>\n",
       "<table border=\"1\" class=\"dataframe\">\n",
       "  <thead>\n",
       "    <tr style=\"text-align: right;\">\n",
       "      <th></th>\n",
       "      <th>user_id</th>\n",
       "      <th>month</th>\n",
       "      <th>calls_count</th>\n",
       "      <th>total_durations</th>\n",
       "    </tr>\n",
       "  </thead>\n",
       "  <tbody>\n",
       "    <tr>\n",
       "      <th>0</th>\n",
       "      <td>1000</td>\n",
       "      <td>5</td>\n",
       "      <td>22</td>\n",
       "      <td>159</td>\n",
       "    </tr>\n",
       "    <tr>\n",
       "      <th>1</th>\n",
       "      <td>1000</td>\n",
       "      <td>6</td>\n",
       "      <td>43</td>\n",
       "      <td>172</td>\n",
       "    </tr>\n",
       "    <tr>\n",
       "      <th>2</th>\n",
       "      <td>1000</td>\n",
       "      <td>7</td>\n",
       "      <td>47</td>\n",
       "      <td>340</td>\n",
       "    </tr>\n",
       "    <tr>\n",
       "      <th>3</th>\n",
       "      <td>1000</td>\n",
       "      <td>8</td>\n",
       "      <td>52</td>\n",
       "      <td>408</td>\n",
       "    </tr>\n",
       "    <tr>\n",
       "      <th>4</th>\n",
       "      <td>1000</td>\n",
       "      <td>9</td>\n",
       "      <td>58</td>\n",
       "      <td>466</td>\n",
       "    </tr>\n",
       "    <tr>\n",
       "      <th>...</th>\n",
       "      <td>...</td>\n",
       "      <td>...</td>\n",
       "      <td>...</td>\n",
       "      <td>...</td>\n",
       "    </tr>\n",
       "    <tr>\n",
       "      <th>3169</th>\n",
       "      <td>1498</td>\n",
       "      <td>10</td>\n",
       "      <td>41</td>\n",
       "      <td>247</td>\n",
       "    </tr>\n",
       "    <tr>\n",
       "      <th>3170</th>\n",
       "      <td>1499</td>\n",
       "      <td>9</td>\n",
       "      <td>9</td>\n",
       "      <td>70</td>\n",
       "    </tr>\n",
       "    <tr>\n",
       "      <th>3171</th>\n",
       "      <td>1499</td>\n",
       "      <td>10</td>\n",
       "      <td>68</td>\n",
       "      <td>449</td>\n",
       "    </tr>\n",
       "    <tr>\n",
       "      <th>3172</th>\n",
       "      <td>1499</td>\n",
       "      <td>11</td>\n",
       "      <td>74</td>\n",
       "      <td>612</td>\n",
       "    </tr>\n",
       "    <tr>\n",
       "      <th>3173</th>\n",
       "      <td>1499</td>\n",
       "      <td>12</td>\n",
       "      <td>69</td>\n",
       "      <td>492</td>\n",
       "    </tr>\n",
       "  </tbody>\n",
       "</table>\n",
       "<p>3174 rows × 4 columns</p>\n",
       "</div>"
      ],
      "text/plain": [
       "      user_id  month  calls_count  total_durations\n",
       "0        1000      5           22              159\n",
       "1        1000      6           43              172\n",
       "2        1000      7           47              340\n",
       "3        1000      8           52              408\n",
       "4        1000      9           58              466\n",
       "...       ...    ...          ...              ...\n",
       "3169     1498     10           41              247\n",
       "3170     1499      9            9               70\n",
       "3171     1499     10           68              449\n",
       "3172     1499     11           74              612\n",
       "3173     1499     12           69              492\n",
       "\n",
       "[3174 rows x 4 columns]"
      ]
     },
     "execution_count": 44,
     "metadata": {},
     "output_type": "execute_result"
    }
   ],
   "source": [
    "data_calls['month'] = data_calls['call_date'].dt.month\n",
    "data_calls_by_user = data_calls.groupby(by=['user_id', 'month'])['duration'].agg(['count','sum']).reset_index()\n",
    "data_calls_by_user = data_calls_by_user.rename (columns= {'count': 'calls_count', 'sum': 'total_durations'}) \n",
    "data_calls_by_user.info()\n",
    "data_calls_by_user"
   ]
  },
  {
   "cell_type": "markdown",
   "id": "03eb7bd8",
   "metadata": {},
   "source": [
    "### 1.10 Количество отправленых сообщений по месяцам"
   ]
  },
  {
   "cell_type": "code",
   "execution_count": 45,
   "id": "a17eab16",
   "metadata": {},
   "outputs": [
    {
     "data": {
      "text/html": [
       "<div>\n",
       "<style scoped>\n",
       "    .dataframe tbody tr th:only-of-type {\n",
       "        vertical-align: middle;\n",
       "    }\n",
       "\n",
       "    .dataframe tbody tr th {\n",
       "        vertical-align: top;\n",
       "    }\n",
       "\n",
       "    .dataframe thead th {\n",
       "        text-align: right;\n",
       "    }\n",
       "</style>\n",
       "<table border=\"1\" class=\"dataframe\">\n",
       "  <thead>\n",
       "    <tr style=\"text-align: right;\">\n",
       "      <th></th>\n",
       "      <th>id</th>\n",
       "      <th>message_date</th>\n",
       "      <th>user_id</th>\n",
       "    </tr>\n",
       "  </thead>\n",
       "  <tbody>\n",
       "    <tr>\n",
       "      <th>0</th>\n",
       "      <td>1000_0</td>\n",
       "      <td>2018-06-27</td>\n",
       "      <td>1000</td>\n",
       "    </tr>\n",
       "    <tr>\n",
       "      <th>1</th>\n",
       "      <td>1000_1</td>\n",
       "      <td>2018-10-08</td>\n",
       "      <td>1000</td>\n",
       "    </tr>\n",
       "    <tr>\n",
       "      <th>2</th>\n",
       "      <td>1000_2</td>\n",
       "      <td>2018-08-04</td>\n",
       "      <td>1000</td>\n",
       "    </tr>\n",
       "    <tr>\n",
       "      <th>3</th>\n",
       "      <td>1000_3</td>\n",
       "      <td>2018-06-16</td>\n",
       "      <td>1000</td>\n",
       "    </tr>\n",
       "    <tr>\n",
       "      <th>4</th>\n",
       "      <td>1000_4</td>\n",
       "      <td>2018-12-05</td>\n",
       "      <td>1000</td>\n",
       "    </tr>\n",
       "    <tr>\n",
       "      <th>...</th>\n",
       "      <td>...</td>\n",
       "      <td>...</td>\n",
       "      <td>...</td>\n",
       "    </tr>\n",
       "    <tr>\n",
       "      <th>123031</th>\n",
       "      <td>1499_179</td>\n",
       "      <td>2018-12-12</td>\n",
       "      <td>1499</td>\n",
       "    </tr>\n",
       "    <tr>\n",
       "      <th>123032</th>\n",
       "      <td>1499_180</td>\n",
       "      <td>2018-09-28</td>\n",
       "      <td>1499</td>\n",
       "    </tr>\n",
       "    <tr>\n",
       "      <th>123033</th>\n",
       "      <td>1499_181</td>\n",
       "      <td>2018-09-27</td>\n",
       "      <td>1499</td>\n",
       "    </tr>\n",
       "    <tr>\n",
       "      <th>123034</th>\n",
       "      <td>1499_182</td>\n",
       "      <td>2018-11-15</td>\n",
       "      <td>1499</td>\n",
       "    </tr>\n",
       "    <tr>\n",
       "      <th>123035</th>\n",
       "      <td>1499_183</td>\n",
       "      <td>2018-11-16</td>\n",
       "      <td>1499</td>\n",
       "    </tr>\n",
       "  </tbody>\n",
       "</table>\n",
       "<p>123036 rows × 3 columns</p>\n",
       "</div>"
      ],
      "text/plain": [
       "              id message_date  user_id\n",
       "0         1000_0   2018-06-27     1000\n",
       "1         1000_1   2018-10-08     1000\n",
       "2         1000_2   2018-08-04     1000\n",
       "3         1000_3   2018-06-16     1000\n",
       "4         1000_4   2018-12-05     1000\n",
       "...          ...          ...      ...\n",
       "123031  1499_179   2018-12-12     1499\n",
       "123032  1499_180   2018-09-28     1499\n",
       "123033  1499_181   2018-09-27     1499\n",
       "123034  1499_182   2018-11-15     1499\n",
       "123035  1499_183   2018-11-16     1499\n",
       "\n",
       "[123036 rows x 3 columns]"
      ]
     },
     "execution_count": 45,
     "metadata": {},
     "output_type": "execute_result"
    }
   ],
   "source": [
    "data_messages"
   ]
  },
  {
   "cell_type": "code",
   "execution_count": 46,
   "id": "04ce4796",
   "metadata": {},
   "outputs": [
    {
     "name": "stdout",
     "output_type": "stream",
     "text": [
      "<class 'pandas.core.frame.DataFrame'>\n",
      "RangeIndex: 2717 entries, 0 to 2716\n",
      "Data columns (total 3 columns):\n",
      " #   Column          Non-Null Count  Dtype\n",
      "---  ------          --------------  -----\n",
      " 0   user_id         2717 non-null   int64\n",
      " 1   month           2717 non-null   int64\n",
      " 2   messages_count  2717 non-null   int64\n",
      "dtypes: int64(3)\n",
      "memory usage: 63.8 KB\n"
     ]
    },
    {
     "data": {
      "text/html": [
       "<div>\n",
       "<style scoped>\n",
       "    .dataframe tbody tr th:only-of-type {\n",
       "        vertical-align: middle;\n",
       "    }\n",
       "\n",
       "    .dataframe tbody tr th {\n",
       "        vertical-align: top;\n",
       "    }\n",
       "\n",
       "    .dataframe thead th {\n",
       "        text-align: right;\n",
       "    }\n",
       "</style>\n",
       "<table border=\"1\" class=\"dataframe\">\n",
       "  <thead>\n",
       "    <tr style=\"text-align: right;\">\n",
       "      <th></th>\n",
       "      <th>user_id</th>\n",
       "      <th>month</th>\n",
       "      <th>messages_count</th>\n",
       "    </tr>\n",
       "  </thead>\n",
       "  <tbody>\n",
       "    <tr>\n",
       "      <th>0</th>\n",
       "      <td>1000</td>\n",
       "      <td>5</td>\n",
       "      <td>22</td>\n",
       "    </tr>\n",
       "    <tr>\n",
       "      <th>1</th>\n",
       "      <td>1000</td>\n",
       "      <td>6</td>\n",
       "      <td>60</td>\n",
       "    </tr>\n",
       "    <tr>\n",
       "      <th>2</th>\n",
       "      <td>1000</td>\n",
       "      <td>7</td>\n",
       "      <td>75</td>\n",
       "    </tr>\n",
       "    <tr>\n",
       "      <th>3</th>\n",
       "      <td>1000</td>\n",
       "      <td>8</td>\n",
       "      <td>81</td>\n",
       "    </tr>\n",
       "    <tr>\n",
       "      <th>4</th>\n",
       "      <td>1000</td>\n",
       "      <td>9</td>\n",
       "      <td>57</td>\n",
       "    </tr>\n",
       "    <tr>\n",
       "      <th>...</th>\n",
       "      <td>...</td>\n",
       "      <td>...</td>\n",
       "      <td>...</td>\n",
       "    </tr>\n",
       "    <tr>\n",
       "      <th>2712</th>\n",
       "      <td>1498</td>\n",
       "      <td>10</td>\n",
       "      <td>42</td>\n",
       "    </tr>\n",
       "    <tr>\n",
       "      <th>2713</th>\n",
       "      <td>1499</td>\n",
       "      <td>9</td>\n",
       "      <td>11</td>\n",
       "    </tr>\n",
       "    <tr>\n",
       "      <th>2714</th>\n",
       "      <td>1499</td>\n",
       "      <td>10</td>\n",
       "      <td>48</td>\n",
       "    </tr>\n",
       "    <tr>\n",
       "      <th>2715</th>\n",
       "      <td>1499</td>\n",
       "      <td>11</td>\n",
       "      <td>59</td>\n",
       "    </tr>\n",
       "    <tr>\n",
       "      <th>2716</th>\n",
       "      <td>1499</td>\n",
       "      <td>12</td>\n",
       "      <td>66</td>\n",
       "    </tr>\n",
       "  </tbody>\n",
       "</table>\n",
       "<p>2717 rows × 3 columns</p>\n",
       "</div>"
      ],
      "text/plain": [
       "      user_id  month  messages_count\n",
       "0        1000      5              22\n",
       "1        1000      6              60\n",
       "2        1000      7              75\n",
       "3        1000      8              81\n",
       "4        1000      9              57\n",
       "...       ...    ...             ...\n",
       "2712     1498     10              42\n",
       "2713     1499      9              11\n",
       "2714     1499     10              48\n",
       "2715     1499     11              59\n",
       "2716     1499     12              66\n",
       "\n",
       "[2717 rows x 3 columns]"
      ]
     },
     "execution_count": 46,
     "metadata": {},
     "output_type": "execute_result"
    }
   ],
   "source": [
    "data_messages['month'] = data_messages['message_date'].dt.month\n",
    "data_messages_by_user = data_messages.groupby(by=['user_id', 'month'])['id'].agg(['count']).reset_index()\n",
    "data_messages_by_user = data_messages_by_user.rename (columns= {'count': 'messages_count'})\n",
    "data_messages_by_user.info()\n",
    "data_messages_by_user"
   ]
  },
  {
   "cell_type": "markdown",
   "id": "16f30425",
   "metadata": {},
   "source": [
    "### 1.11 Количество использованного трафика по месяцам"
   ]
  },
  {
   "cell_type": "code",
   "execution_count": 47,
   "id": "bc607cec",
   "metadata": {},
   "outputs": [
    {
     "name": "stdout",
     "output_type": "stream",
     "text": [
      "<class 'pandas.core.frame.DataFrame'>\n",
      "RangeIndex: 3203 entries, 0 to 3202\n",
      "Data columns (total 4 columns):\n",
      " #   Column   Non-Null Count  Dtype  \n",
      "---  ------   --------------  -----  \n",
      " 0   user_id  3203 non-null   int64  \n",
      " 1   month    3203 non-null   int64  \n",
      " 2   mb_used  3203 non-null   float64\n",
      " 3   gb_used  3203 non-null   int64  \n",
      "dtypes: float64(1), int64(3)\n",
      "memory usage: 100.2 KB\n"
     ]
    },
    {
     "data": {
      "text/html": [
       "<div>\n",
       "<style scoped>\n",
       "    .dataframe tbody tr th:only-of-type {\n",
       "        vertical-align: middle;\n",
       "    }\n",
       "\n",
       "    .dataframe tbody tr th {\n",
       "        vertical-align: top;\n",
       "    }\n",
       "\n",
       "    .dataframe thead th {\n",
       "        text-align: right;\n",
       "    }\n",
       "</style>\n",
       "<table border=\"1\" class=\"dataframe\">\n",
       "  <thead>\n",
       "    <tr style=\"text-align: right;\">\n",
       "      <th></th>\n",
       "      <th>user_id</th>\n",
       "      <th>month</th>\n",
       "      <th>mb_used</th>\n",
       "      <th>gb_used</th>\n",
       "    </tr>\n",
       "  </thead>\n",
       "  <tbody>\n",
       "    <tr>\n",
       "      <th>0</th>\n",
       "      <td>1000</td>\n",
       "      <td>5</td>\n",
       "      <td>2253.49</td>\n",
       "      <td>3</td>\n",
       "    </tr>\n",
       "    <tr>\n",
       "      <th>1</th>\n",
       "      <td>1000</td>\n",
       "      <td>6</td>\n",
       "      <td>23233.77</td>\n",
       "      <td>23</td>\n",
       "    </tr>\n",
       "    <tr>\n",
       "      <th>2</th>\n",
       "      <td>1000</td>\n",
       "      <td>7</td>\n",
       "      <td>14003.64</td>\n",
       "      <td>14</td>\n",
       "    </tr>\n",
       "    <tr>\n",
       "      <th>3</th>\n",
       "      <td>1000</td>\n",
       "      <td>8</td>\n",
       "      <td>14055.93</td>\n",
       "      <td>14</td>\n",
       "    </tr>\n",
       "    <tr>\n",
       "      <th>4</th>\n",
       "      <td>1000</td>\n",
       "      <td>9</td>\n",
       "      <td>14568.91</td>\n",
       "      <td>15</td>\n",
       "    </tr>\n",
       "    <tr>\n",
       "      <th>...</th>\n",
       "      <td>...</td>\n",
       "      <td>...</td>\n",
       "      <td>...</td>\n",
       "      <td>...</td>\n",
       "    </tr>\n",
       "    <tr>\n",
       "      <th>3198</th>\n",
       "      <td>1498</td>\n",
       "      <td>10</td>\n",
       "      <td>20579.36</td>\n",
       "      <td>21</td>\n",
       "    </tr>\n",
       "    <tr>\n",
       "      <th>3199</th>\n",
       "      <td>1499</td>\n",
       "      <td>9</td>\n",
       "      <td>1845.75</td>\n",
       "      <td>2</td>\n",
       "    </tr>\n",
       "    <tr>\n",
       "      <th>3200</th>\n",
       "      <td>1499</td>\n",
       "      <td>10</td>\n",
       "      <td>17788.51</td>\n",
       "      <td>18</td>\n",
       "    </tr>\n",
       "    <tr>\n",
       "      <th>3201</th>\n",
       "      <td>1499</td>\n",
       "      <td>11</td>\n",
       "      <td>17963.31</td>\n",
       "      <td>18</td>\n",
       "    </tr>\n",
       "    <tr>\n",
       "      <th>3202</th>\n",
       "      <td>1499</td>\n",
       "      <td>12</td>\n",
       "      <td>13055.58</td>\n",
       "      <td>13</td>\n",
       "    </tr>\n",
       "  </tbody>\n",
       "</table>\n",
       "<p>3203 rows × 4 columns</p>\n",
       "</div>"
      ],
      "text/plain": [
       "      user_id  month   mb_used  gb_used\n",
       "0        1000      5   2253.49        3\n",
       "1        1000      6  23233.77       23\n",
       "2        1000      7  14003.64       14\n",
       "3        1000      8  14055.93       14\n",
       "4        1000      9  14568.91       15\n",
       "...       ...    ...       ...      ...\n",
       "3198     1498     10  20579.36       21\n",
       "3199     1499      9   1845.75        2\n",
       "3200     1499     10  17788.51       18\n",
       "3201     1499     11  17963.31       18\n",
       "3202     1499     12  13055.58       13\n",
       "\n",
       "[3203 rows x 4 columns]"
      ]
     },
     "execution_count": 47,
     "metadata": {},
     "output_type": "execute_result"
    }
   ],
   "source": [
    "data_internet['month'] = data_internet['session_date'].dt.month\n",
    "data_internet_by_user = data_internet.groupby(by=['user_id', 'month'])['mb_used'].agg('sum').reset_index()\n",
    "data_internet_by_user['gb_used'] = np.ceil(data_internet_by_user['mb_used'] / 1024)\n",
    "data_internet_by_user = data_internet_by_user.astype({'gb_used': np.int64})\n",
    "data_internet_by_user.info()\n",
    "data_internet_by_user"
   ]
  },
  {
   "cell_type": "markdown",
   "id": "a5e6b3cc",
   "metadata": {},
   "source": [
    "### 1.12 Ежемесячный общий трафик"
   ]
  },
  {
   "cell_type": "code",
   "execution_count": 48,
   "id": "f60c61bd",
   "metadata": {},
   "outputs": [
    {
     "data": {
      "text/html": [
       "<div>\n",
       "<style scoped>\n",
       "    .dataframe tbody tr th:only-of-type {\n",
       "        vertical-align: middle;\n",
       "    }\n",
       "\n",
       "    .dataframe tbody tr th {\n",
       "        vertical-align: top;\n",
       "    }\n",
       "\n",
       "    .dataframe thead th {\n",
       "        text-align: right;\n",
       "    }\n",
       "</style>\n",
       "<table border=\"1\" class=\"dataframe\">\n",
       "  <thead>\n",
       "    <tr style=\"text-align: right;\">\n",
       "      <th></th>\n",
       "      <th>user_id</th>\n",
       "      <th>month</th>\n",
       "      <th>calls_count</th>\n",
       "      <th>total_durations</th>\n",
       "      <th>messages_count</th>\n",
       "      <th>gb_used</th>\n",
       "    </tr>\n",
       "  </thead>\n",
       "  <tbody>\n",
       "    <tr>\n",
       "      <th>0</th>\n",
       "      <td>1000</td>\n",
       "      <td>5</td>\n",
       "      <td>22</td>\n",
       "      <td>159</td>\n",
       "      <td>22</td>\n",
       "      <td>3</td>\n",
       "    </tr>\n",
       "    <tr>\n",
       "      <th>1</th>\n",
       "      <td>1000</td>\n",
       "      <td>6</td>\n",
       "      <td>43</td>\n",
       "      <td>172</td>\n",
       "      <td>60</td>\n",
       "      <td>23</td>\n",
       "    </tr>\n",
       "    <tr>\n",
       "      <th>2</th>\n",
       "      <td>1000</td>\n",
       "      <td>7</td>\n",
       "      <td>47</td>\n",
       "      <td>340</td>\n",
       "      <td>75</td>\n",
       "      <td>14</td>\n",
       "    </tr>\n",
       "    <tr>\n",
       "      <th>3</th>\n",
       "      <td>1000</td>\n",
       "      <td>8</td>\n",
       "      <td>52</td>\n",
       "      <td>408</td>\n",
       "      <td>81</td>\n",
       "      <td>14</td>\n",
       "    </tr>\n",
       "    <tr>\n",
       "      <th>4</th>\n",
       "      <td>1000</td>\n",
       "      <td>9</td>\n",
       "      <td>58</td>\n",
       "      <td>466</td>\n",
       "      <td>57</td>\n",
       "      <td>15</td>\n",
       "    </tr>\n",
       "    <tr>\n",
       "      <th>5</th>\n",
       "      <td>1000</td>\n",
       "      <td>10</td>\n",
       "      <td>57</td>\n",
       "      <td>350</td>\n",
       "      <td>73</td>\n",
       "      <td>15</td>\n",
       "    </tr>\n",
       "    <tr>\n",
       "      <th>6</th>\n",
       "      <td>1000</td>\n",
       "      <td>11</td>\n",
       "      <td>43</td>\n",
       "      <td>338</td>\n",
       "      <td>58</td>\n",
       "      <td>15</td>\n",
       "    </tr>\n",
       "    <tr>\n",
       "      <th>7</th>\n",
       "      <td>1000</td>\n",
       "      <td>12</td>\n",
       "      <td>46</td>\n",
       "      <td>333</td>\n",
       "      <td>70</td>\n",
       "      <td>10</td>\n",
       "    </tr>\n",
       "    <tr>\n",
       "      <th>8</th>\n",
       "      <td>1001</td>\n",
       "      <td>11</td>\n",
       "      <td>59</td>\n",
       "      <td>430</td>\n",
       "      <td>0</td>\n",
       "      <td>18</td>\n",
       "    </tr>\n",
       "    <tr>\n",
       "      <th>9</th>\n",
       "      <td>1001</td>\n",
       "      <td>12</td>\n",
       "      <td>63</td>\n",
       "      <td>414</td>\n",
       "      <td>0</td>\n",
       "      <td>14</td>\n",
       "    </tr>\n",
       "    <tr>\n",
       "      <th>10</th>\n",
       "      <td>1002</td>\n",
       "      <td>6</td>\n",
       "      <td>15</td>\n",
       "      <td>117</td>\n",
       "      <td>4</td>\n",
       "      <td>11</td>\n",
       "    </tr>\n",
       "    <tr>\n",
       "      <th>11</th>\n",
       "      <td>1002</td>\n",
       "      <td>7</td>\n",
       "      <td>26</td>\n",
       "      <td>214</td>\n",
       "      <td>11</td>\n",
       "      <td>18</td>\n",
       "    </tr>\n",
       "    <tr>\n",
       "      <th>12</th>\n",
       "      <td>1002</td>\n",
       "      <td>8</td>\n",
       "      <td>42</td>\n",
       "      <td>289</td>\n",
       "      <td>13</td>\n",
       "      <td>20</td>\n",
       "    </tr>\n",
       "    <tr>\n",
       "      <th>13</th>\n",
       "      <td>1002</td>\n",
       "      <td>9</td>\n",
       "      <td>36</td>\n",
       "      <td>206</td>\n",
       "      <td>4</td>\n",
       "      <td>17</td>\n",
       "    </tr>\n",
       "    <tr>\n",
       "      <th>14</th>\n",
       "      <td>1002</td>\n",
       "      <td>10</td>\n",
       "      <td>33</td>\n",
       "      <td>212</td>\n",
       "      <td>10</td>\n",
       "      <td>14</td>\n",
       "    </tr>\n",
       "  </tbody>\n",
       "</table>\n",
       "</div>"
      ],
      "text/plain": [
       "    user_id  month  calls_count  total_durations  messages_count  gb_used\n",
       "0      1000      5           22              159              22        3\n",
       "1      1000      6           43              172              60       23\n",
       "2      1000      7           47              340              75       14\n",
       "3      1000      8           52              408              81       14\n",
       "4      1000      9           58              466              57       15\n",
       "5      1000     10           57              350              73       15\n",
       "6      1000     11           43              338              58       15\n",
       "7      1000     12           46              333              70       10\n",
       "8      1001     11           59              430               0       18\n",
       "9      1001     12           63              414               0       14\n",
       "10     1002      6           15              117               4       11\n",
       "11     1002      7           26              214              11       18\n",
       "12     1002      8           42              289              13       20\n",
       "13     1002      9           36              206               4       17\n",
       "14     1002     10           33              212              10       14"
      ]
     },
     "execution_count": 48,
     "metadata": {},
     "output_type": "execute_result"
    }
   ],
   "source": [
    "data_by_user = pd.merge(data_calls_by_user, data_messages_by_user, how='outer')\n",
    "data_by_user = pd.merge(data_by_user, data_internet_by_user, how='outer')\n",
    "#data_by_user = data_by_user.drop(columns=['calls_count', 'mb_used'])\n",
    "data_by_user = data_by_user.drop(columns=['mb_used'])\n",
    "data_by_user = data_by_user.fillna(0)\n",
    "data_by_user = data_by_user.astype({'calls_count': np.int64, 'total_durations': np.int64, 'messages_count': np.int64, 'gb_used': np.int64})\n",
    "data_by_user.head(15)"
   ]
  },
  {
   "cell_type": "markdown",
   "id": "deea18e9",
   "metadata": {},
   "source": [
    "## 2. Анализ данных"
   ]
  },
  {
   "cell_type": "markdown",
   "id": "5f7ccbb1",
   "metadata": {},
   "source": [
    "### 2.1 Добавление столбцов в таблицу для анализа данных"
   ]
  },
  {
   "cell_type": "markdown",
   "id": "a78212ab",
   "metadata": {},
   "source": [
    "Напишем функцию, которая будет добавлять столбцы `message_over_tariff_fee`, `minutes_over_tariff_fee` и `gb_over_tariff_fee`, описывающие, сколько сверх тарифа абонеты потратили смс, минут и интернета за месяц."
   ]
  },
  {
   "cell_type": "code",
   "execution_count": 49,
   "id": "7c802fa4",
   "metadata": {
    "scrolled": false
   },
   "outputs": [],
   "source": [
    "def over_tariff_fee(user_id,month,included_column,fee_over_tariff_column,used_traffic_column):\n",
    "    tariff = data_users.query('user_id == @user_id')['tariff'].reset_index(drop=True)[0]\n",
    "    included_traffic = data_tariffs.query('tariff_name == @tariff')[included_column].reset_index(drop=True)[0]\n",
    "    used_traffic = data_by_user.query('user_id == @user_id and month == @month')[used_traffic_column].reset_index(drop=True)[0]\n",
    "    rub_over_tariff_part = data_tariffs.query('tariff_name == @tariff')[fee_over_tariff_column].reset_index(drop=True)[0]\n",
    "    if used_traffic > included_traffic:\n",
    "        return ((used_traffic - included_traffic) * rub_over_tariff_part)\n",
    "    return 0"
   ]
  },
  {
   "cell_type": "code",
   "execution_count": 50,
   "id": "05aadc08",
   "metadata": {},
   "outputs": [],
   "source": [
    "data_by_user['message_over_tariff_fee'] = 0\n",
    "data_by_user['minutes_over_tariff_fee'] = 0\n",
    "data_by_user['gb_over_tariff_fee'] = 0"
   ]
  },
  {
   "cell_type": "code",
   "execution_count": 51,
   "id": "4d4784e0",
   "metadata": {},
   "outputs": [],
   "source": [
    "for index in data_by_user.index:\n",
    "    data_by_user['message_over_tariff_fee'][index] = (over_tariff_fee(user_id=data_by_user['user_id'][index], month=data_by_user['month'][index], included_column='messages_included',\n",
    "            fee_over_tariff_column='rub_per_message', used_traffic_column='messages_count'))\n",
    "    data_by_user['minutes_over_tariff_fee'][index] = (over_tariff_fee(user_id=data_by_user['user_id'][index], month=data_by_user['month'][index], included_column='minutes_included',\n",
    "            fee_over_tariff_column='rub_per_minute', used_traffic_column='total_durations'))\n",
    "    data_by_user['gb_over_tariff_fee'][index] = (over_tariff_fee(user_id=data_by_user['user_id'][index], month=data_by_user['month'][index], included_column='gb_per_month_included',\n",
    "            fee_over_tariff_column='rub_per_gb', used_traffic_column='gb_used'))\n"
   ]
  },
  {
   "cell_type": "code",
   "execution_count": 52,
   "id": "70deff8f",
   "metadata": {},
   "outputs": [
    {
     "data": {
      "text/html": [
       "<div>\n",
       "<style scoped>\n",
       "    .dataframe tbody tr th:only-of-type {\n",
       "        vertical-align: middle;\n",
       "    }\n",
       "\n",
       "    .dataframe tbody tr th {\n",
       "        vertical-align: top;\n",
       "    }\n",
       "\n",
       "    .dataframe thead th {\n",
       "        text-align: right;\n",
       "    }\n",
       "</style>\n",
       "<table border=\"1\" class=\"dataframe\">\n",
       "  <thead>\n",
       "    <tr style=\"text-align: right;\">\n",
       "      <th></th>\n",
       "      <th>user_id</th>\n",
       "      <th>month</th>\n",
       "      <th>calls_count</th>\n",
       "      <th>total_durations</th>\n",
       "      <th>messages_count</th>\n",
       "      <th>gb_used</th>\n",
       "      <th>message_over_tariff_fee</th>\n",
       "      <th>minutes_over_tariff_fee</th>\n",
       "      <th>gb_over_tariff_fee</th>\n",
       "    </tr>\n",
       "  </thead>\n",
       "  <tbody>\n",
       "    <tr>\n",
       "      <th>0</th>\n",
       "      <td>1000</td>\n",
       "      <td>5</td>\n",
       "      <td>22</td>\n",
       "      <td>159</td>\n",
       "      <td>22</td>\n",
       "      <td>3</td>\n",
       "      <td>0</td>\n",
       "      <td>0</td>\n",
       "      <td>0</td>\n",
       "    </tr>\n",
       "    <tr>\n",
       "      <th>1</th>\n",
       "      <td>1000</td>\n",
       "      <td>6</td>\n",
       "      <td>43</td>\n",
       "      <td>172</td>\n",
       "      <td>60</td>\n",
       "      <td>23</td>\n",
       "      <td>0</td>\n",
       "      <td>0</td>\n",
       "      <td>0</td>\n",
       "    </tr>\n",
       "    <tr>\n",
       "      <th>2</th>\n",
       "      <td>1000</td>\n",
       "      <td>7</td>\n",
       "      <td>47</td>\n",
       "      <td>340</td>\n",
       "      <td>75</td>\n",
       "      <td>14</td>\n",
       "      <td>0</td>\n",
       "      <td>0</td>\n",
       "      <td>0</td>\n",
       "    </tr>\n",
       "    <tr>\n",
       "      <th>3</th>\n",
       "      <td>1000</td>\n",
       "      <td>8</td>\n",
       "      <td>52</td>\n",
       "      <td>408</td>\n",
       "      <td>81</td>\n",
       "      <td>14</td>\n",
       "      <td>0</td>\n",
       "      <td>0</td>\n",
       "      <td>0</td>\n",
       "    </tr>\n",
       "    <tr>\n",
       "      <th>4</th>\n",
       "      <td>1000</td>\n",
       "      <td>9</td>\n",
       "      <td>58</td>\n",
       "      <td>466</td>\n",
       "      <td>57</td>\n",
       "      <td>15</td>\n",
       "      <td>0</td>\n",
       "      <td>0</td>\n",
       "      <td>0</td>\n",
       "    </tr>\n",
       "    <tr>\n",
       "      <th>5</th>\n",
       "      <td>1000</td>\n",
       "      <td>10</td>\n",
       "      <td>57</td>\n",
       "      <td>350</td>\n",
       "      <td>73</td>\n",
       "      <td>15</td>\n",
       "      <td>0</td>\n",
       "      <td>0</td>\n",
       "      <td>0</td>\n",
       "    </tr>\n",
       "    <tr>\n",
       "      <th>6</th>\n",
       "      <td>1000</td>\n",
       "      <td>11</td>\n",
       "      <td>43</td>\n",
       "      <td>338</td>\n",
       "      <td>58</td>\n",
       "      <td>15</td>\n",
       "      <td>0</td>\n",
       "      <td>0</td>\n",
       "      <td>0</td>\n",
       "    </tr>\n",
       "    <tr>\n",
       "      <th>7</th>\n",
       "      <td>1000</td>\n",
       "      <td>12</td>\n",
       "      <td>46</td>\n",
       "      <td>333</td>\n",
       "      <td>70</td>\n",
       "      <td>10</td>\n",
       "      <td>0</td>\n",
       "      <td>0</td>\n",
       "      <td>0</td>\n",
       "    </tr>\n",
       "    <tr>\n",
       "      <th>8</th>\n",
       "      <td>1001</td>\n",
       "      <td>11</td>\n",
       "      <td>59</td>\n",
       "      <td>430</td>\n",
       "      <td>0</td>\n",
       "      <td>18</td>\n",
       "      <td>0</td>\n",
       "      <td>0</td>\n",
       "      <td>600</td>\n",
       "    </tr>\n",
       "    <tr>\n",
       "      <th>9</th>\n",
       "      <td>1001</td>\n",
       "      <td>12</td>\n",
       "      <td>63</td>\n",
       "      <td>414</td>\n",
       "      <td>0</td>\n",
       "      <td>14</td>\n",
       "      <td>0</td>\n",
       "      <td>0</td>\n",
       "      <td>0</td>\n",
       "    </tr>\n",
       "    <tr>\n",
       "      <th>10</th>\n",
       "      <td>1002</td>\n",
       "      <td>6</td>\n",
       "      <td>15</td>\n",
       "      <td>117</td>\n",
       "      <td>4</td>\n",
       "      <td>11</td>\n",
       "      <td>0</td>\n",
       "      <td>0</td>\n",
       "      <td>0</td>\n",
       "    </tr>\n",
       "    <tr>\n",
       "      <th>11</th>\n",
       "      <td>1002</td>\n",
       "      <td>7</td>\n",
       "      <td>26</td>\n",
       "      <td>214</td>\n",
       "      <td>11</td>\n",
       "      <td>18</td>\n",
       "      <td>0</td>\n",
       "      <td>0</td>\n",
       "      <td>600</td>\n",
       "    </tr>\n",
       "    <tr>\n",
       "      <th>12</th>\n",
       "      <td>1002</td>\n",
       "      <td>8</td>\n",
       "      <td>42</td>\n",
       "      <td>289</td>\n",
       "      <td>13</td>\n",
       "      <td>20</td>\n",
       "      <td>0</td>\n",
       "      <td>0</td>\n",
       "      <td>1000</td>\n",
       "    </tr>\n",
       "    <tr>\n",
       "      <th>13</th>\n",
       "      <td>1002</td>\n",
       "      <td>9</td>\n",
       "      <td>36</td>\n",
       "      <td>206</td>\n",
       "      <td>4</td>\n",
       "      <td>17</td>\n",
       "      <td>0</td>\n",
       "      <td>0</td>\n",
       "      <td>400</td>\n",
       "    </tr>\n",
       "    <tr>\n",
       "      <th>14</th>\n",
       "      <td>1002</td>\n",
       "      <td>10</td>\n",
       "      <td>33</td>\n",
       "      <td>212</td>\n",
       "      <td>10</td>\n",
       "      <td>14</td>\n",
       "      <td>0</td>\n",
       "      <td>0</td>\n",
       "      <td>0</td>\n",
       "    </tr>\n",
       "    <tr>\n",
       "      <th>15</th>\n",
       "      <td>1002</td>\n",
       "      <td>11</td>\n",
       "      <td>32</td>\n",
       "      <td>243</td>\n",
       "      <td>16</td>\n",
       "      <td>19</td>\n",
       "      <td>0</td>\n",
       "      <td>0</td>\n",
       "      <td>800</td>\n",
       "    </tr>\n",
       "    <tr>\n",
       "      <th>16</th>\n",
       "      <td>1002</td>\n",
       "      <td>12</td>\n",
       "      <td>33</td>\n",
       "      <td>236</td>\n",
       "      <td>12</td>\n",
       "      <td>18</td>\n",
       "      <td>0</td>\n",
       "      <td>0</td>\n",
       "      <td>600</td>\n",
       "    </tr>\n",
       "    <tr>\n",
       "      <th>17</th>\n",
       "      <td>1003</td>\n",
       "      <td>8</td>\n",
       "      <td>55</td>\n",
       "      <td>380</td>\n",
       "      <td>37</td>\n",
       "      <td>9</td>\n",
       "      <td>0</td>\n",
       "      <td>0</td>\n",
       "      <td>0</td>\n",
       "    </tr>\n",
       "    <tr>\n",
       "      <th>18</th>\n",
       "      <td>1003</td>\n",
       "      <td>9</td>\n",
       "      <td>134</td>\n",
       "      <td>961</td>\n",
       "      <td>91</td>\n",
       "      <td>13</td>\n",
       "      <td>0</td>\n",
       "      <td>0</td>\n",
       "      <td>0</td>\n",
       "    </tr>\n",
       "    <tr>\n",
       "      <th>19</th>\n",
       "      <td>1003</td>\n",
       "      <td>10</td>\n",
       "      <td>108</td>\n",
       "      <td>855</td>\n",
       "      <td>83</td>\n",
       "      <td>15</td>\n",
       "      <td>0</td>\n",
       "      <td>0</td>\n",
       "      <td>0</td>\n",
       "    </tr>\n",
       "  </tbody>\n",
       "</table>\n",
       "</div>"
      ],
      "text/plain": [
       "    user_id  month  calls_count  total_durations  messages_count  gb_used  \\\n",
       "0      1000      5           22              159              22        3   \n",
       "1      1000      6           43              172              60       23   \n",
       "2      1000      7           47              340              75       14   \n",
       "3      1000      8           52              408              81       14   \n",
       "4      1000      9           58              466              57       15   \n",
       "5      1000     10           57              350              73       15   \n",
       "6      1000     11           43              338              58       15   \n",
       "7      1000     12           46              333              70       10   \n",
       "8      1001     11           59              430               0       18   \n",
       "9      1001     12           63              414               0       14   \n",
       "10     1002      6           15              117               4       11   \n",
       "11     1002      7           26              214              11       18   \n",
       "12     1002      8           42              289              13       20   \n",
       "13     1002      9           36              206               4       17   \n",
       "14     1002     10           33              212              10       14   \n",
       "15     1002     11           32              243              16       19   \n",
       "16     1002     12           33              236              12       18   \n",
       "17     1003      8           55              380              37        9   \n",
       "18     1003      9          134              961              91       13   \n",
       "19     1003     10          108              855              83       15   \n",
       "\n",
       "    message_over_tariff_fee  minutes_over_tariff_fee  gb_over_tariff_fee  \n",
       "0                         0                        0                   0  \n",
       "1                         0                        0                   0  \n",
       "2                         0                        0                   0  \n",
       "3                         0                        0                   0  \n",
       "4                         0                        0                   0  \n",
       "5                         0                        0                   0  \n",
       "6                         0                        0                   0  \n",
       "7                         0                        0                   0  \n",
       "8                         0                        0                 600  \n",
       "9                         0                        0                   0  \n",
       "10                        0                        0                   0  \n",
       "11                        0                        0                 600  \n",
       "12                        0                        0                1000  \n",
       "13                        0                        0                 400  \n",
       "14                        0                        0                   0  \n",
       "15                        0                        0                 800  \n",
       "16                        0                        0                 600  \n",
       "17                        0                        0                   0  \n",
       "18                        0                        0                   0  \n",
       "19                        0                        0                   0  "
      ]
     },
     "execution_count": 52,
     "metadata": {},
     "output_type": "execute_result"
    }
   ],
   "source": [
    "data_by_user.head(20)"
   ]
  },
  {
   "cell_type": "markdown",
   "id": "35b83984",
   "metadata": {},
   "source": [
    "Добавим в таблицу столбцы `total_month_fee` и `tariff`, описывающие стоимость абоненской платы в месяц и название тарифа, которым пользуются клиенты."
   ]
  },
  {
   "cell_type": "code",
   "execution_count": 53,
   "id": "8aa73d7e",
   "metadata": {},
   "outputs": [],
   "source": [
    "warnings.filterwarnings('ignore')\n",
    "data_by_user['total_month_fee'] = 0\n",
    "data_by_user['tariff'] = ''\n",
    "\n",
    "for index in data_by_user.index:\n",
    "    user_id = data_by_user['user_id'][index]\n",
    "    tariff = data_users.query('user_id == @user_id')['tariff'].reset_index(drop=True)[0]\n",
    "    data_by_user['tariff'][index] = tariff\n",
    "    #month_fee = data_tariffs.query('tariff_name == @tariff')['rub_monthly_fee'].reset_index(drop=True)[0] \n",
    "    data_by_user['total_month_fee'][index] =  (data_tariffs.query('tariff_name == @tariff')['rub_monthly_fee'].reset_index(drop=True)[0] \n",
    "                                               + data_by_user['message_over_tariff_fee'][index] \n",
    "                                               + data_by_user['minutes_over_tariff_fee'][index] \n",
    "                                               + data_by_user['gb_over_tariff_fee'][index] )"
   ]
  },
  {
   "cell_type": "code",
   "execution_count": 54,
   "id": "b450c8d2",
   "metadata": {},
   "outputs": [
    {
     "data": {
      "text/html": [
       "<div>\n",
       "<style scoped>\n",
       "    .dataframe tbody tr th:only-of-type {\n",
       "        vertical-align: middle;\n",
       "    }\n",
       "\n",
       "    .dataframe tbody tr th {\n",
       "        vertical-align: top;\n",
       "    }\n",
       "\n",
       "    .dataframe thead th {\n",
       "        text-align: right;\n",
       "    }\n",
       "</style>\n",
       "<table border=\"1\" class=\"dataframe\">\n",
       "  <thead>\n",
       "    <tr style=\"text-align: right;\">\n",
       "      <th></th>\n",
       "      <th>user_id</th>\n",
       "      <th>month</th>\n",
       "      <th>calls_count</th>\n",
       "      <th>total_durations</th>\n",
       "      <th>messages_count</th>\n",
       "      <th>gb_used</th>\n",
       "      <th>message_over_tariff_fee</th>\n",
       "      <th>minutes_over_tariff_fee</th>\n",
       "      <th>gb_over_tariff_fee</th>\n",
       "      <th>total_month_fee</th>\n",
       "      <th>tariff</th>\n",
       "    </tr>\n",
       "  </thead>\n",
       "  <tbody>\n",
       "    <tr>\n",
       "      <th>0</th>\n",
       "      <td>1000</td>\n",
       "      <td>5</td>\n",
       "      <td>22</td>\n",
       "      <td>159</td>\n",
       "      <td>22</td>\n",
       "      <td>3</td>\n",
       "      <td>0</td>\n",
       "      <td>0</td>\n",
       "      <td>0</td>\n",
       "      <td>1950</td>\n",
       "      <td>ultra</td>\n",
       "    </tr>\n",
       "    <tr>\n",
       "      <th>1</th>\n",
       "      <td>1000</td>\n",
       "      <td>6</td>\n",
       "      <td>43</td>\n",
       "      <td>172</td>\n",
       "      <td>60</td>\n",
       "      <td>23</td>\n",
       "      <td>0</td>\n",
       "      <td>0</td>\n",
       "      <td>0</td>\n",
       "      <td>1950</td>\n",
       "      <td>ultra</td>\n",
       "    </tr>\n",
       "    <tr>\n",
       "      <th>2</th>\n",
       "      <td>1000</td>\n",
       "      <td>7</td>\n",
       "      <td>47</td>\n",
       "      <td>340</td>\n",
       "      <td>75</td>\n",
       "      <td>14</td>\n",
       "      <td>0</td>\n",
       "      <td>0</td>\n",
       "      <td>0</td>\n",
       "      <td>1950</td>\n",
       "      <td>ultra</td>\n",
       "    </tr>\n",
       "    <tr>\n",
       "      <th>3</th>\n",
       "      <td>1000</td>\n",
       "      <td>8</td>\n",
       "      <td>52</td>\n",
       "      <td>408</td>\n",
       "      <td>81</td>\n",
       "      <td>14</td>\n",
       "      <td>0</td>\n",
       "      <td>0</td>\n",
       "      <td>0</td>\n",
       "      <td>1950</td>\n",
       "      <td>ultra</td>\n",
       "    </tr>\n",
       "    <tr>\n",
       "      <th>4</th>\n",
       "      <td>1000</td>\n",
       "      <td>9</td>\n",
       "      <td>58</td>\n",
       "      <td>466</td>\n",
       "      <td>57</td>\n",
       "      <td>15</td>\n",
       "      <td>0</td>\n",
       "      <td>0</td>\n",
       "      <td>0</td>\n",
       "      <td>1950</td>\n",
       "      <td>ultra</td>\n",
       "    </tr>\n",
       "    <tr>\n",
       "      <th>5</th>\n",
       "      <td>1000</td>\n",
       "      <td>10</td>\n",
       "      <td>57</td>\n",
       "      <td>350</td>\n",
       "      <td>73</td>\n",
       "      <td>15</td>\n",
       "      <td>0</td>\n",
       "      <td>0</td>\n",
       "      <td>0</td>\n",
       "      <td>1950</td>\n",
       "      <td>ultra</td>\n",
       "    </tr>\n",
       "    <tr>\n",
       "      <th>6</th>\n",
       "      <td>1000</td>\n",
       "      <td>11</td>\n",
       "      <td>43</td>\n",
       "      <td>338</td>\n",
       "      <td>58</td>\n",
       "      <td>15</td>\n",
       "      <td>0</td>\n",
       "      <td>0</td>\n",
       "      <td>0</td>\n",
       "      <td>1950</td>\n",
       "      <td>ultra</td>\n",
       "    </tr>\n",
       "    <tr>\n",
       "      <th>7</th>\n",
       "      <td>1000</td>\n",
       "      <td>12</td>\n",
       "      <td>46</td>\n",
       "      <td>333</td>\n",
       "      <td>70</td>\n",
       "      <td>10</td>\n",
       "      <td>0</td>\n",
       "      <td>0</td>\n",
       "      <td>0</td>\n",
       "      <td>1950</td>\n",
       "      <td>ultra</td>\n",
       "    </tr>\n",
       "    <tr>\n",
       "      <th>8</th>\n",
       "      <td>1001</td>\n",
       "      <td>11</td>\n",
       "      <td>59</td>\n",
       "      <td>430</td>\n",
       "      <td>0</td>\n",
       "      <td>18</td>\n",
       "      <td>0</td>\n",
       "      <td>0</td>\n",
       "      <td>600</td>\n",
       "      <td>1150</td>\n",
       "      <td>smart</td>\n",
       "    </tr>\n",
       "    <tr>\n",
       "      <th>9</th>\n",
       "      <td>1001</td>\n",
       "      <td>12</td>\n",
       "      <td>63</td>\n",
       "      <td>414</td>\n",
       "      <td>0</td>\n",
       "      <td>14</td>\n",
       "      <td>0</td>\n",
       "      <td>0</td>\n",
       "      <td>0</td>\n",
       "      <td>550</td>\n",
       "      <td>smart</td>\n",
       "    </tr>\n",
       "    <tr>\n",
       "      <th>10</th>\n",
       "      <td>1002</td>\n",
       "      <td>6</td>\n",
       "      <td>15</td>\n",
       "      <td>117</td>\n",
       "      <td>4</td>\n",
       "      <td>11</td>\n",
       "      <td>0</td>\n",
       "      <td>0</td>\n",
       "      <td>0</td>\n",
       "      <td>550</td>\n",
       "      <td>smart</td>\n",
       "    </tr>\n",
       "    <tr>\n",
       "      <th>11</th>\n",
       "      <td>1002</td>\n",
       "      <td>7</td>\n",
       "      <td>26</td>\n",
       "      <td>214</td>\n",
       "      <td>11</td>\n",
       "      <td>18</td>\n",
       "      <td>0</td>\n",
       "      <td>0</td>\n",
       "      <td>600</td>\n",
       "      <td>1150</td>\n",
       "      <td>smart</td>\n",
       "    </tr>\n",
       "    <tr>\n",
       "      <th>12</th>\n",
       "      <td>1002</td>\n",
       "      <td>8</td>\n",
       "      <td>42</td>\n",
       "      <td>289</td>\n",
       "      <td>13</td>\n",
       "      <td>20</td>\n",
       "      <td>0</td>\n",
       "      <td>0</td>\n",
       "      <td>1000</td>\n",
       "      <td>1550</td>\n",
       "      <td>smart</td>\n",
       "    </tr>\n",
       "    <tr>\n",
       "      <th>13</th>\n",
       "      <td>1002</td>\n",
       "      <td>9</td>\n",
       "      <td>36</td>\n",
       "      <td>206</td>\n",
       "      <td>4</td>\n",
       "      <td>17</td>\n",
       "      <td>0</td>\n",
       "      <td>0</td>\n",
       "      <td>400</td>\n",
       "      <td>950</td>\n",
       "      <td>smart</td>\n",
       "    </tr>\n",
       "    <tr>\n",
       "      <th>14</th>\n",
       "      <td>1002</td>\n",
       "      <td>10</td>\n",
       "      <td>33</td>\n",
       "      <td>212</td>\n",
       "      <td>10</td>\n",
       "      <td>14</td>\n",
       "      <td>0</td>\n",
       "      <td>0</td>\n",
       "      <td>0</td>\n",
       "      <td>550</td>\n",
       "      <td>smart</td>\n",
       "    </tr>\n",
       "    <tr>\n",
       "      <th>15</th>\n",
       "      <td>1002</td>\n",
       "      <td>11</td>\n",
       "      <td>32</td>\n",
       "      <td>243</td>\n",
       "      <td>16</td>\n",
       "      <td>19</td>\n",
       "      <td>0</td>\n",
       "      <td>0</td>\n",
       "      <td>800</td>\n",
       "      <td>1350</td>\n",
       "      <td>smart</td>\n",
       "    </tr>\n",
       "    <tr>\n",
       "      <th>16</th>\n",
       "      <td>1002</td>\n",
       "      <td>12</td>\n",
       "      <td>33</td>\n",
       "      <td>236</td>\n",
       "      <td>12</td>\n",
       "      <td>18</td>\n",
       "      <td>0</td>\n",
       "      <td>0</td>\n",
       "      <td>600</td>\n",
       "      <td>1150</td>\n",
       "      <td>smart</td>\n",
       "    </tr>\n",
       "    <tr>\n",
       "      <th>17</th>\n",
       "      <td>1003</td>\n",
       "      <td>8</td>\n",
       "      <td>55</td>\n",
       "      <td>380</td>\n",
       "      <td>37</td>\n",
       "      <td>9</td>\n",
       "      <td>0</td>\n",
       "      <td>0</td>\n",
       "      <td>0</td>\n",
       "      <td>1950</td>\n",
       "      <td>ultra</td>\n",
       "    </tr>\n",
       "    <tr>\n",
       "      <th>18</th>\n",
       "      <td>1003</td>\n",
       "      <td>9</td>\n",
       "      <td>134</td>\n",
       "      <td>961</td>\n",
       "      <td>91</td>\n",
       "      <td>13</td>\n",
       "      <td>0</td>\n",
       "      <td>0</td>\n",
       "      <td>0</td>\n",
       "      <td>1950</td>\n",
       "      <td>ultra</td>\n",
       "    </tr>\n",
       "    <tr>\n",
       "      <th>19</th>\n",
       "      <td>1003</td>\n",
       "      <td>10</td>\n",
       "      <td>108</td>\n",
       "      <td>855</td>\n",
       "      <td>83</td>\n",
       "      <td>15</td>\n",
       "      <td>0</td>\n",
       "      <td>0</td>\n",
       "      <td>0</td>\n",
       "      <td>1950</td>\n",
       "      <td>ultra</td>\n",
       "    </tr>\n",
       "  </tbody>\n",
       "</table>\n",
       "</div>"
      ],
      "text/plain": [
       "    user_id  month  calls_count  total_durations  messages_count  gb_used  \\\n",
       "0      1000      5           22              159              22        3   \n",
       "1      1000      6           43              172              60       23   \n",
       "2      1000      7           47              340              75       14   \n",
       "3      1000      8           52              408              81       14   \n",
       "4      1000      9           58              466              57       15   \n",
       "5      1000     10           57              350              73       15   \n",
       "6      1000     11           43              338              58       15   \n",
       "7      1000     12           46              333              70       10   \n",
       "8      1001     11           59              430               0       18   \n",
       "9      1001     12           63              414               0       14   \n",
       "10     1002      6           15              117               4       11   \n",
       "11     1002      7           26              214              11       18   \n",
       "12     1002      8           42              289              13       20   \n",
       "13     1002      9           36              206               4       17   \n",
       "14     1002     10           33              212              10       14   \n",
       "15     1002     11           32              243              16       19   \n",
       "16     1002     12           33              236              12       18   \n",
       "17     1003      8           55              380              37        9   \n",
       "18     1003      9          134              961              91       13   \n",
       "19     1003     10          108              855              83       15   \n",
       "\n",
       "    message_over_tariff_fee  minutes_over_tariff_fee  gb_over_tariff_fee  \\\n",
       "0                         0                        0                   0   \n",
       "1                         0                        0                   0   \n",
       "2                         0                        0                   0   \n",
       "3                         0                        0                   0   \n",
       "4                         0                        0                   0   \n",
       "5                         0                        0                   0   \n",
       "6                         0                        0                   0   \n",
       "7                         0                        0                   0   \n",
       "8                         0                        0                 600   \n",
       "9                         0                        0                   0   \n",
       "10                        0                        0                   0   \n",
       "11                        0                        0                 600   \n",
       "12                        0                        0                1000   \n",
       "13                        0                        0                 400   \n",
       "14                        0                        0                   0   \n",
       "15                        0                        0                 800   \n",
       "16                        0                        0                 600   \n",
       "17                        0                        0                   0   \n",
       "18                        0                        0                   0   \n",
       "19                        0                        0                   0   \n",
       "\n",
       "    total_month_fee tariff  \n",
       "0              1950  ultra  \n",
       "1              1950  ultra  \n",
       "2              1950  ultra  \n",
       "3              1950  ultra  \n",
       "4              1950  ultra  \n",
       "5              1950  ultra  \n",
       "6              1950  ultra  \n",
       "7              1950  ultra  \n",
       "8              1150  smart  \n",
       "9               550  smart  \n",
       "10              550  smart  \n",
       "11             1150  smart  \n",
       "12             1550  smart  \n",
       "13              950  smart  \n",
       "14              550  smart  \n",
       "15             1350  smart  \n",
       "16             1150  smart  \n",
       "17             1950  ultra  \n",
       "18             1950  ultra  \n",
       "19             1950  ultra  "
      ]
     },
     "execution_count": 54,
     "metadata": {},
     "output_type": "execute_result"
    }
   ],
   "source": [
    "data_by_user.head(20)"
   ]
  },
  {
   "cell_type": "markdown",
   "id": "f48628c0",
   "metadata": {},
   "source": [
    "### 2.2 Расчет среднего, дисперсии и стандартного отклонения"
   ]
  },
  {
   "cell_type": "markdown",
   "id": "f22eb2e1",
   "metadata": {},
   "source": [
    "Напишем функцию, которая будет рассчитывать среднее, дисперсию и стандартное отклонение для тарифов."
   ]
  },
  {
   "cell_type": "code",
   "execution_count": 55,
   "id": "76871475",
   "metadata": {},
   "outputs": [],
   "source": [
    "def stat_info(tariff, column):\n",
    "    print(f'Среднее столбца {column} тарифа {tariff} =', data_by_user.query('tariff == @tariff')[column].mean())\n",
    "    print(f'Дисперсия столбца {column} тарифа {tariff} =', np.var(data_by_user.query('tariff == @tariff')[column]))\n",
    "    print(f'Стандартное отклонение столбца {column} тарифа {tariff} =', np.std(data_by_user.query('tariff == @tariff')[column]))"
   ]
  },
  {
   "cell_type": "code",
   "execution_count": 56,
   "id": "0ca6b01e",
   "metadata": {},
   "outputs": [],
   "source": [
    "columns = ['total_durations', 'messages_count', 'gb_used']\n",
    "tariffs = ['ultra', 'smart']"
   ]
  },
  {
   "cell_type": "code",
   "execution_count": 57,
   "id": "338b6aa8",
   "metadata": {},
   "outputs": [
    {
     "name": "stdout",
     "output_type": "stream",
     "text": [
      "Среднее столбца total_durations тарифа ultra = 526.6233502538071\n",
      "Дисперсия столбца total_durations тарифа ultra = 100771.22361720211\n",
      "Стандартное отклонение столбца total_durations тарифа ultra = 317.444835549741\n",
      "\n",
      "Среднее столбца messages_count тарифа ultra = 49.36345177664975\n",
      "Дисперсия столбца messages_count тарифа ultra = 2282.94607539489\n",
      "Стандартное отклонение столбца messages_count тарифа ultra = 47.78018496610169\n",
      "\n",
      "Среднее столбца gb_used тарифа ultra = 19.494416243654822\n",
      "Дисперсия столбца gb_used тарифа ultra = 96.99311602978705\n",
      "Стандартное отклонение столбца gb_used тарифа ultra = 9.8485083149575\n",
      "\n",
      "Среднее столбца total_durations тарифа smart = 417.9349484073576\n",
      "Дисперсия столбца total_durations тарифа smart = 36203.06665209465\n",
      "Стандартное отклонение столбца total_durations тарифа smart = 190.27103471651864\n",
      "\n",
      "Среднее столбца messages_count тарифа smart = 33.384028712427096\n",
      "Дисперсия столбца messages_count тарифа smart = 796.455482917076\n",
      "Стандартное отклонение столбца messages_count тарифа smart = 28.221542886898938\n",
      "\n",
      "Среднее столбца gb_used тарифа smart = 16.328847016599372\n",
      "Дисперсия столбца gb_used тарифа smart = 33.01388745483741\n",
      "Стандартное отклонение столбца gb_used тарифа smart = 5.7457712671874965\n",
      "\n"
     ]
    }
   ],
   "source": [
    "for iter_tariff in tariffs:\n",
    "    for iter_column in columns:\n",
    "        stat_info(tariff=iter_tariff, column=iter_column)\n",
    "        print('')"
   ]
  },
  {
   "cell_type": "markdown",
   "id": "100f39bd",
   "metadata": {},
   "source": [
    "### 2.3 Построение графиков"
   ]
  },
  {
   "cell_type": "code",
   "execution_count": 58,
   "id": "0fa215d8",
   "metadata": {
    "scrolled": false
   },
   "outputs": [],
   "source": [
    "def plot_hist(column):\n",
    "    print(f'Гистограммы столбца {column}:')\n",
    "    data_by_user.query('tariff == \"smart\"')[column].hist(bins=100, alpha=0.5)\n",
    "    data_by_user.query('tariff == \"ultra\"')[column].hist(bins=100, alpha=0.5)"
   ]
  },
  {
   "cell_type": "code",
   "execution_count": 59,
   "id": "cd1a9820",
   "metadata": {},
   "outputs": [
    {
     "name": "stdout",
     "output_type": "stream",
     "text": [
      "Гистограммы столбца total_durations:\n"
     ]
    },
    {
     "data": {
      "image/png": "[encoded data removed]",
      "text/plain": [
       "<Figure size 432x288 with 1 Axes>"
      ]
     },
     "metadata": {
      "needs_background": "light"
     },
     "output_type": "display_data"
    },
    {
     "name": "stdout",
     "output_type": "stream",
     "text": [
      "\n",
      "Гистограммы столбца messages_count:\n"
     ]
    },
    {
     "data": {
      "image/png": "[encoded data removed]",
      "text/plain": [
       "<Figure size 432x288 with 1 Axes>"
      ]
     },
     "metadata": {
      "needs_background": "light"
     },
     "output_type": "display_data"
    },
    {
     "name": "stdout",
     "output_type": "stream",
     "text": [
      "\n",
      "Гистограммы столбца gb_used:\n"
     ]
    },
    {
     "data": {
      "image/png": "[encoded data removed]",
      "text/plain": [
       "<Figure size 432x288 with 1 Axes>"
      ]
     },
     "metadata": {
      "needs_background": "light"
     },
     "output_type": "display_data"
    },
    {
     "name": "stdout",
     "output_type": "stream",
     "text": [
      "\n"
     ]
    }
   ],
   "source": [
    "for iter_column in columns:\n",
    "    plot_hist(iter_column)\n",
    "    plt.title(iter_column)\n",
    "    plt.legend(['Smart', 'Ultra'])\n",
    "    plt.xlabel(iter_column)\n",
    "    plt.show()\n",
    "    print('')"
   ]
  },
  {
   "cell_type": "markdown",
   "id": "fa800ee5",
   "metadata": {},
   "source": [
    "#### 2.3.1 Построение гистограммы минут для двух тарифов."
   ]
  },
  {
   "cell_type": "code",
   "execution_count": 60,
   "id": "b8877713",
   "metadata": {},
   "outputs": [
    {
     "name": "stdout",
     "output_type": "stream",
     "text": [
      "Гистограммы столбца total_durations:\n"
     ]
    },
    {
     "data": {
      "text/plain": [
       "<AxesSubplot:>"
      ]
     },
     "execution_count": 60,
     "metadata": {},
     "output_type": "execute_result"
    },
    {
     "data": {
      "image/png": "[encoded data removed]",
      "text/plain": [
       "<Figure size 432x288 with 1 Axes>"
      ]
     },
     "metadata": {
      "needs_background": "light"
     },
     "output_type": "display_data"
    }
   ],
   "source": [
    "print(f'Гистограммы столбца total_durations:')\n",
    "data_by_user.query('tariff == \"smart\"')['total_durations'].hist(bins=50, alpha=0.5)\n",
    "data_by_user.query('tariff == \"ultra\"')['total_durations'].hist(bins=50, alpha=0.5)"
   ]
  },
  {
   "cell_type": "code",
   "execution_count": 61,
   "id": "7bb01f66",
   "metadata": {},
   "outputs": [
    {
     "data": {
      "text/plain": [
       "count    2229.000000\n",
       "mean      417.934948\n",
       "std       190.313730\n",
       "min         0.000000\n",
       "25%       282.000000\n",
       "50%       422.000000\n",
       "75%       545.000000\n",
       "max      1435.000000\n",
       "Name: total_durations, dtype: float64"
      ]
     },
     "execution_count": 61,
     "metadata": {},
     "output_type": "execute_result"
    }
   ],
   "source": [
    "data_by_user.query('tariff == \"smart\"')['total_durations'].describe()"
   ]
  },
  {
   "cell_type": "markdown",
   "id": "7025294e",
   "metadata": {},
   "source": [
    "Пользователи тарифа \"Смарт\" тратят от 0 до 1100(примерно). Максимальное количесов минкт, потраченных за месяц на этом тарифе - 1435. Минимальное - 0.\n",
    "\n",
    "Среднее значение = 418 минут. Медиана = 422."
   ]
  },
  {
   "cell_type": "code",
   "execution_count": 62,
   "id": "aa98f0c2",
   "metadata": {},
   "outputs": [
    {
     "data": {
      "text/plain": [
       "count     985.000000\n",
       "mean      526.623350\n",
       "std       317.606098\n",
       "min         0.000000\n",
       "25%       284.000000\n",
       "50%       518.000000\n",
       "75%       752.000000\n",
       "max      1673.000000\n",
       "Name: total_durations, dtype: float64"
      ]
     },
     "execution_count": 62,
     "metadata": {},
     "output_type": "execute_result"
    }
   ],
   "source": [
    "data_by_user.query('tariff == \"ultra\"')['total_durations'].describe()"
   ]
  },
  {
   "cell_type": "markdown",
   "id": "7592c8f2",
   "metadata": {},
   "source": [
    "У пользователей тарифом ultra картина иная. Пользователи тратят от 0 до 1300(примерно) минут в мксяц. Максимаьное значение = 1673.\n",
    "\n",
    "Среднее количество минут потраченных за месяц пользователями данного тарифа = 526. Медиана = 518."
   ]
  },
  {
   "cell_type": "markdown",
   "id": "ca1a7548",
   "metadata": {},
   "source": [
    "#### 2.3.2 Построение гистограммы минут для двух тарифов."
   ]
  },
  {
   "cell_type": "code",
   "execution_count": 63,
   "id": "84351270",
   "metadata": {},
   "outputs": [
    {
     "name": "stdout",
     "output_type": "stream",
     "text": [
      "Гистограммы столбца messages_count:\n"
     ]
    },
    {
     "data": {
      "text/plain": [
       "<AxesSubplot:>"
      ]
     },
     "execution_count": 63,
     "metadata": {},
     "output_type": "execute_result"
    },
    {
     "data": {
      "image/png": "[encoded data removed]",
      "text/plain": [
       "<Figure size 432x288 with 1 Axes>"
      ]
     },
     "metadata": {
      "needs_background": "light"
     },
     "output_type": "display_data"
    }
   ],
   "source": [
    "print(f'Гистограммы столбца messages_count:')\n",
    "data_by_user.query('tariff == \"smart\"')['messages_count'].hist(bins=50, alpha=0.5)\n",
    "data_by_user.query('tariff == \"ultra\"')['messages_count'].hist(bins=50, alpha=0.5)"
   ]
  },
  {
   "cell_type": "code",
   "execution_count": 64,
   "id": "79d2787f",
   "metadata": {},
   "outputs": [
    {
     "data": {
      "text/plain": [
       "count    2229.000000\n",
       "mean       33.384029\n",
       "std        28.227876\n",
       "min         0.000000\n",
       "25%        10.000000\n",
       "50%        28.000000\n",
       "75%        51.000000\n",
       "max       143.000000\n",
       "Name: messages_count, dtype: float64"
      ]
     },
     "execution_count": 64,
     "metadata": {},
     "output_type": "execute_result"
    }
   ],
   "source": [
    "data_by_user.query('tariff == \"smart\"')['messages_count'].describe()"
   ]
  },
  {
   "cell_type": "markdown",
   "id": "0aae778a",
   "metadata": {},
   "source": [
    "Среднее значение по потраченных смс = 33. Медианное значение = 28. Минимальное количество отправленных смс = 0, максимальное = 143."
   ]
  },
  {
   "cell_type": "code",
   "execution_count": 65,
   "id": "f482c0a8",
   "metadata": {},
   "outputs": [
    {
     "data": {
      "text/plain": [
       "count    985.000000\n",
       "mean      49.363452\n",
       "std       47.804457\n",
       "min        0.000000\n",
       "25%        6.000000\n",
       "50%       38.000000\n",
       "75%       79.000000\n",
       "max      224.000000\n",
       "Name: messages_count, dtype: float64"
      ]
     },
     "execution_count": 65,
     "metadata": {},
     "output_type": "execute_result"
    }
   ],
   "source": [
    "data_by_user.query('tariff == \"ultra\"')['messages_count'].describe()"
   ]
  },
  {
   "cell_type": "markdown",
   "id": "e83e85f3",
   "metadata": {},
   "source": [
    "Среднее значение по потраченных смс = 49. Медианное значение = 38. Минимальное количество отправленных смс = 0, максимальное = 244."
   ]
  },
  {
   "cell_type": "markdown",
   "id": "d895b07a",
   "metadata": {},
   "source": [
    "#### 2.3.3 Построение гистограммы интернета для двух тарифов."
   ]
  },
  {
   "cell_type": "code",
   "execution_count": 66,
   "id": "737582c1",
   "metadata": {},
   "outputs": [
    {
     "name": "stdout",
     "output_type": "stream",
     "text": [
      "Гистограммы столбца gb_used:\n"
     ]
    },
    {
     "data": {
      "text/plain": [
       "<AxesSubplot:>"
      ]
     },
     "execution_count": 66,
     "metadata": {},
     "output_type": "execute_result"
    },
    {
     "data": {
      "image/png": "[encoded data removed]",
      "text/plain": [
       "<Figure size 432x288 with 1 Axes>"
      ]
     },
     "metadata": {
      "needs_background": "light"
     },
     "output_type": "display_data"
    }
   ],
   "source": [
    "print(f'Гистограммы столбца gb_used:')\n",
    "data_by_user.query('tariff == \"smart\"')['gb_used'].hist(bins=50, alpha=0.5)\n",
    "data_by_user.query('tariff == \"ultra\"')['gb_used'].hist(bins=50, alpha=0.5)"
   ]
  },
  {
   "cell_type": "code",
   "execution_count": 67,
   "id": "5c8660ac",
   "metadata": {},
   "outputs": [
    {
     "data": {
      "text/plain": [
       "count    2229.000000\n",
       "mean       16.328847\n",
       "std         5.747061\n",
       "min         0.000000\n",
       "25%        13.000000\n",
       "50%        17.000000\n",
       "75%        20.000000\n",
       "max        38.000000\n",
       "Name: gb_used, dtype: float64"
      ]
     },
     "execution_count": 67,
     "metadata": {},
     "output_type": "execute_result"
    }
   ],
   "source": [
    "data_by_user.query('tariff == \"smart\"')['gb_used'].describe()"
   ]
  },
  {
   "cell_type": "markdown",
   "id": "2f5880df",
   "metadata": {},
   "source": [
    "Среднее значение по потраченных гигабайт = 16. Медианное значение = 17. Минимальное количество = 0, максимальное = 38."
   ]
  },
  {
   "cell_type": "code",
   "execution_count": 68,
   "id": "31e8ec33",
   "metadata": {},
   "outputs": [
    {
     "data": {
      "text/plain": [
       "count    985.000000\n",
       "mean      19.494416\n",
       "std        9.853511\n",
       "min        0.000000\n",
       "25%       12.000000\n",
       "50%       19.000000\n",
       "75%       27.000000\n",
       "max       49.000000\n",
       "Name: gb_used, dtype: float64"
      ]
     },
     "execution_count": 68,
     "metadata": {},
     "output_type": "execute_result"
    }
   ],
   "source": [
    "data_by_user.query('tariff == \"ultra\"')['gb_used'].describe()"
   ]
  },
  {
   "cell_type": "markdown",
   "id": "b36dc04a",
   "metadata": {},
   "source": [
    "Среднее значение по потраченных гигабайт = 19. Медианное значение = 19. Минимальное количество = 0, максимальное = 49."
   ]
  },
  {
   "cell_type": "markdown",
   "id": "0a80e737",
   "metadata": {},
   "source": [
    "#### 2.3.4 Размер выборки"
   ]
  },
  {
   "cell_type": "code",
   "execution_count": 69,
   "id": "15e409e7",
   "metadata": {},
   "outputs": [
    {
     "name": "stdout",
     "output_type": "stream",
     "text": [
      "Размер выборки по тарифу \"Ультра\" = 985\n",
      "Размер выборки по тарифу \"Смарт\" = 2229\n"
     ]
    }
   ],
   "source": [
    "tariff_users_count = data_by_user.query('tariff == \"ultra\"')['tariff'].count()\n",
    "print(f'Размер выборки по тарифу \"Ультра\" = {tariff_users_count}')\n",
    "tariff_users_count = data_by_user.query('tariff == \"smart\"')['tariff'].count()\n",
    "print(f'Размер выборки по тарифу \"Смарт\" = {tariff_users_count}')"
   ]
  },
  {
   "cell_type": "markdown",
   "id": "9b899da7",
   "metadata": {},
   "source": [
    "**Вывод**\n",
    "\n",
    "Клиентов, использующих тариф \"Ультра\" = 985. А тарифом \"Смарт\" пользуются 2229.\n",
    "Тариф \"Смарт\" выгоднее по условиям и по цене, возможно, поэтому его и использует больше клиентов.\n",
    "\n",
    "Дисперсия для тарифа смарт намного меньше, чем для тарифа ультра: клиенты \"смарта\" больше походят друг на друга в объемах потребления трафика, пакета минут и смс им по большей части хватает, а вот за интернет в большинстве случаем они доплачивают и не только за 1-2 гб, а даже больше. Можно сказать, что пользователям тарифа \"ультра\" хватает пакета трафика, исходя из подавляющего большинства таких значений."
   ]
  },
  {
   "cell_type": "markdown",
   "id": "0319c118",
   "metadata": {},
   "source": [
    "## 3. Проверка гипотез"
   ]
  },
  {
   "cell_type": "markdown",
   "id": "2bf5bf8e",
   "metadata": {},
   "source": [
    "### 3.1 Средняя выручка пользователей тарифов \"Ультра\" и \"Смарт\" различаются"
   ]
  },
  {
   "cell_type": "markdown",
   "id": "5555f6d4",
   "metadata": {},
   "source": [
    "В качестве нулевой гипотезы принимается равенство двух показателей, поэтому проверяем, равна ли выручка с двух тарифов между собой. Альтернативная гипотеза звучит как \"неравна\", поскольку нам не важно, строго меньше или строго больше выручка одного тарифа относительно другого.\n",
    "Для проверки гипотез использовали критерий о равенстве средних двух генеральных совокупностей, поскольку считаем что мы обладаем случайной выборкой из генеральных совокупностей для каждого тарифа и выборочные средние распределены нормально.\n",
    "Размеры выборок разные, поэтому применим t-тест для двух генеральных совокупностей с параметром `equal_var = False`"
   ]
  },
  {
   "cell_type": "code",
   "execution_count": 70,
   "id": "29269855",
   "metadata": {
    "scrolled": true
   },
   "outputs": [
    {
     "name": "stdout",
     "output_type": "stream",
     "text": [
      "p-значение: 4.2606313931076085e-250\n",
      "Отвергаем нулевую гипотезу\n"
     ]
    }
   ],
   "source": [
    "alpha = 0.05\n",
    "tariff_results = st.ttest_ind(\n",
    "    data_by_user.query('tariff == \"ultra\"')['total_month_fee'], \n",
    "    data_by_user.query('tariff == \"smart\"')['total_month_fee'],\n",
    "    equal_var = False) \n",
    "\n",
    "print('p-значение:', tariff_results.pvalue) \n",
    "\n",
    "if (tariff_results.pvalue < alpha):\n",
    "    print(\"Отвергаем нулевую гипотезу\")\n",
    "else:\n",
    "    print(\"Не получилось отвергнуть нулевую гипотезу\")"
   ]
  },
  {
   "cell_type": "markdown",
   "id": "71091ad8",
   "metadata": {},
   "source": [
    "**Вывод**\n",
    "\n",
    "Cредняя выручка пользователей тарифов «Ультра» и «Смарт» различаются. Нулевая гипотеза отвергнута."
   ]
  },
  {
   "cell_type": "markdown",
   "id": "b67518eb",
   "metadata": {},
   "source": [
    "### 3.2 Средняя выручка пользователей из Москвы отличается от выручки пользователей из других регионов"
   ]
  },
  {
   "cell_type": "code",
   "execution_count": 71,
   "id": "7b96e549",
   "metadata": {},
   "outputs": [],
   "source": [
    "warnings.filterwarnings('ignore')\n",
    "data_by_user['is_moscow'] = 0\n",
    "for index in data_by_user.index:\n",
    "    user_id = data_by_user['user_id'][index]\n",
    "    city = data_users.query('user_id == @user_id')['city'].reset_index(drop=True)[0]\n",
    "    data_by_user['is_moscow'][index] = (city == 'Москва')"
   ]
  },
  {
   "cell_type": "code",
   "execution_count": 72,
   "id": "270985db",
   "metadata": {},
   "outputs": [
    {
     "name": "stdout",
     "output_type": "stream",
     "text": [
      "Размер выборки по Москве = 611\n",
      "Размер выборки по другим регионам = 2603\n"
     ]
    }
   ],
   "source": [
    "data_by_user.head(50)\n",
    "city_users_count = data_by_user.query('is_moscow > 0')['tariff'].count()\n",
    "print(f'Размер выборки по Москве = {city_users_count}')\n",
    "city_users_count = data_by_user.query('is_moscow == 0')['tariff'].count()\n",
    "print(f'Размер выборки по другим регионам = {city_users_count}')"
   ]
  },
  {
   "cell_type": "markdown",
   "id": "011d2180",
   "metadata": {},
   "source": [
    "Размеры выборок разные, поэтому применим t-тест для двух генеральных совокупностей с параметром `equal_var = False`"
   ]
  },
  {
   "cell_type": "code",
   "execution_count": 73,
   "id": "6e45ee72",
   "metadata": {},
   "outputs": [
    {
     "name": "stdout",
     "output_type": "stream",
     "text": [
      "p-значение: 0.5257376663729298\n",
      "Не получилось отвергнуть нулевую гипотезу\n"
     ]
    }
   ],
   "source": [
    "city_results = st.ttest_ind(\n",
    "    data_by_user.query('is_moscow > 0')['total_month_fee'], \n",
    "    data_by_user.query('is_moscow == 0')['total_month_fee'],\n",
    "    equal_var = False) \n",
    "\n",
    "print('p-значение:', city_results.pvalue) \n",
    "\n",
    "if (city_results.pvalue < alpha):\n",
    "    print(\"Отвергаем нулевую гипотезу\")\n",
    "else:\n",
    "    print(\"Не получилось отвергнуть нулевую гипотезу\")"
   ]
  },
  {
   "cell_type": "markdown",
   "id": "1ed166ea",
   "metadata": {},
   "source": [
    "**Вывод**\n",
    "\n",
    "Cредняя выручка пользователей из Москвы не отличается от выручки пользователей из других регионов. Нулевая гипотеза подтверждена."
   ]
  },
  {
   "cell_type": "markdown",
   "id": "4f88c418",
   "metadata": {},
   "source": [
    "## 4. Вывод\n",
    "\n",
    "1) Предобработка данных\n",
    "- Аномальных значений в столбцах не обнаруженно. В столбце `churn_date` таблицы `data_users` присутствуют пропуски - это свидетельствует о том, что пользователь использует тариф.\n",
    "- В столбце `duration` таблицы `data_calls` присутствуют нулевые значения - это не аномалия, это значит, что этот звонок был пропущен.\n",
    "- Не все пользователи используют все функции тарифа, например, количество уникальных пользователей - 500, но звонки совершали только 492. Предположим, что люди, которые не совершали звонов, используют сим-карту для планшета. Смс отправляли только 426 клиентов, возможно, что не все клиенты отправляют смс, потому что в современном мире на место смс пришли месседжеры, такие как: WhatsApp, Telegram, Viber и тд. Интерентом пользуются 497 клиентов: возможно, что эти люди не используют интернет, так как у них кнопочные телефоны без выхода в интернет. Эти клиенты могут быть пенсионеры или люди, работающие на закрытых территориях, где нельзя использовать современные смартфоны.\n",
    "- В таблице `data_internet` был обнаружен столбец `Unnamed: 0`, который дублирует индексы. Это могло произойти при выгрузке данных, этот столбец был удален.\n",
    "- В таблицах нет дубликатов, которые нужно удялять, и пропусков, которые нужно заполнять. \n",
    "- Округлили значения в большую в столбце `duration` таблицы `data_calls`, все секунды перевели в минуты, потому что оператор списывает только целое количество минут. Далее этот столбец был измен на тип `int`.\n",
    "- В таблице `data_calls` заменен тип данных на `datetime` в столбце `call_date`.\n",
    "- В таблице `data_internet` заменен тип данных на `datetime` в столбце `session_date`.\n",
    "- В таблице `data_messages` заменен тип данных на `datetime` в столбце `message_date`.\n",
    "- В таблицу `data_calls` добавили столбец `month`, который отражает месяц использования; рассчитали количество сделанных звонков за месяц (`calls_count`) и количество потраченных минут за месяц (`total_durations`).\n",
    "- В таблицу `data_messages` добавили столбец `month`, который отражает месяц использования; рассчитали количество отправленных сообщений за месяц (`messages_count`).\n",
    "- В таблицу `data_internet` добавили столбец `month`, который отражает месяц использования; рассчитали количество потраченного трафика в Мб за месяц (`mb_used`) и количество использованного трафика в Гб (`gb_used`). Столбец `gb_used` округлили до большенго целого значения и перевели в тип `int`.\n",
    "\n",
    "2) Анализ данных\n",
    "- Написали функцию, которая добавляла столбцы `message_over_tariff_fee`, `minutes_over_tariff_fee` и `gb_over_tariff_fee`, описывающие, сколько сверх тарифа абонеты потратили смс, минут и интернета за месяц.\n",
    "- Добавили в таблицу столбцы `total_month_fee` и `tariff`, описывающие стоимость абоненской платы в месяц и название тарифа, которым пользуются клиенты.\n",
    "- Написали функцию, которая рассчитала среднее, дисперсию и стандартное отклонение для тарифов.\n",
    "\n",
    "- Количество использованных минут всех пользователей тарифа `ultra`:\n",
    "    - Среднее столбца `total_durations` тарифа ultra = 526.6233502538071\n",
    "    - Дисперсия столбца `total_durations` тарифа ultra = 100771.22361720211\n",
    "    - Стандартное отклонение столбца `total_durations` тарифа ultra = 317.444835549741\n",
    "- Количество использованных смс всех пользователей тарифа `ultra`:\n",
    "    - Среднее столбца `messages_count` тарифа ultra = 49.36345177664975\n",
    "    - Дисперсия столбца `messages_count` тарифа ultra = 2282.94607539489\n",
    "    - Стандартное отклонение столбца `messages_count` тарифа ultra = 47.78018496610169\n",
    "- Количество использованного трафика всех пользователей тарифа `ultra`: \n",
    "    - Среднее столбца `gb_used` тарифа ultra = 19.494416243654822\n",
    "    - Дисперсия столбца `gb_used` тарифа ultra = 96.99311602978705\n",
    "    - Стандартное отклонение столбца `gb_used` тарифа ultra = 9.8485083149575\n",
    "- Количество использованных смс всех пользователей тарифа `smart`:\n",
    "    - Среднее столбца total_durations тарифа smart = 417.9349484073576\n",
    "    - Дисперсия столбца total_durations тарифа smart = 36203.06665209465\n",
    "    - Стандартное отклонение столбца total_durations тарифа smart = 190.27103471651864\n",
    "- Количество использованных смс всех пользователей тарифа `smart`:\n",
    "    - Среднее столбца messages_count тарифа smart = 33.384028712427096\n",
    "    - Дисперсия столбца messages_count тарифа smart = 796.455482917076\n",
    "    - Стандартное отклонение столбца messages_count тарифа smart = 28.221542886898938\n",
    "- Количество использованного трафика всех пользователей тарифа `smart`: \n",
    "    - Среднее столбца gb_used тарифа smart = 16.328847016599372\n",
    "    - Дисперсия столбца gb_used тарифа smart = 33.01388745483741\n",
    "    - Стандартное отклонение столбца gb_used тарифа smart = 5.7457712671874965\n",
    "- Постоили гистограммы минут для двух тарифов.\n",
    "- Постоили гистограммы смс для двух тарифов.\n",
    "- Постоили гистограммы интернета для двух тарифов.\n",
    "\n",
    "\n",
    "\n",
    "3) Проверка гепотез\n",
    "- Клиентов, использующих тариф \"Ультра\" = 985. А тарифом \"Смарт\" пользуются 2229.\n",
    "Тариф \"Смарт\" выгоднее по условиям и по цене, возможно, поэтому его и использует больше клиентов.\n",
    "\n",
    "- Дисперсия для тарифа смарт намного меньше, чем для тарифа ультра: клиенты \"смарта\" больше походят друг на друга в объемах потребления трафика, пакета минут и смс им по большей части хватает, а вот за интернет в большинстве случаем они доплачивают и не только за 1-2 гб, а даже больше. Можно сказать, что пользователям тарифа \"ультра\" хватает пакета трафика, исходя из подавляющего большинства таких значений.\n",
    "\n",
    "- Cредняя выручка пользователей тарифов «Ультра» и «Смарт» различаются: тариф \"Ультра\" приносит больше денег.\n",
    "\n",
    "- Cредняя выручка пользователей из Москвы не отличается от выручки пользователей из других регионов, значит рекламную кампанию можно не адаптировать конкретно под Москву и другие регионы."
   ]
  },
  {
   "cell_type": "code",
   "execution_count": null,
   "id": "9eaaa013",
   "metadata": {},
   "outputs": [],
   "source": []
  }
 ],
 "metadata": {
  "kernelspec": {
   "display_name": "Python 3 (ipykernel)",
   "language": "python",
   "name": "python3"
  },
  "language_info": {
   "codemirror_mode": {
    "name": "ipython",
    "version": 3
   },
   "file_extension": ".py",
   "mimetype": "text/x-python",
   "name": "python",
   "nbconvert_exporter": "python",
   "pygments_lexer": "ipython3",
   "version": "3.9.7"
  }
 },
 "nbformat": 4,
 "nbformat_minor": 5
}

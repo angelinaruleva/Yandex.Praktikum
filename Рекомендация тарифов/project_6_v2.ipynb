{
 "cells": [
  {
   "cell_type": "markdown",
   "id": "16459580",
   "metadata": {},
   "source": [
    "# Рекомендация тарифов"
   ]
  },
  {
   "cell_type": "markdown",
   "id": "32ef0ea3",
   "metadata": {},
   "source": [
    "## Описание проекта\n",
    "Оператор мобильной связи «Мегалайн» выяснил: многие клиенты пользуются архивными тарифами. Они хотят построить систему, способную проанализировать поведение клиентов и предложить пользователям новый тариф: «Смарт» или «Ультра»."
   ]
  },
  {
   "cell_type": "markdown",
   "id": "598222b3",
   "metadata": {},
   "source": [
    "**Цель исследования** - построить систему, способную проанализировать поведение клиентов и предложить пользователям новый тариф: «Смарт» или «Ультра»."
   ]
  },
  {
   "cell_type": "markdown",
   "id": "30143e0d",
   "metadata": {},
   "source": [
    "### Описание данных\n",
    "\n",
    "- `сalls` — количество звонков\n",
    "- `minutes` — суммарная длительность звонков в минутах\n",
    "- `messages` — количество sms-сообщений\n",
    "- `mb_used` — израсходованный интернет-трафик в Мб\n",
    "- `is_ultra` — каким тарифом пользовался в течение месяца («Ультра» — 1, «Смарт» — 0)."
   ]
  },
  {
   "cell_type": "markdown",
   "id": "38540648",
   "metadata": {},
   "source": [
    "## План исследования\n",
    "\n",
    "- [1. Исследовательский анализ данных](#глава1)  \n",
    "    - [1.1 Загрузка данных](#раздел1.1)  \n",
    "    - [1.2 Информациях о тарифах](#раздел1.2)  \n",
    "- [2. Выбор и обучение модели](#глава2)  \n",
    "    - [2.1 Разделение исходных данных на обучающую, валидационную и тестовую выборки](#раздел2.1)  \n",
    "    - [2.2 Модель решающего дерева](#раздел2.2)  \n",
    "    - [2.3 Модель случайного леса](#раздел2.3)  \n",
    "- [3. Проверка качества модели на тестовой выборке](#глава3)  \n",
    "- [4. Вывод](#глава4)"
   ]
  },
  {
   "cell_type": "markdown",
   "id": "4506b5ae",
   "metadata": {},
   "source": [
    "<a id='глава1'></a>\n",
    "# 1. Исследовательский анализ данных"
   ]
  },
  {
   "cell_type": "markdown",
   "id": "3ec07816",
   "metadata": {},
   "source": [
    "<a id='раздел1.1'></a>\n",
    "## 1.1 Загрузка данных"
   ]
  },
  {
   "cell_type": "markdown",
   "id": "3ded91bf",
   "metadata": {},
   "source": [
    "Выгрузим данные таблицы в следующий датафрейм:"
   ]
  },
  {
   "cell_type": "markdown",
   "id": "27083d61",
   "metadata": {},
   "source": [
    "data - users_behavior.csv"
   ]
  },
  {
   "cell_type": "code",
   "execution_count": 3,
   "id": "897604dc",
   "metadata": {},
   "outputs": [],
   "source": [
    "# Импорт необходимых библиотек\n",
    "import os\n",
    "import pandas as pd\n",
    "import numpy as np\n",
    "import matplotlib.pyplot as plt\n",
    "import seaborn as sns\n",
    "\n",
    "from sklearn.tree import DecisionTreeClassifier\n",
    "from sklearn.ensemble import RandomForestClassifier\n",
    "from sklearn.linear_model import LogisticRegression\n",
    "from sklearn.model_selection import train_test_split\n",
    "from sklearn.metrics import accuracy_score"
   ]
  },
  {
   "cell_type": "code",
   "execution_count": 4,
   "id": "cf78b3fd",
   "metadata": {},
   "outputs": [
    {
     "name": "stdout",
     "output_type": "stream",
     "text": [
      "Успешное чтение файлов\n"
     ]
    }
   ],
   "source": [
    "# Загрузка файла данных\n",
    "\n",
    "data_path_local = 'C:/Users/Asus3/Documents/Яндекс.Практикум/projects/data/project_6/users_behavior.csv'\n",
    "#данные локально\n",
    "'''\n",
    "data_path_local = 'C:/Users/ruleva_ad/Desktop/projects/data/project_6/users_behavior.csv'\n",
    "data_path_local = 'C:/Users/Maroznik/Documents/dev/Яндекс.Практикум/projects/data/project_6/users_behavior.csv'\n",
    "'''\n",
    "#данные на сервере\n",
    "data_path_server = '/datasets/users_behavior.csv'\n",
    "    \n",
    "if os.path.exists(data_path_local):\n",
    "    data = pd.read_csv(data_path_local, sep=',')\n",
    "    print('Успешное чтение файлов')\n",
    "elif os.path.exists(data_path_server):\n",
    "    data = pd.read_csv(data_path_server, sep=',')\n",
    "else:\n",
    "    print('Путь к файлу не найден')"
   ]
  },
  {
   "cell_type": "code",
   "execution_count": 5,
   "id": "3de432bb",
   "metadata": {},
   "outputs": [],
   "source": [
    "pd.set_option('display.max_columns', None)"
   ]
  },
  {
   "cell_type": "markdown",
   "id": "9a7c0f2e",
   "metadata": {},
   "source": [
    "<a id='раздел1.2'></a>\n",
    "## 1.2 Информация о тарифах:"
   ]
  },
  {
   "cell_type": "code",
   "execution_count": 6,
   "id": "da7b97b4",
   "metadata": {},
   "outputs": [
    {
     "data": {
      "text/html": [
       "<div>\n",
       "<style scoped>\n",
       "    .dataframe tbody tr th:only-of-type {\n",
       "        vertical-align: middle;\n",
       "    }\n",
       "\n",
       "    .dataframe tbody tr th {\n",
       "        vertical-align: top;\n",
       "    }\n",
       "\n",
       "    .dataframe thead th {\n",
       "        text-align: right;\n",
       "    }\n",
       "</style>\n",
       "<table border=\"1\" class=\"dataframe\">\n",
       "  <thead>\n",
       "    <tr style=\"text-align: right;\">\n",
       "      <th></th>\n",
       "      <th>calls</th>\n",
       "      <th>minutes</th>\n",
       "      <th>messages</th>\n",
       "      <th>mb_used</th>\n",
       "      <th>is_ultra</th>\n",
       "    </tr>\n",
       "  </thead>\n",
       "  <tbody>\n",
       "    <tr>\n",
       "      <th>0</th>\n",
       "      <td>40.0</td>\n",
       "      <td>311.90</td>\n",
       "      <td>83.0</td>\n",
       "      <td>19915.42</td>\n",
       "      <td>0</td>\n",
       "    </tr>\n",
       "    <tr>\n",
       "      <th>1</th>\n",
       "      <td>85.0</td>\n",
       "      <td>516.75</td>\n",
       "      <td>56.0</td>\n",
       "      <td>22696.96</td>\n",
       "      <td>0</td>\n",
       "    </tr>\n",
       "    <tr>\n",
       "      <th>2</th>\n",
       "      <td>77.0</td>\n",
       "      <td>467.66</td>\n",
       "      <td>86.0</td>\n",
       "      <td>21060.45</td>\n",
       "      <td>0</td>\n",
       "    </tr>\n",
       "    <tr>\n",
       "      <th>3</th>\n",
       "      <td>106.0</td>\n",
       "      <td>745.53</td>\n",
       "      <td>81.0</td>\n",
       "      <td>8437.39</td>\n",
       "      <td>1</td>\n",
       "    </tr>\n",
       "    <tr>\n",
       "      <th>4</th>\n",
       "      <td>66.0</td>\n",
       "      <td>418.74</td>\n",
       "      <td>1.0</td>\n",
       "      <td>14502.75</td>\n",
       "      <td>0</td>\n",
       "    </tr>\n",
       "    <tr>\n",
       "      <th>...</th>\n",
       "      <td>...</td>\n",
       "      <td>...</td>\n",
       "      <td>...</td>\n",
       "      <td>...</td>\n",
       "      <td>...</td>\n",
       "    </tr>\n",
       "    <tr>\n",
       "      <th>3209</th>\n",
       "      <td>122.0</td>\n",
       "      <td>910.98</td>\n",
       "      <td>20.0</td>\n",
       "      <td>35124.90</td>\n",
       "      <td>1</td>\n",
       "    </tr>\n",
       "    <tr>\n",
       "      <th>3210</th>\n",
       "      <td>25.0</td>\n",
       "      <td>190.36</td>\n",
       "      <td>0.0</td>\n",
       "      <td>3275.61</td>\n",
       "      <td>0</td>\n",
       "    </tr>\n",
       "    <tr>\n",
       "      <th>3211</th>\n",
       "      <td>97.0</td>\n",
       "      <td>634.44</td>\n",
       "      <td>70.0</td>\n",
       "      <td>13974.06</td>\n",
       "      <td>0</td>\n",
       "    </tr>\n",
       "    <tr>\n",
       "      <th>3212</th>\n",
       "      <td>64.0</td>\n",
       "      <td>462.32</td>\n",
       "      <td>90.0</td>\n",
       "      <td>31239.78</td>\n",
       "      <td>0</td>\n",
       "    </tr>\n",
       "    <tr>\n",
       "      <th>3213</th>\n",
       "      <td>80.0</td>\n",
       "      <td>566.09</td>\n",
       "      <td>6.0</td>\n",
       "      <td>29480.52</td>\n",
       "      <td>1</td>\n",
       "    </tr>\n",
       "  </tbody>\n",
       "</table>\n",
       "<p>3214 rows × 5 columns</p>\n",
       "</div>"
      ],
      "text/plain": [
       "      calls  minutes  messages   mb_used  is_ultra\n",
       "0      40.0   311.90      83.0  19915.42         0\n",
       "1      85.0   516.75      56.0  22696.96         0\n",
       "2      77.0   467.66      86.0  21060.45         0\n",
       "3     106.0   745.53      81.0   8437.39         1\n",
       "4      66.0   418.74       1.0  14502.75         0\n",
       "...     ...      ...       ...       ...       ...\n",
       "3209  122.0   910.98      20.0  35124.90         1\n",
       "3210   25.0   190.36       0.0   3275.61         0\n",
       "3211   97.0   634.44      70.0  13974.06         0\n",
       "3212   64.0   462.32      90.0  31239.78         0\n",
       "3213   80.0   566.09       6.0  29480.52         1\n",
       "\n",
       "[3214 rows x 5 columns]"
      ]
     },
     "execution_count": 6,
     "metadata": {},
     "output_type": "execute_result"
    }
   ],
   "source": [
    "data"
   ]
  },
  {
   "cell_type": "code",
   "execution_count": 7,
   "id": "cf346e23",
   "metadata": {},
   "outputs": [
    {
     "name": "stdout",
     "output_type": "stream",
     "text": [
      "<class 'pandas.core.frame.DataFrame'>\n",
      "RangeIndex: 3214 entries, 0 to 3213\n",
      "Data columns (total 5 columns):\n",
      " #   Column    Non-Null Count  Dtype  \n",
      "---  ------    --------------  -----  \n",
      " 0   calls     3214 non-null   float64\n",
      " 1   minutes   3214 non-null   float64\n",
      " 2   messages  3214 non-null   float64\n",
      " 3   mb_used   3214 non-null   float64\n",
      " 4   is_ultra  3214 non-null   int64  \n",
      "dtypes: float64(4), int64(1)\n",
      "memory usage: 125.7 KB\n"
     ]
    }
   ],
   "source": [
    "data.info()"
   ]
  },
  {
   "cell_type": "markdown",
   "id": "127cb10b",
   "metadata": {},
   "source": [
    "### Вывод\n",
    "\n",
    "Данные выгружены успешно. По условиям задачи предварительная обработка не требуется. Целевой признак- `is_ultra`, категориальный."
   ]
  },
  {
   "cell_type": "markdown",
   "id": "ff85a863",
   "metadata": {},
   "source": [
    "<a id='раздел1.2.1'></a>\n",
    "### 1.2.1 Столбец `calls` :"
   ]
  },
  {
   "cell_type": "code",
   "execution_count": 8,
   "id": "a1028287",
   "metadata": {},
   "outputs": [
    {
     "data": {
      "text/plain": [
       "count    3214.000000\n",
       "mean       63.038892\n",
       "std        33.236368\n",
       "min         0.000000\n",
       "25%        40.000000\n",
       "50%        62.000000\n",
       "75%        82.000000\n",
       "max       244.000000\n",
       "Name: calls, dtype: float64"
      ]
     },
     "execution_count": 8,
     "metadata": {},
     "output_type": "execute_result"
    }
   ],
   "source": [
    "data['calls'].describe()"
   ]
  },
  {
   "cell_type": "code",
   "execution_count": 9,
   "id": "b1822f28",
   "metadata": {},
   "outputs": [
    {
     "data": {
      "text/plain": [
       "Text(0.5, 1.0, 'Количество звонков')"
      ]
     },
     "execution_count": 9,
     "metadata": {},
     "output_type": "execute_result"
    },
    {
     "data": {
      "image/png": "[encoded data removed]",
      "text/plain": [
       "<Figure size 432x288 with 1 Axes>"
      ]
     },
     "metadata": {
      "needs_background": "light"
     },
     "output_type": "display_data"
    }
   ],
   "source": [
    "plt.ylim(-1, 245)\n",
    "data.boxplot(column=['calls'])\n",
    "plt.title('Количество звонков')"
   ]
  },
  {
   "cell_type": "markdown",
   "id": "bae8f6a2",
   "metadata": {},
   "source": [
    "Видим, что в данных есть небольшие выбросы."
   ]
  },
  {
   "cell_type": "code",
   "execution_count": 10,
   "id": "1c327f25",
   "metadata": {},
   "outputs": [
    {
     "data": {
      "image/png": "[encoded data removed]",
      "text/plain": [
       "<Figure size 432x288 with 1 Axes>"
      ]
     },
     "metadata": {
      "needs_background": "light"
     },
     "output_type": "display_data"
    }
   ],
   "source": [
    "sns.violinplot(x='calls', data=data)\n",
    "plt.title('Количество звонков')\n",
    "plt.grid()\n",
    "plt.show()"
   ]
  },
  {
   "cell_type": "markdown",
   "id": "06ef74e3",
   "metadata": {},
   "source": [
    "<a id='раздел1.2.2'></a>\n",
    "### 1.2.2 Столбец `minutes` :"
   ]
  },
  {
   "cell_type": "code",
   "execution_count": 11,
   "id": "770b4832",
   "metadata": {},
   "outputs": [
    {
     "data": {
      "text/plain": [
       "count    3214.000000\n",
       "mean      438.208787\n",
       "std       234.569872\n",
       "min         0.000000\n",
       "25%       274.575000\n",
       "50%       430.600000\n",
       "75%       571.927500\n",
       "max      1632.060000\n",
       "Name: minutes, dtype: float64"
      ]
     },
     "execution_count": 11,
     "metadata": {},
     "output_type": "execute_result"
    }
   ],
   "source": [
    "# minutes\n",
    "data['minutes'].describe()"
   ]
  },
  {
   "cell_type": "code",
   "execution_count": 12,
   "id": "5efd9cdd",
   "metadata": {},
   "outputs": [
    {
     "data": {
      "text/plain": [
       "Text(0.5, 1.0, 'Количество потраченных минут')"
      ]
     },
     "execution_count": 12,
     "metadata": {},
     "output_type": "execute_result"
    },
    {
     "data": {
      "image/png": "[encoded data removed]",
      "text/plain": [
       "<Figure size 432x288 with 1 Axes>"
      ]
     },
     "metadata": {
      "needs_background": "light"
     },
     "output_type": "display_data"
    }
   ],
   "source": [
    "plt.ylim(-5, 1660)\n",
    "data.boxplot(column=['minutes'])\n",
    "plt.title('Количество потраченных минут')"
   ]
  },
  {
   "cell_type": "code",
   "execution_count": 13,
   "id": "954c773a",
   "metadata": {},
   "outputs": [
    {
     "data": {
      "image/png": "[encoded data removed]",
      "text/plain": [
       "<Figure size 432x288 with 1 Axes>"
      ]
     },
     "metadata": {
      "needs_background": "light"
     },
     "output_type": "display_data"
    }
   ],
   "source": [
    "sns.violinplot(x='minutes', data=data)\n",
    "plt.title('Количество потраченных минут')\n",
    "plt.grid()\n",
    "plt.show()"
   ]
  },
  {
   "cell_type": "markdown",
   "id": "737e97fc",
   "metadata": {},
   "source": [
    "<a id='раздел1.2.3'></a>\n",
    "### 1.2.3 Столбец `messages` :"
   ]
  },
  {
   "cell_type": "code",
   "execution_count": 14,
   "id": "6d0bc814",
   "metadata": {},
   "outputs": [
    {
     "data": {
      "text/plain": [
       "count    3214.000000\n",
       "mean       38.281269\n",
       "std        36.148326\n",
       "min         0.000000\n",
       "25%         9.000000\n",
       "50%        30.000000\n",
       "75%        57.000000\n",
       "max       224.000000\n",
       "Name: messages, dtype: float64"
      ]
     },
     "execution_count": 14,
     "metadata": {},
     "output_type": "execute_result"
    }
   ],
   "source": [
    "#  messages\n",
    "data['messages'].describe()"
   ]
  },
  {
   "cell_type": "code",
   "execution_count": 15,
   "id": "df15ab97",
   "metadata": {},
   "outputs": [
    {
     "data": {
      "text/plain": [
       "Text(0.5, 1.0, 'Количество потраченных сообщений')"
      ]
     },
     "execution_count": 15,
     "metadata": {},
     "output_type": "execute_result"
    },
    {
     "data": {
      "image/png": "[encoded data removed]",
      "text/plain": [
       "<Figure size 432x288 with 1 Axes>"
      ]
     },
     "metadata": {
      "needs_background": "light"
     },
     "output_type": "display_data"
    }
   ],
   "source": [
    "plt.ylim(-1, 250)\n",
    "data.boxplot(column=['messages'])\n",
    "plt.title('Количество потраченных сообщений')"
   ]
  },
  {
   "cell_type": "code",
   "execution_count": 16,
   "id": "f5f3ee0b",
   "metadata": {},
   "outputs": [
    {
     "data": {
      "image/png": "[encoded data removed]",
      "text/plain": [
       "<Figure size 432x288 with 1 Axes>"
      ]
     },
     "metadata": {
      "needs_background": "light"
     },
     "output_type": "display_data"
    }
   ],
   "source": [
    "sns.violinplot(x='messages', data=data)\n",
    "plt.title('Количество отправленных сообщений')\n",
    "plt.grid()\n",
    "plt.show()"
   ]
  },
  {
   "cell_type": "markdown",
   "id": "f27088b3",
   "metadata": {},
   "source": [
    "<a id='раздел1.2.4'></a>\n",
    "### 1.2.4 Столбец `mb_used` :"
   ]
  },
  {
   "cell_type": "code",
   "execution_count": 17,
   "id": "4ef95c68",
   "metadata": {},
   "outputs": [
    {
     "data": {
      "text/plain": [
       "count     3214.000000\n",
       "mean     17207.673836\n",
       "std       7570.968246\n",
       "min          0.000000\n",
       "25%      12491.902500\n",
       "50%      16943.235000\n",
       "75%      21424.700000\n",
       "max      49745.730000\n",
       "Name: mb_used, dtype: float64"
      ]
     },
     "execution_count": 17,
     "metadata": {},
     "output_type": "execute_result"
    }
   ],
   "source": [
    "#  mb_used\n",
    "data['mb_used'].describe()"
   ]
  },
  {
   "cell_type": "code",
   "execution_count": 18,
   "id": "d2d6bdd4",
   "metadata": {},
   "outputs": [
    {
     "data": {
      "text/plain": [
       "Text(0.5, 1.0, 'Количество потраченного трафика')"
      ]
     },
     "execution_count": 18,
     "metadata": {},
     "output_type": "execute_result"
    },
    {
     "data": {
      "image/png": "[encoded data removed]",
      "text/plain": [
       "<Figure size 432x288 with 1 Axes>"
      ]
     },
     "metadata": {
      "needs_background": "light"
     },
     "output_type": "display_data"
    }
   ],
   "source": [
    "plt.ylim(-100, 51000)\n",
    "data.boxplot(column=['mb_used'])\n",
    "plt.title('Количество потраченного трафика')"
   ]
  },
  {
   "cell_type": "code",
   "execution_count": 19,
   "id": "986c666d",
   "metadata": {},
   "outputs": [
    {
     "data": {
      "image/png": "[encoded data removed]",
      "text/plain": [
       "<Figure size 432x288 with 1 Axes>"
      ]
     },
     "metadata": {
      "needs_background": "light"
     },
     "output_type": "display_data"
    }
   ],
   "source": [
    "sns.violinplot(x='mb_used', data=data)\n",
    "plt.title('Количество потраченного трафика')\n",
    "plt.grid()\n",
    "plt.show()"
   ]
  },
  {
   "cell_type": "markdown",
   "id": "bc7bdf25",
   "metadata": {},
   "source": [
    "<a id='раздел1.2.5'></a>\n",
    "### 1.2.5 Столбец `is_ultra` :"
   ]
  },
  {
   "cell_type": "code",
   "execution_count": 20,
   "id": "171d8080",
   "metadata": {},
   "outputs": [
    {
     "data": {
      "image/png": "[encoded data removed]",
      "text/plain": [
       "<Figure size 432x288 with 1 Axes>"
      ]
     },
     "metadata": {
      "needs_background": "light"
     },
     "output_type": "display_data"
    }
   ],
   "source": [
    "# sns.set(style=\"darkgrid\")\n",
    "# ax = sns.countplot(x=\"is_ultra\", data=data)\n",
    "\n",
    "sns.countplot(x='is_ultra',  data=data)\n",
    "plt.xticks(rotation = 30)\n",
    "plt.title('Используемые тарифы')\n",
    "plt.grid()\n",
    "plt.show()"
   ]
  },
  {
   "cell_type": "markdown",
   "id": "3fe688d6",
   "metadata": {},
   "source": [
    "### Вывод\n",
    "\n",
    "В данных есть выбросы, это может снизить качество модели, но по условию задачи предварительная обработка не требуется. Целевой признак- `is_ultra`, категориальный."
   ]
  },
  {
   "cell_type": "markdown",
   "id": "44011469",
   "metadata": {},
   "source": [
    "<a id='глава2'></a>\n",
    "# 2. Выбор и обучение модели"
   ]
  },
  {
   "cell_type": "markdown",
   "id": "43727789",
   "metadata": {},
   "source": [
    "<a id='раздел2.1'></a>\n",
    "## 2.1 Разделение исходных данных на обучающую, валидационную и тестовую выборки."
   ]
  },
  {
   "cell_type": "markdown",
   "id": "19100c67",
   "metadata": {},
   "source": [
    "Данные нужно разбить на три части: обучающую, валидационную и тестовую. Размеры тестового и валидационного наборов равны.\n",
    "\n",
    "Разделение производим в пропорции 3:1:1."
   ]
  },
  {
   "cell_type": "code",
   "execution_count": 21,
   "id": "2cc791eb",
   "metadata": {},
   "outputs": [],
   "source": [
    "data_train, data_all_valid = train_test_split(data, test_size=0.4, random_state=12345) \n",
    "features_train = data_train.drop(['is_ultra'], axis=1)\n",
    "target_train = data_train['is_ultra']\n",
    "data_valid, data_test = train_test_split(data_all_valid, test_size=0.5, random_state=12345) \n",
    "features_valid = data_valid.drop(['is_ultra'], axis=1)\n",
    "target_valid = data_valid['is_ultra']\n",
    "features_test = data_test.drop(['is_ultra'], axis=1)\n",
    "target_test = data_test['is_ultra']"
   ]
  },
  {
   "cell_type": "markdown",
   "id": "518189fc",
   "metadata": {},
   "source": [
    "**Вывод**\n",
    "\n",
    "Разделение произведено успешно."
   ]
  },
  {
   "cell_type": "markdown",
   "id": "51a3aecb",
   "metadata": {},
   "source": [
    "<a id='раздел2.2'></a>\n",
    "## 2.2 Модель решающего дерева"
   ]
  },
  {
   "cell_type": "code",
   "execution_count": 22,
   "id": "eac205e2",
   "metadata": {},
   "outputs": [
    {
     "name": "stdout",
     "output_type": "stream",
     "text": [
      "Accuracy лучшей модели: 0.7853810264385692 \n",
      "Depth лучшей модели: 3\n"
     ]
    }
   ],
   "source": [
    "best_decision_tree_model = None\n",
    "best_decision_tree_result = 0\n",
    "best_decision_tree_depth = 0\n",
    "for depth in range(1, 6):\n",
    "    decision_tree_model = DecisionTreeClassifier(random_state=12345, max_depth=depth)\n",
    "    decision_tree_model.fit(features_train, target_train)\n",
    "    predictions = decision_tree_model.predict(features_valid) \n",
    "    result = accuracy_score(target_valid, predictions) \n",
    "    if result > best_decision_tree_result:\n",
    "        best_decision_tree_model = decision_tree_model\n",
    "        best_decision_tree_result = result  \n",
    "        best_decision_tree_depth = depth\n",
    "        \n",
    "print(\"Accuracy лучшей модели:\", best_decision_tree_result, \"\\nDepth лучшей модели:\", best_decision_tree_depth)"
   ]
  },
  {
   "cell_type": "markdown",
   "id": "0aa86e38",
   "metadata": {},
   "source": [
    "<a id='раздел2.3'></a>\n",
    "## 2.3 Модель случайного леса"
   ]
  },
  {
   "cell_type": "code",
   "execution_count": 34,
   "id": "041fbdf0",
   "metadata": {},
   "outputs": [
    {
     "name": "stdout",
     "output_type": "stream",
     "text": [
      "Accuracy наилучшей модели на валидационной выборке: 0.7931570762052877 \n",
      "Est лучшей модели: 18\n"
     ]
    }
   ],
   "source": [
    "best_random_forest_model = None\n",
    "best_random_forest_result = 0\n",
    "best_random_forest_est = 0\n",
    "for est in range(1, 20):\n",
    "    random_forest_model = RandomForestClassifier(random_state=12345, n_estimators=est) \n",
    "    random_forest_model.fit(features_train, target_train)\n",
    "    result = random_forest_model.score(features_valid, target_valid)\n",
    "    if result > best_random_forest_result:\n",
    "        best_random_forest_model = random_forest_model\n",
    "        best_random_forest_result = result\n",
    "        best_random_forest_est = est\n",
    "\n",
    "print(\"Accuracy наилучшей модели на валидационной выборке:\", best_random_forest_result, \"\\nEst лучшей модели:\", best_random_forest_est)"
   ]
  },
  {
   "cell_type": "markdown",
   "id": "8cc606a9",
   "metadata": {},
   "source": [
    "<a id='раздел2.4'></a>\n",
    "## 2.4 Модель логистической регрессии"
   ]
  },
  {
   "cell_type": "code",
   "execution_count": 35,
   "id": "c76366a2",
   "metadata": {},
   "outputs": [
    {
     "name": "stdout",
     "output_type": "stream",
     "text": [
      "Accuracy наилучшей модели на валидационной выборке: 0.7107309486780715 \n",
      "Iter лучшей модели: 100\n"
     ]
    }
   ],
   "source": [
    "best_logistic_regression_model = None\n",
    "best_logistic_regression_result = 0\n",
    "best_logistic_regression_iter = 0\n",
    "for i in range(100, 1000, 100):\n",
    "    logistic_regression_model = LogisticRegression(random_state=12345, solver='lbfgs', max_iter=i)\n",
    "    logistic_regression_model.fit(features_train, target_train)\n",
    "    predictions = logistic_regression_model.predict(features_valid)\n",
    "    result = logistic_regression_model.score(features_valid, target_valid)\n",
    "    if result > best_logistic_regression_result:\n",
    "        best_logistic_regression_model = logistic_regression_model\n",
    "        best_logistic_regression_result = result\n",
    "        best_logistic_regression_iter = i\n",
    "\n",
    "print(\"Accuracy наилучшей модели на валидационной выборке:\", best_logistic_regression_result, \"\\nIter лучшей модели:\", best_logistic_regression_iter)"
   ]
  },
  {
   "cell_type": "markdown",
   "id": "11f989a5",
   "metadata": {},
   "source": [
    "**Вывод**\n",
    "\n",
    "Наилучшей одинаковой точностью на валидационной выборке обладают модели решающего древа (при max_depth = 3) и случайного леса (при n_estimators = 18): Accuracy наилучшей модели на валидационной выборке = 0.7931570762052877.\n",
    "\n",
    "Для модели логистической регрессии Accuracy наилучшей модели (при max_iter = 100) на валидационной выборке = 0.7107309486780715, что хуже результатов предыдущих моделей."
   ]
  },
  {
   "cell_type": "markdown",
   "id": "7faeaae9",
   "metadata": {},
   "source": [
    "<a id='глава3'></a>\n",
    "# 3. Проверка качества модели на тестовой выборке"
   ]
  },
  {
   "cell_type": "markdown",
   "id": "c17cd83f",
   "metadata": {},
   "source": [
    "Сравним качество модели случайного леса на тестовой выборке:"
   ]
  },
  {
   "cell_type": "code",
   "execution_count": 39,
   "id": "4053894b",
   "metadata": {
    "scrolled": true
   },
   "outputs": [
    {
     "name": "stdout",
     "output_type": "stream",
     "text": [
      "Accuracy наилучшей модели на тестовой выборке: 0.7853810264385692\n"
     ]
    }
   ],
   "source": [
    "result = best_random_forest_model.score(features_test, target_test)\n",
    "print('Accuracy наилучшей модели на тестовой выборке:', result)"
   ]
  },
  {
   "cell_type": "markdown",
   "id": "c570a29a",
   "metadata": {},
   "source": [
    "<a id='глава4'></a>\n",
    "# 4. Вывод"
   ]
  },
  {
   "cell_type": "markdown",
   "id": "1b5b1b58",
   "metadata": {},
   "source": [
    "Результаты, полученые на тестовой выборке, схожи с результатами, полученным на валидационной выборке:  Accuracy наилучшей модели на валидационной выборке = 0.7931570762052877, Accuracy наилучшей модели на тестовой выборке: 0.7869362363919129"
   ]
  },
  {
   "cell_type": "code",
   "execution_count": 40,
   "id": "c1668bdd",
   "metadata": {},
   "outputs": [],
   "source": [
    "#<a id='раздел3.1'></a>\n",
    "## 3.1 Наилучшая модель решающего дерева.\n",
    "# predictions = best_decision_tree_model.predict(features_test) \n",
    "# result = accuracy_score(target_test, predictions) \n",
    "# print(\"Accuracy наилучшей модели на тестовой выборке:\", result)\n",
    "\n",
    "\n",
    "#<a id='раздел3.2'></a>\n",
    "## 3.2 Наилучшая модель случайного леса\n",
    "#result = best_random_forest_model.score(features_test, target_test)\n",
    "#print('Accuracy наилучшей модели на тестовой выборке:', result)\n",
    "\n",
    "#<a id='раздел3.3'></a>\n",
    "## 3.3 Наилучшая модель логистической регрессии\n",
    "# predictions = best_logistic_regression_model.predict(features_test)\n",
    "# result = best_logistic_regression_model.score(features_test, target_test)\n",
    "# print('Accuracy наилучшей модели на тестовой выборке:', result)"
   ]
  },
  {
   "cell_type": "code",
   "execution_count": null,
   "id": "4fea99ef",
   "metadata": {},
   "outputs": [],
   "source": []
  }
 ],
 "metadata": {
  "kernelspec": {
   "display_name": "Python 3 (ipykernel)",
   "language": "python",
   "name": "python3"
  },
  "language_info": {
   "codemirror_mode": {
    "name": "ipython",
    "version": 3
   },
   "file_extension": ".py",
   "mimetype": "text/x-python",
   "name": "python",
   "nbconvert_exporter": "python",
   "pygments_lexer": "ipython3",
   "version": "3.9.7"
  }
 },
 "nbformat": 4,
 "nbformat_minor": 5
}
